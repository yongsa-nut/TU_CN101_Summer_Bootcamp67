{
  "nbformat": 4,
  "nbformat_minor": 0,
  "metadata": {
    "colab": {
      "provenance": [],
      "authorship_tag": "ABX9TyNoMJUpP6qlPJN+H8IBwKnU",
      "include_colab_link": true
    },
    "kernelspec": {
      "name": "python3",
      "display_name": "Python 3"
    },
    "language_info": {
      "name": "python"
    }
  },
  "cells": [
    {
      "cell_type": "markdown",
      "metadata": {
        "id": "view-in-github",
        "colab_type": "text"
      },
      "source": [
        "<a href=\"https://colab.research.google.com/github/yongsa-nut/TU_CN101_Summer_Bootcamp67/blob/main/Condition_Exercise.ipynb\" target=\"_parent\"><img src=\"https://colab.research.google.com/assets/colab-badge.svg\" alt=\"Open In Colab\"/></a>"
      ]
    },
    {
      "cell_type": "markdown",
      "source": [
        "**Q1**: What will the following code print out?\n",
        "\n",
        "```\n",
        "x = 10\n",
        "if x > 20:\n",
        "  print(\"A\")\n",
        "if x == 10:\n",
        "  print(\"B\")\n",
        "if x <= 10:\n",
        "  print(\"C\")\n",
        "```"
      ],
      "metadata": {
        "id": "coATHaiMvpx1"
      }
    },
    {
      "cell_type": "code",
      "execution_count": null,
      "metadata": {
        "id": "ei684uHMvjtX"
      },
      "outputs": [],
      "source": []
    },
    {
      "cell_type": "markdown",
      "source": [
        "**Q2**: What will the following code print out?\n",
        "\n",
        "```\n",
        "x = 20\n",
        "y = 12\n",
        "print(f\"{x > y}, {x < y}, {x == y}, {x != y}\")\n",
        "```"
      ],
      "metadata": {
        "id": "4X-zX3AkvqG6"
      }
    },
    {
      "cell_type": "code",
      "source": [],
      "metadata": {
        "id": "28_wgidxvqT_"
      },
      "execution_count": null,
      "outputs": []
    },
    {
      "cell_type": "markdown",
      "source": [
        "**Q3**: Fill in the code (`_`) below with a boolean operator so that the program will output False."
      ],
      "metadata": {
        "id": "5IM7GgeDvqck"
      }
    },
    {
      "cell_type": "code",
      "source": [
        "x = 20\n",
        "y = 30\n",
        "truth_value = (x != y) _ (x == y) # Here\n",
        "print(truth_value)"
      ],
      "metadata": {
        "id": "LV9ZAtLQvqpl"
      },
      "execution_count": null,
      "outputs": []
    },
    {
      "cell_type": "markdown",
      "source": [
        "**Q4**: Fill in the code below so that the program will output 'Second'."
      ],
      "metadata": {
        "id": "-NyktGb-vqy7"
      }
    },
    {
      "cell_type": "code",
      "source": [
        "num =      # fill in the value here\n",
        "if num < 10 or num > 15:\n",
        "  print('First')\n",
        "else:\n",
        "  if num % 2 == 0 and num <= 13:\n",
        "    print('Second')\n",
        "  else:\n",
        "    print('Third')"
      ],
      "metadata": {
        "id": "BpQu-xJnvrCi"
      },
      "execution_count": null,
      "outputs": []
    },
    {
      "cell_type": "markdown",
      "source": [
        "**Q5**: Even or Odd?\n",
        "\n",
        "Write a program that receives an input from the user.\n",
        "\n",
        "Print out 'Even' if the input is an even number and print out 'Odd' if the input is an odd number.\n",
        "\n",
        "Hint: Use can use `%` to determine even or odd.\n",
        "\n",
        "Example 1:\n",
        "```\n",
        "Enter your number: 31\n",
        "Odd\n",
        "```\n",
        "Example 2:\n",
        "```\n",
        "Enter your number: 24\n",
        "Even\n",
        "```"
      ],
      "metadata": {
        "id": "unNFkKMDvrTq"
      }
    },
    {
      "cell_type": "code",
      "source": [],
      "metadata": {
        "id": "ntrqhhoLvrix"
      },
      "execution_count": null,
      "outputs": []
    },
    {
      "cell_type": "markdown",
      "source": [
        "**Q6**: Tax brackets\n",
        "Write a program to classify the tax rate based on the user's yearl income.\n",
        "\n",
        "The tax bracket for a single person is given below.\n",
        "- Income: 0 - 11,600. Tax = 10%\n",
        "- Income: 11,601 - 47,150. Tax = 12%\n",
        "- Income: 47,151 - 100,525. Tax = 22%\n",
        "- Income: > 100,526. Tax = 24%\n",
        "\n",
        "Example 1:\n",
        "```\n",
        "Enter your yearly income: 5000\n",
        "Tax = 10%\n",
        "```\n",
        "\n",
        "Example 2:\n",
        "```\n",
        "Enter your yearly income: 13000\n",
        "Tax = 12%\n",
        "```\n",
        "\n",
        "Example 3\n",
        "```\n",
        "Enter your yearly income: 67890\n",
        "Tax = 22%\n",
        "```\n",
        "\n",
        "Example 4\n",
        "```\n",
        "Enter your yearly income: 300000\n",
        "Tax = 24%\n",
        "```\n"
      ],
      "metadata": {
        "id": "ix9l8E3lvr6G"
      }
    },
    {
      "cell_type": "code",
      "source": [
        "\n"
      ],
      "metadata": {
        "id": "zQW2KxHYvsG5"
      },
      "execution_count": null,
      "outputs": []
    },
    {
      "cell_type": "markdown",
      "source": [
        "**Q7**: Cashier Program ver 2.\n",
        "\n",
        "Write a program that takes in the number of products that a customer buys. <br> There are three products: donut, cupcake, and popcorn. <br> The price of donut is 10 baht each; the price of cupcake is 20 baht each; and the price of popcorn is 40 baht each. <br> Calculate the total payment and apply the discount as listed below.\n",
        "\n",
        "* Customers receive 20% off on donuts when purchasing 20 or more donuts.\n",
        "* Customers receive 10% off on donuts when purchasing 10 or more donuts.\n",
        "\n",
        "**Input:**\n",
        "- The number of donut, cupcake, and popcorn.\n",
        "\n",
        "**Output:**\n",
        "- The original payment in two decimal.\n",
        "- The discounted payment.\n",
        "\n",
        "Example\n",
        "```\n",
        "Enter the number of donut: 30\n",
        "Enter the number of cupcake: 20\n",
        "Enter the number of popcorn:  5\n",
        "The total payment befor discount is 900.00 baht.\n",
        "The payment after discount is 800.00 baht.\n",
        "```\n",
        "\n",
        "```\n",
        "Enter the number of donut: 5\n",
        "Enter the number of cupcake: 20\n",
        "Enter the number of popcorn:  3\n",
        "The total payment befor discount is 570.00 baht.\n",
        "The payment after discount is 530.00 baht.\n",
        "```\n",
        "\n",
        "```\n",
        "Enter the number of donut: 10\n",
        "Enter the number of cupcake: 10\n",
        "Enter the number of popcorn:  5\n",
        "The total payment befor discount is 500.00 baht.\n",
        "The payment after discount is 480.00 baht.\n",
        "```"
      ],
      "metadata": {
        "id": "bhCo1EjUvxST"
      }
    },
    {
      "cell_type": "code",
      "source": [],
      "metadata": {
        "id": "sW2BmPiavxBq"
      },
      "execution_count": null,
      "outputs": []
    }
  ]
}