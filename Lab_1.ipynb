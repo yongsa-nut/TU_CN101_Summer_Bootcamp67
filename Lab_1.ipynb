{
  "nbformat": 4,
  "nbformat_minor": 0,
  "metadata": {
    "colab": {
      "provenance": [],
      "authorship_tag": "ABX9TyOZvDm7PK7V8r3ktmmWT+Dr",
      "include_colab_link": true
    },
    "kernelspec": {
      "name": "python3",
      "display_name": "Python 3"
    },
    "language_info": {
      "name": "python"
    }
  },
  "cells": [
    {
      "cell_type": "markdown",
      "metadata": {
        "id": "view-in-github",
        "colab_type": "text"
      },
      "source": [
        "<a href=\"https://colab.research.google.com/github/yongsa-nut/TU_CN101_Summer_Bootcamp67/blob/main/Lab_1.ipynb\" target=\"_parent\"><img src=\"https://colab.research.google.com/assets/colab-badge.svg\" alt=\"Open In Colab\"/></a>"
      ]
    },
    {
      "cell_type": "markdown",
      "source": [
        "**Q1**: Fill in the blanks with math operators so that the statement below print out the following:\n",
        "\n",
        "```\n",
        "1 2 2.5 25\n",
        "```"
      ],
      "metadata": {
        "id": "kJxJ_Cn-oWxE"
      }
    },
    {
      "cell_type": "code",
      "execution_count": null,
      "metadata": {
        "id": "gxUQYzLNndQ7"
      },
      "outputs": [],
      "source": [
        "print(5 __ 2, 5 __ 2, 5 __ 2, 5 __ 2)"
      ]
    },
    {
      "cell_type": "markdown",
      "source": [
        "**Q2**: Fill in the blank so that the program print out 4 2 0 -2 -4"
      ],
      "metadata": {
        "id": "GbIeR5fboXEI"
      }
    },
    {
      "cell_type": "code",
      "source": [
        "for i in range(______):\n",
        "  print(i, end=' ')"
      ],
      "metadata": {
        "id": "t-Y_gPQeoXQq"
      },
      "execution_count": null,
      "outputs": []
    },
    {
      "cell_type": "markdown",
      "source": [
        "**Q3**: Fill a number in the blank so that the following program print out 'D'"
      ],
      "metadata": {
        "id": "2KBjqmjtoXf7"
      }
    },
    {
      "cell_type": "code",
      "source": [
        "num = __\n",
        "if num >= 49:\n",
        "  print('A')\n",
        "else:\n",
        "  if num < 45 or num > 60:\n",
        "    print('B')\n",
        "  elif num % 5 == 0 or num%2==0:\n",
        "    print('C')\n",
        "  else:\n",
        "    print('D')"
      ],
      "metadata": {
        "id": "Wjn9eMVPoXt_"
      },
      "execution_count": null,
      "outputs": []
    },
    {
      "cell_type": "markdown",
      "source": [
        "**Q4**: Fix the error of the following code. When the user enters 10, the program should print out 50 51"
      ],
      "metadata": {
        "id": "MuFI3u4PoX3W"
      }
    },
    {
      "cell_type": "code",
      "source": [
        "x = input('Enter x:')\n",
        "x *= 5\n",
        "print(x, x+1)"
      ],
      "metadata": {
        "id": "ggVq19jzoYEm"
      },
      "execution_count": null,
      "outputs": []
    },
    {
      "cell_type": "markdown",
      "source": [
        "**Q5**: Date formatting\n",
        "\n",
        "Write a program to receive day, month, year, and the date format ('US', 'JP', 'TH') from the user and then print out the date in that format.\n",
        "\n",
        "The format for 'US' is Month Day Year.\n",
        "\n",
        "The format for 'JP' is Year Month Day.\n",
        "\n",
        "The format for 'TH' is Day Month Year.\n",
        "\n",
        "Example 1:\n",
        "```\n",
        "Enter day: 1\n",
        "Enter month: 10\n",
        "Enter year: 2024\n",
        "Enter format: US\n",
        "Month 10 Day 1 Year 2024\n",
        "```\n",
        "\n",
        "Example 2:\n",
        "```\n",
        "Enter day: 1\n",
        "Enter month: 10\n",
        "Enter year: 2024\n",
        "Enter format: JP\n",
        "Year 2024 Month 10 Day 1\n",
        "```\n",
        "\n",
        "Example 3:\n",
        "```\n",
        "Enter day: 1\n",
        "Enter month: 10\n",
        "Enter year: 2024\n",
        "Enter format: TH\n",
        "Day 1 Month 10 Year 2024\n",
        "```"
      ],
      "metadata": {
        "id": "Ja4w0YLQoaNH"
      }
    },
    {
      "cell_type": "code",
      "source": [],
      "metadata": {
        "id": "tGPr8AYyoaag"
      },
      "execution_count": null,
      "outputs": []
    },
    {
      "cell_type": "markdown",
      "source": [
        "**Q6**: Let's make milk puddings\n",
        "\n",
        "Let's buy some more eggs and milk to make some milk puddings!\n",
        "To make one BIG pudding, it requires 10 eggs and 3 bottles of milk. The inputs will be the price of egg and the price of milk and the number of pudding we want to make. As usual, you will get some discount if you buy a lot of eggs and milks as follow.\n",
        "\n",
        "* If you buy at least 30 eggs, you will get 20% discount on eggs.\n",
        "* If you buy at least 20 bottles of milks, you will get 10% discount on milk.\n",
        "\n",
        "Print out the total cost.\n",
        "\n",
        "**input**\n",
        "* The price of egg\n",
        "* The price of milk\n",
        "* The number of puddings to be made\n",
        "\n",
        "**Output**\n",
        "* The original total cost in two decimal places.\n",
        "* The discounted cost in two decimal places.\n",
        "\n",
        "**Note**\n",
        "* Use Named Constant\n",
        "\n",
        "Examples\n",
        "```\n",
        "Enter the price of an egg: 5\n",
        "Enter the price of milk: 20\n",
        "Enter the number of pudding to be made: 10\n",
        "The original cost is 1100.00\n",
        "The discounted cost is 940.00\n",
        "```\n",
        "\n",
        "```\n",
        "Enter the price of an egg: 10\n",
        "Enter the price of milk: 20\n",
        "Enter the number of pudding to be made: 2\n",
        "The original cost is 320.00\n",
        "The discounted cost is 320.00\n",
        "```\n",
        "\n",
        "```\n",
        "Enter the price of an egg: 10\n",
        "Enter the price of milk: 30\n",
        "Enter the number of pudding to be made: 20\n",
        "The original cost is 3800.00\n",
        "The discounted cost is 3220.00\n",
        "```"
      ],
      "metadata": {
        "id": "8eMOJEdtoj7g"
      }
    },
    {
      "cell_type": "code",
      "source": [],
      "metadata": {
        "id": "VL-lZAcdojrc"
      },
      "execution_count": null,
      "outputs": []
    },
    {
      "cell_type": "markdown",
      "source": [
        "**Q7**: Printing up traingle\n",
        "\n",
        "Write a program that takes in an interger number from a user and then print out a traingle shown below.\n",
        "\n",
        "Example 1:\n",
        "```\n",
        "n = 1\n",
        "*\n",
        "```\n",
        "\n",
        "Example 2:\n",
        "```\n",
        "n = 2\n",
        "*\n",
        "**\n",
        "```\n",
        "\n",
        "Example 3:\n",
        "```\n",
        "n = 5\n",
        "*\n",
        "**\n",
        "***\n",
        "****\n",
        "*****\n",
        "```"
      ],
      "metadata": {
        "id": "uLBiPEWQolC3"
      }
    },
    {
      "cell_type": "code",
      "source": [],
      "metadata": {
        "id": "4zsBV9dWolPw"
      },
      "execution_count": null,
      "outputs": []
    },
    {
      "cell_type": "markdown",
      "source": [
        "**Q8**: Printing outer traingle\n",
        "\n",
        "Write a program that takes in an interger number from a user and then print out an outer traingle shown below.\n",
        "\n",
        "Example 1:\n",
        "```\n",
        "Enter a number: 1\n",
        "*\n",
        "```\n",
        "Example 2:\n",
        "```\n",
        "Enter a number: 2\n",
        "*\n",
        " *\n",
        "```\n",
        "Example 3:\n",
        "```\n",
        "Enter a number: 6\n",
        "*\n",
        " *\n",
        "  *\n",
        "   *\n",
        "    *\n",
        "     *\n",
        "```"
      ],
      "metadata": {
        "id": "9Xordd-eolZs"
      }
    },
    {
      "cell_type": "code",
      "source": [],
      "metadata": {
        "id": "ZtVyhd_xol9F"
      },
      "execution_count": null,
      "outputs": []
    },
    {
      "cell_type": "markdown",
      "source": [
        "**Q9**: Nim Game\n",
        "\n",
        "Write a program to create a Nim game. In this game, there are two players. Each player takes turn to count the number down by 1 or 2. Who count to zero first lose. The starting amount is 10.\n",
        "\n",
        "Example\n",
        "```\n",
        "First player turn: 1\n",
        "Remaining = 9\n",
        "Second player turn: 2\n",
        "Remaining = 7\n",
        "First player turn: 1\n",
        "Remaining = 6\n",
        "Second player turn: 2\n",
        "Remaining = 4\n",
        "First player turn: 1\n",
        "Remaining = 3\n",
        "Second player turn: 2\n",
        "Remaining = 1\n",
        "First player turn: 1\n",
        "Second player wins.\n",
        "```"
      ],
      "metadata": {
        "id": "SowGzawIor8V"
      }
    },
    {
      "cell_type": "code",
      "source": [
        "\n",
        "\n"
      ],
      "metadata": {
        "id": "HmTcy5gaoqa8"
      },
      "execution_count": null,
      "outputs": []
    }
  ]
}