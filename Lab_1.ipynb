{
  "nbformat": 4,
  "nbformat_minor": 0,
  "metadata": {
    "colab": {
      "provenance": [],
      "authorship_tag": "ABX9TyMo22iFle2GwSWW4VZLf4jX",
      "include_colab_link": true
    },
    "kernelspec": {
      "name": "python3",
      "display_name": "Python 3"
    },
    "language_info": {
      "name": "python"
    }
  },
  "cells": [
    {
      "cell_type": "markdown",
      "metadata": {
        "id": "view-in-github",
        "colab_type": "text"
      },
      "source": [
        "<a href=\"https://colab.research.google.com/github/yongsa-nut/TU_CN101_Summer_Bootcamp67/blob/main/Lab_1.ipynb\" target=\"_parent\"><img src=\"https://colab.research.google.com/assets/colab-badge.svg\" alt=\"Open In Colab\"/></a>"
      ]
    },
    {
      "cell_type": "markdown",
      "source": [
        "**Q1**: Fix the error of the following code. When the user enters 10, the program should print out 50 51"
      ],
      "metadata": {
        "id": "MuFI3u4PoX3W"
      }
    },
    {
      "cell_type": "code",
      "source": [
        "x = input('Enter x:')\n",
        "x *= 5\n",
        "print(x, x+1)"
      ],
      "metadata": {
        "id": "ggVq19jzoYEm"
      },
      "execution_count": null,
      "outputs": []
    },
    {
      "cell_type": "markdown",
      "source": [
        "**Q2**: Fill in the blank so the the program prints out 'Yes', when the user input the number between 20 and 30."
      ],
      "metadata": {
        "id": "jPy4hVOgRmb-"
      }
    },
    {
      "cell_type": "code",
      "source": [
        "num = int(input('Enter a number: '))\n",
        "if __________________________________: #fill in your code here\n",
        "  print('Yes')\n",
        "else:\n",
        "  print('No')"
      ],
      "metadata": {
        "id": "yQKNvBKuRxPz"
      },
      "execution_count": null,
      "outputs": []
    },
    {
      "cell_type": "markdown",
      "source": [
        "**Q3**: Fill in the blank so that the program print out as shown below.\n",
        "\n",
        "```\n",
        "Hello\n",
        "Hello\n",
        "Hello\n",
        "Hello\n",
        "```"
      ],
      "metadata": {
        "id": "9iU_7xnlSCv8"
      }
    },
    {
      "cell_type": "code",
      "source": [
        "for i in range(_):\n",
        "  print(\"Hello\")"
      ],
      "metadata": {
        "id": "pQ9bfcR2SCfX"
      },
      "execution_count": null,
      "outputs": []
    },
    {
      "cell_type": "markdown",
      "source": [
        "**Q4**: Fill in the blank so that the program print out `12`"
      ],
      "metadata": {
        "id": "63LjI-qVSbo5"
      }
    },
    {
      "cell_type": "code",
      "source": [
        "total = 0\n",
        "count = 1\n",
        "while count < 5:\n",
        "  total += __   # Here\n",
        "  count += 1\n",
        "print(total)"
      ],
      "metadata": {
        "id": "gH2fulvcSdpA"
      },
      "execution_count": null,
      "outputs": []
    },
    {
      "cell_type": "markdown",
      "source": [
        "**Q5**: Fill in the blank so that the program print out `5`"
      ],
      "metadata": {
        "id": "v0P_fN8vTMka"
      }
    },
    {
      "cell_type": "code",
      "source": [
        "numbers = [1, 2, 3, 4, 5, 4, 3, 2, 1]\n",
        "count = 0\n",
        "for num in numbers:\n",
        "  if ______________________:\n",
        "    count += 1\n",
        "print(count)"
      ],
      "metadata": {
        "id": "0FDypKOnTMye"
      },
      "execution_count": null,
      "outputs": []
    },
    {
      "cell_type": "markdown",
      "source": [
        "**Q6**: Fill in the blanks with math operators so that the statement below print out the following:\n",
        "\n",
        "```\n",
        "1 2 2.5 25\n",
        "```"
      ],
      "metadata": {
        "id": "kJxJ_Cn-oWxE"
      }
    },
    {
      "cell_type": "code",
      "execution_count": null,
      "metadata": {
        "id": "gxUQYzLNndQ7"
      },
      "outputs": [],
      "source": [
        "print(5 __ 2, 5 __ 2, 5 __ 2, 5 __ 2)"
      ]
    },
    {
      "cell_type": "markdown",
      "source": [
        "**Q7**: Fill in the blank so that the program print out 4 2 0 -2 -4"
      ],
      "metadata": {
        "id": "GbIeR5fboXEI"
      }
    },
    {
      "cell_type": "code",
      "source": [
        "for i in range(______):\n",
        "  print(i, end=' ')"
      ],
      "metadata": {
        "id": "t-Y_gPQeoXQq"
      },
      "execution_count": null,
      "outputs": []
    },
    {
      "cell_type": "markdown",
      "source": [
        "**Q8**: Fill a number in the blank so that the following program print out 'D'"
      ],
      "metadata": {
        "id": "2KBjqmjtoXf7"
      }
    },
    {
      "cell_type": "code",
      "source": [
        "num = __\n",
        "if num >= 49:\n",
        "  print('A')\n",
        "else:\n",
        "  if num < 45 or num > 60:\n",
        "    print('B')\n",
        "  elif num % 5 == 0 or num%2==0:\n",
        "    print('C')\n",
        "  else:\n",
        "    print('D')"
      ],
      "metadata": {
        "id": "Wjn9eMVPoXt_"
      },
      "execution_count": null,
      "outputs": []
    },
    {
      "cell_type": "markdown",
      "source": [
        "**Q9**: Date formatting\n",
        "\n",
        "Write a program to receive day, month, year, and the date format ('US', 'JP', 'TH') from the user and then print out the date in that format.\n",
        "\n",
        "The format for 'US' is Month Day Year.\n",
        "\n",
        "The format for 'JP' is Year Month Day.\n",
        "\n",
        "The format for 'TH' is Day Month Year.\n",
        "\n",
        "Example 1:\n",
        "```\n",
        "Enter day: 1\n",
        "Enter month: 10\n",
        "Enter year: 2024\n",
        "Enter format: US\n",
        "Month 10 Day 1 Year 2024\n",
        "```\n",
        "\n",
        "Example 2:\n",
        "```\n",
        "Enter day: 1\n",
        "Enter month: 10\n",
        "Enter year: 2024\n",
        "Enter format: JP\n",
        "Year 2024 Month 10 Day 1\n",
        "```\n",
        "\n",
        "Example 3:\n",
        "```\n",
        "Enter day: 1\n",
        "Enter month: 10\n",
        "Enter year: 2024\n",
        "Enter format: TH\n",
        "Day 1 Month 10 Year 2024\n",
        "```"
      ],
      "metadata": {
        "id": "Ja4w0YLQoaNH"
      }
    },
    {
      "cell_type": "code",
      "source": [
        "\n",
        "\n"
      ],
      "metadata": {
        "id": "tGPr8AYyoaag"
      },
      "execution_count": null,
      "outputs": []
    },
    {
      "cell_type": "markdown",
      "source": [
        "**Q10**: Let's make milk puddings\n",
        "\n",
        "Let's buy some more eggs and milk to make some milk puddings!\n",
        "To make one BIG pudding, it requires 10 eggs and 3 bottles of milk. The inputs will be the price of egg and the price of milk and the number of pudding we want to make. As usual, you will get some discount if you buy a lot of eggs and milks as follow.\n",
        "\n",
        "* If you buy at least 30 eggs, you will get 20% discount on eggs.\n",
        "* If you buy at least 20 bottles of milks, you will get 10% discount on milk.\n",
        "\n",
        "Print out the total cost.\n",
        "\n",
        "**input**\n",
        "* The price of egg\n",
        "* The price of milk\n",
        "* The number of puddings to be made\n",
        "\n",
        "**Output**\n",
        "* The original total cost in two decimal places.\n",
        "* The discounted cost in two decimal places.\n",
        "\n",
        "**Note**\n",
        "* Use Named Constant\n",
        "\n",
        "Examples\n",
        "```\n",
        "Enter the price of an egg: 5\n",
        "Enter the price of milk: 20\n",
        "Enter the number of pudding to be made: 10\n",
        "The original cost is 1100.00\n",
        "The discounted cost is 940.00\n",
        "```\n",
        "\n",
        "```\n",
        "Enter the price of an egg: 10\n",
        "Enter the price of milk: 20\n",
        "Enter the number of pudding to be made: 2\n",
        "The original cost is 320.00\n",
        "The discounted cost is 320.00\n",
        "```\n",
        "\n",
        "```\n",
        "Enter the price of an egg: 10\n",
        "Enter the price of milk: 30\n",
        "Enter the number of pudding to be made: 20\n",
        "The original cost is 3800.00\n",
        "The discounted cost is 3220.00\n",
        "```"
      ],
      "metadata": {
        "id": "8eMOJEdtoj7g"
      }
    },
    {
      "cell_type": "code",
      "source": [
        "\n",
        "\n"
      ],
      "metadata": {
        "id": "VL-lZAcdojrc"
      },
      "execution_count": null,
      "outputs": []
    },
    {
      "cell_type": "markdown",
      "source": [
        "**Q11** Finding a largest number\n",
        "\n",
        "Write a program to find a largest number that the user enters. The program will first ask the user to the number `n` the number of numbers that the user will enter. Afterward, the user will enter `n` numbers. The user will always enter a positive numbers (see examples).\n",
        "\n",
        "Example 1:\n",
        "```\n",
        "n = 3\n",
        "1\n",
        "2\n",
        "3\n",
        "3\n",
        "The largest number is 3\n",
        "```\n",
        "Example 2:\n",
        "```\n",
        "n = 4\n",
        "1000\n",
        "100\n",
        "10\n",
        "1\n",
        "The largest number is 1000\n",
        "```\n",
        "Example 3:\n",
        "```\n",
        "n = 5\n",
        "3\n",
        "999\n",
        "1234\n",
        "888\n",
        "7\n",
        "The largest number is 1234\n",
        "```"
      ],
      "metadata": {
        "id": "z6hWdnoxCq4N"
      }
    },
    {
      "cell_type": "code",
      "source": [
        "n = int(input('n = '))\n",
        "largest = -1  # Use this to maintain the largest number so far\n"
      ],
      "metadata": {
        "id": "Egv_hj4yCqki"
      },
      "execution_count": null,
      "outputs": []
    },
    {
      "cell_type": "markdown",
      "source": [
        "**Q12**: Printing up traingle\n",
        "\n",
        "Write a program that takes in an interger number from a user and then print out a traingle shown below.\n",
        "\n",
        "Example 1:\n",
        "```\n",
        "n = 1\n",
        "*\n",
        "```\n",
        "\n",
        "Example 2:\n",
        "```\n",
        "n = 2\n",
        "*\n",
        "**\n",
        "```\n",
        "\n",
        "Example 3:\n",
        "```\n",
        "n = 5\n",
        "*\n",
        "**\n",
        "***\n",
        "****\n",
        "*****\n",
        "```"
      ],
      "metadata": {
        "id": "uLBiPEWQolC3"
      }
    },
    {
      "cell_type": "code",
      "source": [
        "\n",
        "\n"
      ],
      "metadata": {
        "id": "4zsBV9dWolPw"
      },
      "execution_count": null,
      "outputs": []
    },
    {
      "cell_type": "markdown",
      "source": [
        "**Q13**: Calculate variance Ver 2\n",
        "\n",
        "You are given a list of numbers. Your task is to calculate the variance of the list using the following formula\n",
        "\n",
        "$var = \\frac{∑_i(x_i - \\mu)^2}{n}$,\n",
        "\n",
        "where $\\mu$ is the mean $\\mu = \\frac{1}{n}\\sum_ix_i$.\n",
        "\n",
        "**Hint:** separate the calculation into two parts (two loops)\n"
      ],
      "metadata": {
        "id": "IWXuPB5h88TC"
      }
    },
    {
      "cell_type": "code",
      "source": [
        "# simply use these test_list below to test use your code\n",
        "# Comment out to test other lists\n",
        "test_list = [1,2,3,4,5]           # The answer is 2\n",
        "# test_list = [1,1,1,1,1]           # The answer is 0\n",
        "# test_list = [9,1,4,12,0,-2,4,8]   # The answer is 20.5\n",
        "\n",
        "n = len(test_list)\n",
        "\n",
        "# Your code below\n"
      ],
      "metadata": {
        "id": "3e1cRgzV88l0"
      },
      "execution_count": null,
      "outputs": []
    },
    {
      "cell_type": "markdown",
      "source": [
        "**Q14**: Nim Game\n",
        "\n",
        "Write a program to create a Nim game. In this game, there are two players. Each player takes turn to count the number down by 1 or 2. Who count to zero first lose. The starting amount is 10.\n",
        "\n",
        "**Hint**: You can determine the turn (first or second player) by checking the turn number. If the turn number is odd, then it's the first player. If thet turn number is even, then it's the second player.\n",
        "\n",
        "Example\n",
        "```\n",
        "First player turn: 1\n",
        "Remaining = 9\n",
        "Second player turn: 2\n",
        "Remaining = 7\n",
        "First player turn: 1\n",
        "Remaining = 6\n",
        "Second player turn: 2\n",
        "Remaining = 4\n",
        "First player turn: 1\n",
        "Remaining = 3\n",
        "Second player turn: 2\n",
        "Remaining = 1\n",
        "First player turn: 1\n",
        "Second player wins.\n",
        "```"
      ],
      "metadata": {
        "id": "SowGzawIor8V"
      }
    },
    {
      "cell_type": "code",
      "source": [
        "remaining = 10\n",
        "turn = 1\n",
        "\n"
      ],
      "metadata": {
        "id": "HmTcy5gaoqa8"
      },
      "execution_count": null,
      "outputs": []
    }
  ]
}