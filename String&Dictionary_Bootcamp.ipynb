{
  "nbformat": 4,
  "nbformat_minor": 0,
  "metadata": {
    "colab": {
      "provenance": [],
      "authorship_tag": "ABX9TyPdng1Qzmm+tTAQgC0AISFO",
      "include_colab_link": true
    },
    "kernelspec": {
      "name": "python3",
      "display_name": "Python 3"
    },
    "language_info": {
      "name": "python"
    }
  },
  "cells": [
    {
      "cell_type": "markdown",
      "metadata": {
        "id": "view-in-github",
        "colab_type": "text"
      },
      "source": [
        "<a href=\"https://colab.research.google.com/github/yongsa-nut/TU_CN101_Summer_Bootcamp67/blob/main/String%26Dictionary_Bootcamp.ipynb\" target=\"_parent\"><img src=\"https://colab.research.google.com/assets/colab-badge.svg\" alt=\"Open In Colab\"/></a>"
      ]
    },
    {
      "cell_type": "markdown",
      "source": [
        "# String"
      ],
      "metadata": {
        "id": "ji3wIegdHgbB"
      }
    },
    {
      "cell_type": "markdown",
      "source": [
        "## String\n",
        "* Strings = a sequence of characters\n",
        "* Similar to a list of characters but you cannot change strings.\n",
        "* You can still index and for loop like list.\n"
      ],
      "metadata": {
        "id": "AZIvSYrdIQ-D"
      }
    },
    {
      "cell_type": "code",
      "execution_count": 1,
      "metadata": {
        "colab": {
          "base_uri": "https://localhost:8080/"
        },
        "id": "VRa_3CPLHUNY",
        "outputId": "85b9d4ab-6c02-4af5-e7a6-7621de80aea7"
      },
      "outputs": [
        {
          "output_type": "stream",
          "name": "stdout",
          "text": [
            "a\n",
            "R\n"
          ]
        }
      ],
      "source": [
        "my_string = \"Roses are red\"\n",
        "ch = my_string[6]\n",
        "print(ch)\n",
        "print(my_string[0])"
      ]
    },
    {
      "cell_type": "markdown",
      "source": [
        "## String: for loop"
      ],
      "metadata": {
        "id": "oHy5u83kIaHp"
      }
    },
    {
      "cell_type": "code",
      "source": [
        "name = \"Juliet\"\n",
        "for char in name:\n",
        "  print(char)"
      ],
      "metadata": {
        "colab": {
          "base_uri": "https://localhost:8080/"
        },
        "id": "Rd-yJ5-0Ib95",
        "outputId": "39d32276-b5a4-4e35-92f0-e7360cd3e1e5"
      },
      "execution_count": 2,
      "outputs": [
        {
          "output_type": "stream",
          "name": "stdout",
          "text": [
            "J\n",
            "u\n",
            "l\n",
            "i\n",
            "e\n",
            "t\n"
          ]
        }
      ]
    },
    {
      "cell_type": "code",
      "source": [
        "name = \"Juliet\"\n",
        "for i in range(len(name)):\n",
        "  print(name[i])"
      ],
      "metadata": {
        "colab": {
          "base_uri": "https://localhost:8080/"
        },
        "id": "dL61cZg8If3d",
        "outputId": "3f74af39-b159-4086-db1e-d776daad8f6d"
      },
      "execution_count": 3,
      "outputs": [
        {
          "output_type": "stream",
          "name": "stdout",
          "text": [
            "J\n",
            "u\n",
            "l\n",
            "i\n",
            "e\n",
            "t\n"
          ]
        }
      ]
    },
    {
      "cell_type": "code",
      "source": [
        "# counts the number of times the target letter appears in a string\n",
        "\n",
        "TARGET = \"T\"\n",
        "\n",
        "my_string = input(\"Enter a sentence:\")\n",
        "\n",
        "count = 0\n",
        "for ch in my_string:\n",
        "  if ch == TARGET:\n",
        "    count += 1\n",
        "\n",
        "print(f\"The letter {TARGET} appears {count} times.\")"
      ],
      "metadata": {
        "colab": {
          "base_uri": "https://localhost:8080/"
        },
        "id": "nNF-4-4KIj-p",
        "outputId": "096918de-df4a-4b13-eea1-fe5d0279d57b"
      },
      "execution_count": 4,
      "outputs": [
        {
          "output_type": "stream",
          "name": "stdout",
          "text": [
            "Enter a sentence:Hello There TT\n",
            "The letter T appears 3 times.\n"
          ]
        }
      ]
    },
    {
      "cell_type": "markdown",
      "source": [
        "## Strings Slicing\n",
        "* Slice: span of items taken from a sequence\n",
        "* Slicing format:  `string[start : end: step]`\n",
        "* Expression will return a string containing a copy of the characters from start up to, but not including, end\n",
        " * If start is not specified,  0  is used for start index\n",
        " * If end is not specified,  len(string)  is used for end index\n",
        " * If step is not specified,  1  is used for step value\n",
        " * Negative indexes count from the end of string\n",
        "* Also work with list\n"
      ],
      "metadata": {
        "id": "5Yg5HNT8IzOf"
      }
    },
    {
      "cell_type": "markdown",
      "source": [
        "## Strings Slicing Example\n"
      ],
      "metadata": {
        "id": "7aPkNh2II9id"
      }
    },
    {
      "cell_type": "code",
      "source": [
        "# Slicing Example\n",
        "full_name = \"Patty Lynn Smith\"\n",
        "\n",
        "first_name = full_name[:5]\n",
        "print(first_name)\n",
        "\n",
        "middle_name = full_name[6:10]\n",
        "print(middle_name)\n",
        "\n",
        "last_name = full_name[11:]\n",
        "print(last_name)"
      ],
      "metadata": {
        "colab": {
          "base_uri": "https://localhost:8080/"
        },
        "id": "7XQVenWjI-ys",
        "outputId": "8d2a69c5-7cf8-4ea1-8fc8-807f45bd9b8e"
      },
      "execution_count": 5,
      "outputs": [
        {
          "output_type": "stream",
          "name": "stdout",
          "text": [
            "Patty\n",
            "Lynn\n",
            "Smith\n"
          ]
        }
      ]
    },
    {
      "cell_type": "code",
      "source": [
        "letters = \"ABCDEFGHIJKLMNOPQRSTUVWXYZ\"\n",
        "\n",
        "print(letters[0:26:2])\n",
        "\n",
        "print(letters[::2])\n",
        "\n",
        "print(letters[::-1])"
      ],
      "metadata": {
        "colab": {
          "base_uri": "https://localhost:8080/"
        },
        "id": "YAxOQVRAJFV3",
        "outputId": "0e570d0e-d6ea-4a36-e835-250960140a70"
      },
      "execution_count": 6,
      "outputs": [
        {
          "output_type": "stream",
          "name": "stdout",
          "text": [
            "ACEGIKMOQSUWY\n",
            "ACEGIKMOQSUWY\n",
            "ZYXWVUTSRQPONMLKJIHGFEDCBA\n"
          ]
        }
      ]
    },
    {
      "cell_type": "markdown",
      "source": [
        "## String Operators\n",
        "* `*`  : a repetition operator\n",
        "  * Creates a new string which repeats the old string n times\n",
        "* `+` : a concatenation operator\n",
        "  * Creates a new string which concatenate the two strings together\n",
        "* `in` : finding a string inside another string\n",
        "  * returns True if the string is in another string, False otherwise\n"
      ],
      "metadata": {
        "id": "UozxgjNpJJY9"
      }
    },
    {
      "cell_type": "code",
      "source": [
        "# * Example\n",
        "my_name = \"Alice\"\n",
        "print(my_name*3)"
      ],
      "metadata": {
        "colab": {
          "base_uri": "https://localhost:8080/"
        },
        "id": "x40SkHrMJQdO",
        "outputId": "89790e9b-67c6-4847-e177-062e7ddc4f08"
      },
      "execution_count": 7,
      "outputs": [
        {
          "output_type": "stream",
          "name": "stdout",
          "text": [
            "AliceAliceAlice\n"
          ]
        }
      ]
    },
    {
      "cell_type": "code",
      "source": [
        "# + Example\n",
        "my_name = \"Alice\"\n",
        "print(my_name + 'is a good girl.')"
      ],
      "metadata": {
        "colab": {
          "base_uri": "https://localhost:8080/"
        },
        "id": "NtHu8Vg1JUyL",
        "outputId": "8168897e-040b-4326-cec0-9704d1f61aa8"
      },
      "execution_count": 9,
      "outputs": [
        {
          "output_type": "stream",
          "name": "stdout",
          "text": [
            "Aliceis a good girl.\n"
          ]
        }
      ]
    },
    {
      "cell_type": "code",
      "source": [
        "# in example\n",
        "my_name = \"Alice\"\n",
        "print(\"Al\" in my_name)\n",
        "print(\"a\" in my_name)"
      ],
      "metadata": {
        "colab": {
          "base_uri": "https://localhost:8080/"
        },
        "id": "efFnp1uYJapr",
        "outputId": "f90da291-9f75-41d8-df85-b70c0b9da88c"
      },
      "execution_count": 8,
      "outputs": [
        {
          "output_type": "stream",
          "name": "stdout",
          "text": [
            "True\n",
            "False\n"
          ]
        }
      ]
    },
    {
      "cell_type": "markdown",
      "source": [
        "## String methods: lower() and upper()\n",
        "* `lower()` returns a new string with all alphabets in lower cases\n",
        "* `upper()` returns a new string with all alphabets in upper cases\n"
      ],
      "metadata": {
        "id": "7_MNUsLTJhH8"
      }
    },
    {
      "cell_type": "code",
      "source": [
        "my_name = 'Alice'\n",
        "\n",
        "print(my_name.upper())\n",
        "print(my_name.lower())"
      ],
      "metadata": {
        "colab": {
          "base_uri": "https://localhost:8080/"
        },
        "id": "fhMIWMHaJnOo",
        "outputId": "23b60aa6-29b9-4195-fcc9-5767deb13aca"
      },
      "execution_count": 10,
      "outputs": [
        {
          "output_type": "stream",
          "name": "stdout",
          "text": [
            "ALICE\n",
            "alice\n"
          ]
        }
      ]
    },
    {
      "cell_type": "markdown",
      "source": [
        "## Strings Methods: strip(), rstrip(), lstrip()\n",
        "* Sometimes we want to take a string and remove whitespace at the beginning and/or end\n",
        "* `lstrip()` and `rstrip()` remove whitespace at the left or right\n",
        "* `strip()` removes both beginning and ending whitespace\n"
      ],
      "metadata": {
        "id": "dvpGPBEtKESU"
      }
    },
    {
      "cell_type": "code",
      "source": [
        "# strip ex1:\n",
        "letters = \"  middle  \"\n",
        "\n",
        "print(f\"lstrip: {letters.lstrip()}.\" )\n",
        "print(f\"rstrip: {letters.rstrip()}.\")\n",
        "print(f\"strip: {letters.strip()}.\")"
      ],
      "metadata": {
        "colab": {
          "base_uri": "https://localhost:8080/"
        },
        "id": "PfNXGN3zKdAz",
        "outputId": "41e35a31-b729-44ba-831d-eb7e3b7cd3c3"
      },
      "execution_count": 11,
      "outputs": [
        {
          "output_type": "stream",
          "name": "stdout",
          "text": [
            "lstrip: middle  .\n",
            "rstrip:   middle.\n",
            "strip: middle.\n"
          ]
        }
      ]
    },
    {
      "cell_type": "markdown",
      "source": [
        "## Strings Methods: find()\n",
        "* `find(substring)`: search for  substring  within the string\n",
        "* Returns the lowest index of the substring.\n",
        "* If the  substring  is not in the string, return `-1`.\n"
      ],
      "metadata": {
        "id": "r9ZDN5nyKiFF"
      }
    },
    {
      "cell_type": "code",
      "source": [
        "# find ex:\n",
        "string = \"Four score and seven years ago.\"\n",
        "position = string.find(\"seven\")\n",
        "\n",
        "if position != -1:\n",
        "  print(\"Found at\", position)\n",
        "else:\n",
        "  print(\"Not Found\")"
      ],
      "metadata": {
        "colab": {
          "base_uri": "https://localhost:8080/"
        },
        "id": "TZvVQDxuKnI5",
        "outputId": "a1936a08-1dd4-4a21-ff85-87103a583fe9"
      },
      "execution_count": 12,
      "outputs": [
        {
          "output_type": "stream",
          "name": "stdout",
          "text": [
            "Found at 15\n"
          ]
        }
      ]
    },
    {
      "cell_type": "markdown",
      "source": [
        "## String methods: replace()\n",
        "* `replace(substring, new_string)`:\n",
        "* Returns a copy of the string where every instance of  substring is replaced with  new_string\n",
        "\n"
      ],
      "metadata": {
        "id": "L-g09mGOKsTg"
      }
    },
    {
      "cell_type": "code",
      "source": [
        "# replace ex\n",
        "string = \"Four score and seven years ago.\"\n",
        "new_string = string.replace(\"years\", \"days\")\n",
        "print(new_string)"
      ],
      "metadata": {
        "colab": {
          "base_uri": "https://localhost:8080/"
        },
        "id": "3xKohmMvKxzT",
        "outputId": "5eb91370-2226-4677-af18-048c8f176dbf"
      },
      "execution_count": 13,
      "outputs": [
        {
          "output_type": "stream",
          "name": "stdout",
          "text": [
            "Four score and seven days ago.\n"
          ]
        }
      ]
    },
    {
      "cell_type": "markdown",
      "source": [
        "## Strings Methods: split()\n",
        "* split(params) method: returns a list containing new strings by\n",
        "* splitting the string based on a separator.\n",
        "* By default, uses space as a separator\n",
        "* Can specify a different separator (params) by passing it to the  split method"
      ],
      "metadata": {
        "id": "chthzezkK7XH"
      }
    },
    {
      "cell_type": "code",
      "source": [
        "my_string = 'One Two Three Four'\n",
        "word_list = my_string.split()\n",
        "print(word_list)"
      ],
      "metadata": {
        "colab": {
          "base_uri": "https://localhost:8080/"
        },
        "id": "yCIXNZHWLDQL",
        "outputId": "326759bc-3620-4b77-f57b-effc1837cafa"
      },
      "execution_count": 14,
      "outputs": [
        {
          "output_type": "stream",
          "name": "stdout",
          "text": [
            "['One', 'Two', 'Three', 'Four']\n"
          ]
        }
      ]
    },
    {
      "cell_type": "code",
      "source": [
        "date_string = \"11/26/2018\"\n",
        "date_list = date_string.split(\"/\")\n",
        "print(date_list)\n",
        "\n",
        "print(\"Month: \", date_list[0])\n",
        "print(\"Day: \", date_list[1])\n",
        "print(\"Year: \", date_list[2])"
      ],
      "metadata": {
        "colab": {
          "base_uri": "https://localhost:8080/"
        },
        "id": "s7vuP4_9LKpZ",
        "outputId": "a8898070-3b90-4362-b69b-9459ce24c87f"
      },
      "execution_count": 15,
      "outputs": [
        {
          "output_type": "stream",
          "name": "stdout",
          "text": [
            "['11', '26', '2018']\n",
            "Month:  11\n",
            "Day:  26\n",
            "Year:  2018\n"
          ]
        }
      ]
    },
    {
      "cell_type": "markdown",
      "source": [
        "# Dictionary\n",
        "\n"
      ],
      "metadata": {
        "id": "h4S2oyapHhws"
      }
    },
    {
      "cell_type": "markdown",
      "source": [
        "## List vs Dictionary\n",
        "* **List**: A linear collection of values lookup by position 0, …, length - 1.\n",
        "* **Dictionary**: A collection of key-value pairs lookup by 'key'"
      ],
      "metadata": {
        "id": "YeJMRGivLgrH"
      }
    },
    {
      "cell_type": "markdown",
      "source": [
        "## Creating Dictionary\n",
        "* Dictionary literals use curly braces and have key : value pairs\n",
        "* You can make an empty dictionary using empty curly braces\n"
      ],
      "metadata": {
        "id": "fddRwXgqLoci"
      }
    },
    {
      "cell_type": "code",
      "source": [
        "my_dict = {'Alice':1, 'Anna':2, 'Bob':3}\n",
        "print(my_dict)"
      ],
      "metadata": {
        "id": "ZkvUxwPzMn1U"
      },
      "execution_count": null,
      "outputs": []
    },
    {
      "cell_type": "code",
      "source": [
        "my_dict = {}\n",
        "my_dict['Alice'] = 1\n",
        "my_dict['Anna']  = 2\n",
        "my_dict['Bob']   = 3\n",
        "print(my_dict)"
      ],
      "metadata": {
        "colab": {
          "base_uri": "https://localhost:8080/"
        },
        "id": "iTMchFFZHiwi",
        "outputId": "35c609bd-8fc8-4c0e-c128-99e1aa1dbeb4"
      },
      "execution_count": 16,
      "outputs": [
        {
          "output_type": "stream",
          "name": "stdout",
          "text": [
            "{'Alice': 1, 'Anna': 2, 'Bob': 3}\n"
          ]
        }
      ]
    },
    {
      "cell_type": "code",
      "source": [
        "ddd = {}\n",
        "ddd['age'] = 21\n",
        "ddd['course'] = 182\n",
        "print(ddd)\n",
        "ddd['age'] = 23\n",
        "print(ddd)"
      ],
      "metadata": {
        "colab": {
          "base_uri": "https://localhost:8080/"
        },
        "id": "iGaSQPnEM4kT",
        "outputId": "8c1e0dc4-8c01-4115-f0c9-2b28b2ef4320"
      },
      "execution_count": 17,
      "outputs": [
        {
          "output_type": "stream",
          "name": "stdout",
          "text": [
            "{'age': 21, 'course': 182}\n",
            "{'age': 23, 'course': 182}\n"
          ]
        }
      ]
    },
    {
      "cell_type": "markdown",
      "source": [
        "## Dictionary Common Usage: Counting things\n",
        "\n",
        "* Given a list of things (e.g., names), what is the most common thing (name)?\n"
      ],
      "metadata": {
        "id": "KQ1NT0RxNAyL"
      }
    },
    {
      "cell_type": "code",
      "source": [
        "names = {}\n",
        "names['Alice'] = 1\n",
        "names['Bob']  = 1\n",
        "print(names)\n",
        "names['Alice'] += 1\n",
        "print(names)"
      ],
      "metadata": {
        "colab": {
          "base_uri": "https://localhost:8080/"
        },
        "id": "a1IcQsxDNDmC",
        "outputId": "9de02d30-4787-45a1-ef92-ceabd22f1cae"
      },
      "execution_count": 18,
      "outputs": [
        {
          "output_type": "stream",
          "name": "stdout",
          "text": [
            "{'Alice': 1, 'Bob': 1}\n",
            "{'Alice': 2, 'Bob': 1}\n"
          ]
        }
      ]
    },
    {
      "cell_type": "markdown",
      "source": [
        "## Dictionaries Error\n",
        "* It is an error to reference a **key** which is not in the dictionary\n",
        "* We can use the in operator to see if a key is in the dictionary\n"
      ],
      "metadata": {
        "id": "rxwUPxBHNLLA"
      }
    },
    {
      "cell_type": "code",
      "source": [
        "names = {}\n",
        "print(names['Alice'])"
      ],
      "metadata": {
        "id": "nbBTgBVONP43"
      },
      "execution_count": null,
      "outputs": []
    },
    {
      "cell_type": "code",
      "source": [
        "names = {}\n",
        "print('Alice' in names)"
      ],
      "metadata": {
        "colab": {
          "base_uri": "https://localhost:8080/"
        },
        "id": "tApXLO9ANYoI",
        "outputId": "ab29b4b2-a9f6-4bed-e5f9-c183fe3c56fa"
      },
      "execution_count": 19,
      "outputs": [
        {
          "output_type": "stream",
          "name": "stdout",
          "text": [
            "False\n"
          ]
        }
      ]
    },
    {
      "cell_type": "markdown",
      "source": [
        "## Dictionaries Fixing the error\n"
      ],
      "metadata": {
        "id": "fNh6IjawNci4"
      }
    },
    {
      "cell_type": "code",
      "source": [
        "names = ['Alice','Anna','Anna','Bob','Bob','Bob']\n",
        "counts = {}\n",
        "for name in names:\n",
        "  if name not in counts:\n",
        "    counts[name] = 1\n",
        "  else:\n",
        "    counts[name] += 1\n",
        "print(counts)"
      ],
      "metadata": {
        "colab": {
          "base_uri": "https://localhost:8080/"
        },
        "id": "iGR_R-lgNeZE",
        "outputId": "4d5ca88c-cd3d-4ccd-9a00-4f7ea1adcdba"
      },
      "execution_count": 20,
      "outputs": [
        {
          "output_type": "stream",
          "name": "stdout",
          "text": [
            "{'Alice': 1, 'Anna': 2, 'Bob': 3}\n"
          ]
        }
      ]
    },
    {
      "cell_type": "markdown",
      "source": [
        "## Dictionaries method: get()\n",
        "* The pattern of checking to see if a key is already in a dictionary and assuming a default value if the key is not there is so common that there is a method called `get()` that does this for us.\n",
        "\n",
        "![image.png](data:image/png;base64,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)\n"
      ],
      "metadata": {
        "id": "hxpx2c72PZvq"
      }
    },
    {
      "cell_type": "markdown",
      "source": [
        "## Dictionaries method: get()\n"
      ],
      "metadata": {
        "id": "-lQkWuLEPemj"
      }
    },
    {
      "cell_type": "code",
      "source": [
        "names = ['Alice','Anna','Anna','Bob','Bob','Bob']\n",
        "counts = {}\n",
        "for name in names:\n",
        "  counts[name] = counts.get(name, 0) + 1\n",
        "print(counts)"
      ],
      "metadata": {
        "colab": {
          "base_uri": "https://localhost:8080/"
        },
        "id": "rNp0oolsPggY",
        "outputId": "cbb8c76b-a4ea-45df-f085-28b1369bed1a"
      },
      "execution_count": 22,
      "outputs": [
        {
          "output_type": "stream",
          "name": "stdout",
          "text": [
            "{'Alice': 1, 'Anna': 2, 'Bob': 3}\n"
          ]
        }
      ]
    },
    {
      "cell_type": "markdown",
      "source": [
        "## Dictionary For Loop\n",
        "* The basic for loop will for through the list of keys in the dictionary\n"
      ],
      "metadata": {
        "id": "zC2B8FIEPktu"
      }
    },
    {
      "cell_type": "code",
      "source": [
        "my_dict = {'Alice':1, 'Anna':2, 'Bob':3}\n",
        "for key in my_dict:\n",
        "  print(key, my_dict[key])"
      ],
      "metadata": {
        "colab": {
          "base_uri": "https://localhost:8080/"
        },
        "id": "WXclNnafPpN9",
        "outputId": "8c72006e-ce69-4ec7-843b-0e2e4ed5906c"
      },
      "execution_count": 21,
      "outputs": [
        {
          "output_type": "stream",
          "name": "stdout",
          "text": [
            "Alice 1\n",
            "Anna 2\n",
            "Bob 3\n"
          ]
        }
      ]
    },
    {
      "cell_type": "markdown",
      "source": [
        "## Dictionary For loop: Find the most common names\n"
      ],
      "metadata": {
        "id": "qfY3UtUxPxmI"
      }
    },
    {
      "cell_type": "code",
      "source": [
        "my_dict = {'Alice':1, 'Anna':2, 'Bob':3}\n",
        "mc_name = '' #most common name\n",
        "max_count = 0\n",
        "\n",
        "for key in my_dict:\n",
        "  if my_dict[key] > max_count:\n",
        "    max_count = my_dict[key]\n",
        "    mc_name = key\n",
        "print(mc_name)"
      ],
      "metadata": {
        "colab": {
          "base_uri": "https://localhost:8080/"
        },
        "id": "lT27UrhWPymc",
        "outputId": "b3e17278-28b0-402d-d146-c36129377e5b"
      },
      "execution_count": 23,
      "outputs": [
        {
          "output_type": "stream",
          "name": "stdout",
          "text": [
            "Bob\n"
          ]
        }
      ]
    }
  ]
}