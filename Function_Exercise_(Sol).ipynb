{
  "nbformat": 4,
  "nbformat_minor": 0,
  "metadata": {
    "colab": {
      "provenance": [],
      "authorship_tag": "ABX9TyN8kYzj1bMzmOi7L2k74q7f",
      "include_colab_link": true
    },
    "kernelspec": {
      "name": "python3",
      "display_name": "Python 3"
    },
    "language_info": {
      "name": "python"
    }
  },
  "cells": [
    {
      "cell_type": "markdown",
      "metadata": {
        "id": "view-in-github",
        "colab_type": "text"
      },
      "source": [
        "<a href=\"https://colab.research.google.com/github/yongsa-nut/TU_CN101_Summer_Bootcamp67/blob/main/Function_Exercise_(Sol).ipynb\" target=\"_parent\"><img src=\"https://colab.research.google.com/assets/colab-badge.svg\" alt=\"Open In Colab\"/></a>"
      ]
    },
    {
      "cell_type": "markdown",
      "source": [
        "**Q1**: What will the following code print out?\n",
        "\n",
        "```\n",
        "def func1(x):\n",
        "  x = x + 1\n",
        "  return x\n",
        "print(func1(1) + func1(2))\n",
        "```"
      ],
      "metadata": {
        "id": "kMISsUjAUkkq"
      }
    },
    {
      "cell_type": "code",
      "source": [
        "5"
      ],
      "metadata": {
        "id": "faTvzO90UkVn"
      },
      "execution_count": null,
      "outputs": []
    },
    {
      "cell_type": "markdown",
      "source": [
        "**Q2**: What will the following code print out?\n",
        "\n",
        "```\n",
        "def func2(x, y):\n",
        "  return (x*y) + 2\n",
        "\n",
        "z = func2(y=2, x=3)\n",
        "print(func2(x=z, y = 2))\n",
        "```"
      ],
      "metadata": {
        "id": "pfWzEmEGU6Xc"
      }
    },
    {
      "cell_type": "code",
      "execution_count": null,
      "metadata": {
        "id": "7oqadggjTu8l"
      },
      "outputs": [],
      "source": [
        "18"
      ]
    },
    {
      "cell_type": "markdown",
      "source": [
        "**Q3**: Fill in the code below so that the code print out 6."
      ],
      "metadata": {
        "id": "irRjWqFUVRCv"
      }
    },
    {
      "cell_type": "code",
      "source": [
        "def calX(x, y):\n",
        "  return x + y\n",
        "\n",
        "print(calX(calX(3,1), 2))"
      ],
      "metadata": {
        "id": "XsRYQGyJVYON"
      },
      "execution_count": null,
      "outputs": []
    },
    {
      "cell_type": "markdown",
      "source": [
        "**Q4**: Fill in the code below so that the program call a function ``multiple_items`` to get an input from the user and return the values back to the main to be printed out.\n",
        "\n",
        "Example of output:\n",
        "```\n",
        "Which is your favorite bridge? Baltimore\n",
        "When was it constructed? 1972\n",
        "My favorite bridge is 'Baltimore' and it was constructed in '1972'.\n",
        "```"
      ],
      "metadata": {
        "id": "aoH9A2kBVjhB"
      }
    },
    {
      "cell_type": "code",
      "source": [
        "def multiple_items():\n",
        "  bridge = input(\"Which is your favorite bridge? \")\n",
        "  year = input(\"When was it constructed? \")\n",
        "  return bridge, year\n",
        "\n",
        "def main():\n",
        "  brg, yr = multiple_items() #Fill in your code here\n",
        "  print(f\"My favorite bridge is '{brg}' and it was constructed in '{yr}'.\")\n",
        "main()"
      ],
      "metadata": {
        "id": "O7TEx-ZVWKld"
      },
      "execution_count": null,
      "outputs": []
    },
    {
      "cell_type": "markdown",
      "source": [
        "**Q5**:\n",
        "Write a function ``print_welcome(n)`` which takes a number ``n`` and print a message \"Welcome\" n times.\n",
        "\n",
        "**Input**:\n",
        "- $n$\n",
        "\n",
        "**Output**:\n",
        "- \"Welcome\" $n$ times/lines\n",
        "\n",
        "Example:\n",
        "\n",
        "```\n",
        "Enter n: 3\n",
        "Welcome\n",
        "Welcome\n",
        "Welcome\n",
        "```"
      ],
      "metadata": {
        "id": "rBxc-sD8WNfP"
      }
    },
    {
      "cell_type": "code",
      "source": [
        "# implement print_welcome(n) here\n",
        "def print_welcome(n):\n",
        "  for i in range(n):\n",
        "    print('Welcome')\n",
        "\n",
        "def main():\n",
        "  n = int(input(\"Enter n: \"))\n",
        "  print_welcome(n)\n",
        "main()"
      ],
      "metadata": {
        "id": "HR0Dov-2WQ_j"
      },
      "execution_count": null,
      "outputs": []
    },
    {
      "cell_type": "markdown",
      "source": [
        "**Q6**: Fahrenheit to Celsius function\n",
        "\n",
        "Implement $\\texttt{FtoC}$ function which takes in one number for temperature in Fahrenheit and returns one number for temperature in Celsius. The formula is $C = (F-32)*5/9$.\n",
        "\n",
        "Input:\n",
        "* a real number for temperature in F.\n",
        "\n",
        "Output:\n",
        "* Celsius in 2 decimals\n",
        "\n",
        "Example1:\n",
        "```\n",
        "Enter temperature (F):89\n",
        "31.67\n",
        "```\n",
        "\n",
        "Example2:\n",
        "```\n",
        "Enter temperature (F):32\n",
        "0.00\n",
        "```"
      ],
      "metadata": {
        "id": "y4rc0fNNWPAZ"
      }
    },
    {
      "cell_type": "code",
      "source": [
        "# implement FtoC function here\n",
        "def FtoC(F):\n",
        "  C = (F-32)*5/9\n",
        "  return C\n",
        "\n",
        "def main():\n",
        "  temp = float(input(\"Enter temperature (F): \"))\n",
        "  print(f\"{FtoC(temp):.2f}\")\n",
        "main()"
      ],
      "metadata": {
        "id": "LIGBBnMbWRU5"
      },
      "execution_count": null,
      "outputs": []
    },
    {
      "cell_type": "markdown",
      "source": [
        "**Q7**: Calculate Midpoint and Distance\n",
        "\n",
        "Write a program to receive four inputs, (x1, y1) and (x2, y2), from the user and then calculate the distance and the mid point between the two points.\n",
        "\n",
        "Your tasks:\n",
        "* Implement $\\texttt{main}$ function to receive user's inputs.\n",
        "* Implement $\\texttt{cal_distance(x1, y1, x2, y2)}$ function that takes in four inputs to calculate the distance between the two points\n",
        "  * Distance between $(x_1, y_1)$ and $(x_2, y_2) $ = $\\sqrt{(x_1 - x_2)^2 + (y_1 - y_2)^2}$\n",
        "  * $\\sqrt{x}$ = x**0.5\n",
        "* Implement $\\texttt{cal_midpoint(x1, y1, x2, y2)}$ function that takes in four inputs and return two values the $x$ and $y$ of the mid point.\n",
        "  * Midpoint ($x_3, y_3$) = $(\\frac{x_1 + x_2}{2}, \\frac{y_1 + y_2}{2})$\n",
        "\n",
        "\n",
        "**Input**: 4 integer numbers\n",
        "\n",
        "**Output**: 1) distance (3 decimals) and 2) the mid point (2 decimals)\n",
        "\n",
        "example:\n",
        "```\n",
        "Enter x1: 1\n",
        "Enter y1: 2\n",
        "Enter x2: 3\n",
        "Enter y2: 4\n",
        "Distance = 2.828\n",
        "Midpoint = (2.00, 3.00)\n",
        "```"
      ],
      "metadata": {
        "id": "9bM1X_KNWRms"
      }
    },
    {
      "cell_type": "code",
      "source": [
        "#implement cal_distance function here\n",
        "def cal_distance(x1, y1, x2, y2):\n",
        "  dist = ((x1 - x2)**2 + (y1 - y2)**2)**0.5\n",
        "  return dist\n",
        "\n",
        "#implement cal_midpoint function here\n",
        "def cal_midpoint(x1, y1, x2, y2):\n",
        "  x3 = (x1 + x2)/2\n",
        "  y3 = (y1 + y2)/2\n",
        "  return x3, y3\n",
        "\n",
        "def main():\n",
        "  x1 = float(input(\"Enter x1: \"))\n",
        "  y1 = float(input(\"Enter y1: \"))\n",
        "  x2 = float(input(\"Enter x2: \"))\n",
        "  y2 = float(input(\"Enter y2: \"))\n",
        "  #Call the functions and print out answers below\n",
        "  distance = cal_distance(x1, y1, x2, y2)\n",
        "  x3, y3 = cal_midpoint(x1, y1, x2, y2)\n",
        "  print(f\"Distance = {distance:.3f}\")\n",
        "  print(f\"Midpoint = ({x3:.2f},{y3:.2f})\")\n",
        "\n",
        "main()"
      ],
      "metadata": {
        "id": "kycCKT8xXq0x"
      },
      "execution_count": null,
      "outputs": []
    }
  ]
}