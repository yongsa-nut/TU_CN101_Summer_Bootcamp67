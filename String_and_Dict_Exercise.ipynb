{
  "nbformat": 4,
  "nbformat_minor": 0,
  "metadata": {
    "colab": {
      "provenance": [],
      "authorship_tag": "ABX9TyOhxjwAZSG3IhuJ8m61Dngx",
      "include_colab_link": true
    },
    "kernelspec": {
      "name": "python3",
      "display_name": "Python 3"
    },
    "language_info": {
      "name": "python"
    }
  },
  "cells": [
    {
      "cell_type": "markdown",
      "metadata": {
        "id": "view-in-github",
        "colab_type": "text"
      },
      "source": [
        "<a href=\"https://colab.research.google.com/github/yongsa-nut/TU_CN101_Summer_Bootcamp67/blob/main/String_and_Dict_Exercise.ipynb\" target=\"_parent\"><img src=\"https://colab.research.google.com/assets/colab-badge.svg\" alt=\"Open In Colab\"/></a>"
      ]
    },
    {
      "cell_type": "markdown",
      "source": [
        "**Q1**: What will the following program print out?\n",
        "```\n",
        "str1 = 'K'\n",
        "str2 = 'O'\n",
        "print(str1*2 + str2*3 + '!!')\n",
        "```"
      ],
      "metadata": {
        "id": "YE6CGGOTeXkr"
      }
    },
    {
      "cell_type": "code",
      "execution_count": null,
      "metadata": {
        "id": "SBudFgYudlqe"
      },
      "outputs": [],
      "source": []
    },
    {
      "cell_type": "markdown",
      "source": [
        "**Q2**: What will the following print out?\n",
        "```\n",
        "str1 = 'cat'\n",
        "str2 = str1.upper()\n",
        "print(str1 + ' ' + str2)\n",
        "```"
      ],
      "metadata": {
        "id": "XO1KmEafelQx"
      }
    },
    {
      "cell_type": "code",
      "source": [],
      "metadata": {
        "id": "E9zY6932exI8"
      },
      "execution_count": null,
      "outputs": []
    },
    {
      "cell_type": "markdown",
      "source": [
        "**Q3**: Fill in the blank so that the program print out 'EFG'"
      ],
      "metadata": {
        "id": "JMf1YQnGexii"
      }
    },
    {
      "cell_type": "code",
      "source": [
        "my_str = 'ABCDEFGHIJK'\n",
        "print(my_str[____])"
      ],
      "metadata": {
        "id": "RyKEFxmEe3l3"
      },
      "execution_count": null,
      "outputs": []
    },
    {
      "cell_type": "markdown",
      "source": [
        "**Q4**: Fill in the blank so that the print out ``11``."
      ],
      "metadata": {
        "id": "Vg-BDsime31M"
      }
    },
    {
      "cell_type": "code",
      "source": [
        "my_dict = {'A': 1, 'B': 11, 'C': 111}\n",
        "print(my_dict[__])"
      ],
      "metadata": {
        "id": "-BfkM894e6uU"
      },
      "execution_count": null,
      "outputs": []
    },
    {
      "cell_type": "markdown",
      "source": [
        "**Q5**: Starts with\n",
        "\n",
        "Implement a program to determine whether or not the input from the user starts with 'www' or not.\n",
        "\n",
        "For this question, try to use slicing (and `len` if necessary) to do it.\n",
        "\n",
        "Example 1:\n",
        "```\n",
        "Enter your input: wwwsdfwww\n",
        "True\n",
        "```\n",
        "Example 2:\n",
        "```\n",
        "Enter your input: sdfwww\n",
        "False\n",
        "```"
      ],
      "metadata": {
        "id": "w87y3AvRf57W"
      }
    },
    {
      "cell_type": "code",
      "source": [],
      "metadata": {
        "id": "MlFqNIjqf5dd"
      },
      "execution_count": null,
      "outputs": []
    },
    {
      "cell_type": "markdown",
      "source": [
        "**Q6**: Jewels and Stones\n",
        "\n",
        "You're given strings jewels representing the types of stones that are jewels, and stones representing the stones you have. Each character in stones is a type of stone you have. You want to know how many of the stones you have are also jewels.\n",
        "\n",
        "Letters are case sensitive, so \"a\" is considered a different type of stone from \"A\".\n",
        "\n",
        "Example 1:\n",
        "```\n",
        "Enter jewels: aA\n",
        "Enter stones aAAbbbb\n",
        "3\n",
        "```\n",
        "Explanation: There are two jewels, 'a' and 'A'. There is 1 'a' and 2 'A' in the stones so the total is 3.\n",
        "\n",
        "Example 2:\n",
        "```\n",
        "Enter jewels: z\n",
        "Enter stones: ZZ\n",
        "0\n",
        "```\n",
        "\n",
        "Example 3:\n",
        "```\n",
        "Enter jewels: kKp\n",
        "Enter stones: aaBkBcKcKcDDgkggkgpp\n",
        "7\n",
        "```"
      ],
      "metadata": {
        "id": "LsdDqN7lfksH"
      }
    },
    {
      "cell_type": "code",
      "source": [
        "\n"
      ],
      "metadata": {
        "id": "RSqgzwuRf1zO"
      },
      "execution_count": null,
      "outputs": []
    },
    {
      "cell_type": "markdown",
      "source": [
        "**Q7**: Dictionary and String Split\n",
        "\n",
        "Implement a program to find the most frequent word in a given input.\n",
        "\n",
        "**Input**:\n",
        "- A sequence of words separated by spaces.\n",
        "\n",
        "**Output**:\n",
        "- The most frequent word\n",
        "\n",
        "Example 1\n",
        "```\n",
        "Enter your input: A A aaa b b b c b\n",
        "The most frequent word is b.\n",
        "```\n",
        "\n",
        "Example 2\n",
        "```\n",
        "Enter your input: A cat is eating a donut My cat likes your cat\n",
        "The most frequent word is cat.\n",
        "```"
      ],
      "metadata": {
        "id": "Ii28mYLmgniw"
      }
    },
    {
      "cell_type": "code",
      "source": [
        "my_dict = {} # Use this dict to count the number of words\n",
        "# Fill in your code here\n",
        "\n",
        "\n",
        "\n",
        "\n",
        "# Code to find the most frequent word\n",
        "most_word = \"\"\n",
        "max_count = 0\n",
        "for key in my_dict:\n",
        "    if my_dict[key] > max_count:\n",
        "        most_word = key\n",
        "        max_count = my_dict[key]\n",
        "print(f\"The most frequent word is {most_word}.\")"
      ],
      "metadata": {
        "id": "7N9RLjPThAJV"
      },
      "execution_count": null,
      "outputs": []
    }
  ]
}