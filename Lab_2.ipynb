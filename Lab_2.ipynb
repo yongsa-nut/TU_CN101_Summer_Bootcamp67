{
  "nbformat": 4,
  "nbformat_minor": 0,
  "metadata": {
    "colab": {
      "provenance": [],
      "authorship_tag": "ABX9TyNVTdZCGCb19Jgootq9rxG6",
      "include_colab_link": true
    },
    "kernelspec": {
      "name": "python3",
      "display_name": "Python 3"
    },
    "language_info": {
      "name": "python"
    }
  },
  "cells": [
    {
      "cell_type": "markdown",
      "metadata": {
        "id": "view-in-github",
        "colab_type": "text"
      },
      "source": [
        "<a href=\"https://colab.research.google.com/github/yongsa-nut/TU_CN101_Summer_Bootcamp67/blob/main/Lab_2.ipynb\" target=\"_parent\"><img src=\"https://colab.research.google.com/assets/colab-badge.svg\" alt=\"Open In Colab\"/></a>"
      ]
    },
    {
      "cell_type": "markdown",
      "source": [
        "**Q1**: Fill in the blank below so that the program print out ``12``."
      ],
      "metadata": {
        "id": "rCO8mu4WRsJ_"
      }
    },
    {
      "cell_type": "code",
      "source": [
        "def do_something(x, y):\n",
        "  return x + y + 1\n",
        "\n",
        "print(do_something(___, 2)+do_something(3, 4))"
      ],
      "metadata": {
        "id": "oXnJ3ID4RsZG"
      },
      "execution_count": null,
      "outputs": []
    },
    {
      "cell_type": "markdown",
      "source": [
        "**Q2**:\n",
        "Fill in the blank below so that the program print out $\\texttt{[1, 3, 5, 5, 9, 9]}$"
      ],
      "metadata": {
        "id": "C_fvOGgwJ3Ye"
      }
    },
    {
      "cell_type": "code",
      "source": [
        "a = [1, 2, 4, 5, 8, 9]\n",
        "for i in range(len(a)):\n",
        "  if a[i] % 2 == 0:\n",
        "     _______________    #Fill your code here\n",
        "print(a)"
      ],
      "metadata": {
        "id": "PiRPIquhQbdO"
      },
      "execution_count": null,
      "outputs": []
    },
    {
      "cell_type": "markdown",
      "source": [
        "**Q3**: Fill in the blank below so that the program print out \"ABG\""
      ],
      "metadata": {
        "id": "NBaw9XjbQfau"
      }
    },
    {
      "cell_type": "code",
      "source": [
        "my_string = \"ABCDEFG\"\n",
        "\n",
        "print(my_string[___] + my_string[___])"
      ],
      "metadata": {
        "id": "AgldG73sQe95"
      },
      "execution_count": null,
      "outputs": []
    },
    {
      "cell_type": "markdown",
      "source": [
        "**Q4**: Fill in the blank below so that the program prints out `123`"
      ],
      "metadata": {
        "id": "afwjhiazRIM5"
      }
    },
    {
      "cell_type": "code",
      "source": [
        "my_dict = {'A': 100, 'B': 23, 'C': 103, 'D': 333, 'E': 1000}\n",
        "\n",
        "print(my_dict[__] + my_dict[__])"
      ],
      "metadata": {
        "id": "e0w8c6m7RIfT"
      },
      "execution_count": null,
      "outputs": []
    },
    {
      "cell_type": "markdown",
      "source": [
        "**Q5**: Fill in the blank so that the program prints out `5`"
      ],
      "metadata": {
        "id": "iXCsLOXOapBO"
      }
    },
    {
      "cell_type": "code",
      "source": [
        "my_list = [[1,2,3],[4,5,6]]\n",
        "print(my_list[0][_] + my_list[_][0])"
      ],
      "metadata": {
        "id": "1-XKcJHWas6q"
      },
      "execution_count": null,
      "outputs": []
    },
    {
      "cell_type": "markdown",
      "source": [
        "**Q6**: Fill in the blank so that the program output as shown below.\n",
        "\n",
        "Example of output:\n",
        "```\n",
        "Which is your favorite bridge? Baltimore\n",
        "When was it constructed? 1972\n",
        "My favorite bridge is 'Baltimore' and it was constructed in '1972'.\n",
        "```\n"
      ],
      "metadata": {
        "id": "bIygF1GqarVW"
      }
    },
    {
      "cell_type": "code",
      "source": [
        "def multiple_items():\n",
        "  bridge = input(\"Which is your favorite bridge? \")\n",
        "  year = input(\"When was it constructed? \")\n",
        "  return bridge, year\n",
        "\n",
        "def main():\n",
        "  __________________________________________\n",
        "  print(f\"My favorite bridge is '{brg}' and it was constructed in '{yr}'.\")\n",
        "main()"
      ],
      "metadata": {
        "id": "CULqbRwXatLj"
      },
      "execution_count": null,
      "outputs": []
    },
    {
      "cell_type": "markdown",
      "source": [
        "**Q7**: Circle's properties\n",
        "\n",
        "Implement a function called `circle_properties(radius)` that takes the radius of a circle as input and returns the area and circumference of the circle.\n",
        "\n",
        "Input:\n",
        "- Real number. the radius.\n",
        "\n",
        "Output:\n",
        "- Real number. Area of the circle in two decimals.\n",
        "- Real number. Circumference in two decimals.\n",
        "\n",
        "Examples:\n",
        "\n",
        "```\n",
        "Enter the radius: 1\n",
        "Area: 3.14\n",
        "Circumference: 6.28\n",
        "```\n",
        "\n",
        "```\n",
        "Enter the radius: 2.5\n",
        "Area: 19.63\n",
        "Circumference: 15.71\n",
        "```"
      ],
      "metadata": {
        "id": "6O4K21YuLBYg"
      }
    },
    {
      "cell_type": "code",
      "source": [
        "# import\n",
        "\n",
        "\n",
        "# Implement circle_properties(radius) function here\n",
        "\n",
        "\n",
        "\n",
        "def main():\n",
        "  radius = float(input(\"Enter the radius: \"))\n",
        "  area, circumference = circle_properties(radius)\n",
        "\n",
        "\n",
        "\n",
        "main()"
      ],
      "metadata": {
        "id": "WOoJKStbLBpa"
      },
      "execution_count": null,
      "outputs": []
    },
    {
      "cell_type": "markdown",
      "source": [
        "**Q8**: Count Vowel\n",
        "\n",
        "Write a program to count the numbers of vowels (a, e, i, o, u) in a sentence.\n",
        "\n",
        "Input:\n",
        "* A string. The sentence.\n",
        "\n",
        "Output:\n",
        "* An integer. The numbers of vowels.\n",
        "\n",
        "Example 1:\n",
        "```\n",
        "Enter a sentence: This is a cute cat.\n",
        "The number of vowels is 6\n",
        "```\n",
        "\n",
        "Example 2:\n",
        "```\n",
        "Enter a sentence: Hello World\n",
        "The number of vowel is 3\n",
        "```\n",
        "\n",
        "Example 3:\n",
        "```\n",
        "Enter a sentence: My rhythms fly\n",
        "The number of vowel is 0\n",
        "```"
      ],
      "metadata": {
        "id": "kYWZIdHtJ_Hn"
      }
    },
    {
      "cell_type": "code",
      "source": [
        "\n"
      ],
      "metadata": {
        "id": "DainorC4LTwQ"
      },
      "execution_count": null,
      "outputs": []
    },
    {
      "cell_type": "markdown",
      "source": [
        "**Q9**: Adding two vectors (2 points)\n",
        "\n",
        "Write a program to add two vectors of size $n$ together.\n",
        "\n",
        "**Input**:\n",
        "* A sequence of $n$ numbers seperated by spaces for the first vector.\n",
        "* A sequence of $n$ numbers seperated by spaces for the second vector.\n",
        "\n",
        "**Output**:\n",
        "* A list of length $n$.\n",
        "\n",
        "\n",
        "Example 1:\n",
        "\n",
        "```\n",
        "Enter the first matrix: 1 1 1 1\n",
        "Enter the second matrix: 2 2 2 2\n",
        "[3, 3, 3, 3]\n",
        "```\n",
        "\n",
        "Example 2:\n",
        "```\n",
        "Enter the first matrix: 1 2 3 1 2 3 1 2 3\n",
        "Enter the second matrix: 6 7 8 9 5 4 6 0 1\n",
        "[7, 9, 11, 10, 7, 7, 7, 2, 4]\n",
        "```\n",
        "\n",
        "Example 3:\n",
        "```\n",
        "Enter the first matrix: 1 2 2 1 3 2 1 5 1 2 3 4 0 1 0 2\n",
        "Enter the second matrix: 0 1 0 1 1 0 1 0 3 0 2 1 4 2 5 3\n",
        "[1, 3, 2, 2, 4, 2, 2, 5, 4, 2, 5, 5, 4, 3, 5, 5]\n",
        "```"
      ],
      "metadata": {
        "id": "nanKC4olJ8tX"
      }
    },
    {
      "cell_type": "code",
      "source": [
        "\n",
        "\n"
      ],
      "metadata": {
        "id": "LUSkSJSRJ_ZD"
      },
      "execution_count": null,
      "outputs": []
    },
    {
      "cell_type": "markdown",
      "source": [
        "**Q10**: Standard Deviation (2 points)\n",
        "\n",
        "Write a program to calculate a standard deviation of a given data.\n",
        "\n",
        "The formula for the standard deviation is as follow:\n",
        "\n",
        "$s.d. = \\sqrt{\\frac{∑_{i=1}^n(x_i - x̄)^2}{n}}$,\n",
        "\n",
        "where $n$ is the size of the data, $x̄$ is the mean, $\\frac{1}{n}∑_{i=1}^n(x_i)$.\n",
        "\n",
        "Example 1:\n",
        "```\n",
        "standard_deviation([1, 2, 3, 4, 5])\n",
        "1.41\n",
        "```\n",
        "Explanation:\n",
        "- mean = $(1 + 2 + 3 + 4 + 5)/5$ = 3\n",
        "- $(1-3)^2 + (2-3)^2 + (3-3)^2 + (4-3)^2 + (5-3)^2 = 4 + 1 + 0 + 1 + 4 = 10$\n",
        "- $10/5 = 2$\n",
        "- $\\sqrt{2} = 1.41...$\n",
        "\n",
        "Example 2:\n",
        "```\n",
        "standard_deviation([10, 3, 8, 1, 9, 1, 3])\n",
        "3.59\n",
        "```\n",
        "\n",
        "Example 3:\n",
        "```\n",
        "standard_deviation([5, 5, 3, 8, 9, 7, 10, 6, 3, 9])\n",
        "2.38\n",
        "```"
      ],
      "metadata": {
        "id": "USWA4Ga3KLKe"
      }
    },
    {
      "cell_type": "code",
      "source": [
        "import math\n",
        "\n",
        "def standard_deviation(data):\n",
        "  # Calculate the mean of the data.\n",
        "\n",
        "\n",
        "  # Calculate the standard_deviation of the data.\n",
        "\n",
        "\n",
        "\n",
        "def main():\n",
        "\n",
        "  # Example 1\n",
        "  data = [1, 2, 3, 4, 5]\n",
        "  print(f\"{standard_deviation(data):.2f}\") # 1.41\n",
        "  # Example 2\n",
        "  data = [10, 3, 8, 1, 9, 1, 3]\n",
        "  print(f\"{standard_deviation(data):.2f}\") # 3.59\n",
        "  # Example 3\n",
        "  data = [5, 5, 3, 8, 9, 7, 10, 6, 3, 9]\n",
        "  print(f\"{standard_deviation(data):.2f}\") # 2.38\n",
        "\n",
        "main()"
      ],
      "metadata": {
        "id": "FLyLM__DKRWV"
      },
      "execution_count": null,
      "outputs": []
    },
    {
      "cell_type": "markdown",
      "source": [
        "**Q11**: Number of Good Pairs\n",
        "\n",
        "Given a list of integers nums, return the number of good pairs.\n",
        "\n",
        "A pair $\\texttt{(i, j)}$ is called good if $\\texttt{nums[i] == nums[j] and i < j}$.\n",
        "\n",
        "\n",
        "Examples:\n",
        "\n",
        "Ex1:\n",
        "```\n",
        "Function call: good_pairs([1,2,3,1,1,3])\n",
        "Return: 4\n",
        "```\n",
        "Explanation: There are 4 good pairs (0,3), (0,4), (3,4), (2,5) 0-indexed.\n",
        "\n",
        "Ex2:\n",
        "```\n",
        "Function call: good_pairs([1,1,1,1])\n",
        "Return: 6\n",
        "```\n",
        "Explanation: Each pair in the array are good.\n",
        "\n",
        "Ex3:\n",
        "```\n",
        "Function call: good_pairs([1,2,3])\n",
        "Return: 0\n",
        "```"
      ],
      "metadata": {
        "id": "GEyX6k40HHJE"
      }
    },
    {
      "cell_type": "code",
      "execution_count": null,
      "metadata": {
        "id": "sqeLwDw9GdZ2"
      },
      "outputs": [],
      "source": [
        "def good_pairs(nums):\n",
        "  # Fill in your code here\n",
        "\n",
        "  return\n",
        "\n",
        "def main():\n",
        "  ## Test cases below ##\n",
        "  good_pairs([1,2,3,1,1,3]) # == 4\n",
        "  good_pairs([1,1,1,1])     # == 6\n",
        "  good_pairs([1,2,3])       # == 0\n",
        "  good_pairs([1,2,3,3,2,1]) # == 3\n",
        "  good_pairs([1])           # == 0"
      ]
    }
  ]
}