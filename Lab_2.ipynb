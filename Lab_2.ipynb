{
  "nbformat": 4,
  "nbformat_minor": 0,
  "metadata": {
    "colab": {
      "provenance": [],
      "authorship_tag": "ABX9TyOXX66yF8B3/2m3rRrlfNry",
      "include_colab_link": true
    },
    "kernelspec": {
      "name": "python3",
      "display_name": "Python 3"
    },
    "language_info": {
      "name": "python"
    }
  },
  "cells": [
    {
      "cell_type": "markdown",
      "metadata": {
        "id": "view-in-github",
        "colab_type": "text"
      },
      "source": [
        "<a href=\"https://colab.research.google.com/github/yongsa-nut/TU_CN101_Summer_Bootcamp67/blob/main/Lab_2.ipynb\" target=\"_parent\"><img src=\"https://colab.research.google.com/assets/colab-badge.svg\" alt=\"Open In Colab\"/></a>"
      ]
    },
    {
      "cell_type": "markdown",
      "source": [
        "**Q1**: Fill in the blank below so that the program prints out ``12``."
      ],
      "metadata": {
        "id": "rCO8mu4WRsJ_"
      }
    },
    {
      "cell_type": "code",
      "source": [
        "def do_something(x, y):\n",
        "  return x + y + 1\n",
        "\n",
        "print(do_something(___, 2)+do_something(3, 4))"
      ],
      "metadata": {
        "id": "oXnJ3ID4RsZG"
      },
      "execution_count": null,
      "outputs": []
    },
    {
      "cell_type": "markdown",
      "source": [
        "**Q2**:\n",
        "Fill in the blank below so that the program prints out $\\texttt{[1, 3, 5, 5, 9, 9]}$"
      ],
      "metadata": {
        "id": "C_fvOGgwJ3Ye"
      }
    },
    {
      "cell_type": "code",
      "source": [
        "a = [1, 2, 4, 5, 8, 9]\n",
        "for i in range(len(a)):\n",
        "  if a[i] % 2 == 0:\n",
        "     _______________    #Fill your code here\n",
        "print(a)"
      ],
      "metadata": {
        "id": "PiRPIquhQbdO"
      },
      "execution_count": null,
      "outputs": []
    },
    {
      "cell_type": "markdown",
      "source": [
        "**Q3**: Fill in the blank below so that the program prints out \"ABCG\""
      ],
      "metadata": {
        "id": "NBaw9XjbQfau"
      }
    },
    {
      "cell_type": "code",
      "source": [
        "my_string = \"ABCDEFG\"\n",
        "\n",
        "print(my_string[___] + my_string[___])"
      ],
      "metadata": {
        "id": "AgldG73sQe95"
      },
      "execution_count": null,
      "outputs": []
    },
    {
      "cell_type": "markdown",
      "source": [
        "**Q4**: Fill in the blank below so that the program prints out `7`"
      ],
      "metadata": {
        "id": "afwjhiazRIM5"
      }
    },
    {
      "cell_type": "code",
      "source": [
        "chars = ['A','A','B','A','B','A','C','E','D','A','B','C']\n",
        "my_dict = {'A': 0, 'B': 0, 'C': 0, 'D': 0, 'E': 0}\n",
        "\n",
        "for char in chars:\n",
        "  my_dict[char] = my_dict.get(char,0) + 1\n",
        "\n",
        "print(my_dict[__] + my_dict[__])"
      ],
      "metadata": {
        "id": "e0w8c6m7RIfT"
      },
      "execution_count": null,
      "outputs": []
    },
    {
      "cell_type": "markdown",
      "source": [
        "**Q5**: Fill in the blank so that the program prints out `5`"
      ],
      "metadata": {
        "id": "iXCsLOXOapBO"
      }
    },
    {
      "cell_type": "code",
      "source": [
        "my_list = [[1,2,3],[4,5,6]]\n",
        "print(my_list[0][_] + my_list[_][0])"
      ],
      "metadata": {
        "id": "1-XKcJHWas6q"
      },
      "execution_count": null,
      "outputs": []
    },
    {
      "cell_type": "markdown",
      "source": [
        "**Q6**: Fill in the blank so that the program outputs as shown below.\n",
        "\n",
        "Example of output:\n",
        "```\n",
        "Enter a sequence of numbers: 1 2 3 4 5 6\n",
        "[1, 2, 3, 4, 5, 6]\n",
        "```\n"
      ],
      "metadata": {
        "id": "bIygF1GqarVW"
      }
    },
    {
      "cell_type": "code",
      "source": [
        "# A function to convert a string to a list of integers\n",
        "def string_to_list_num(string, splitter=' '):\n",
        "  list_seq = string.split(splitter)\n",
        "  for i in range(len(list_seq)):\n",
        "    list_seq[i] = int(list_seq[i])\n",
        "  return list_seq\n",
        "\n",
        "def main():\n",
        "  sequence = input(\"Enter a sequence of numbers: \")\n",
        "  ________________________________________\n",
        "  print(sequence)\n",
        "main()"
      ],
      "metadata": {
        "id": "CULqbRwXatLj"
      },
      "execution_count": null,
      "outputs": []
    },
    {
      "cell_type": "markdown",
      "source": [
        "**Q7**: Fill in the blank so that the program outputs `A D F`\n"
      ],
      "metadata": {
        "id": "TtvGPZZFhDM_"
      }
    },
    {
      "cell_type": "code",
      "source": [
        "my_string = 'A-B-C-D-E-F'\n",
        "print(my_string[__], my_string[__], my_string[__])"
      ],
      "metadata": {
        "id": "L32AqGlnhRMK"
      },
      "execution_count": null,
      "outputs": []
    },
    {
      "cell_type": "markdown",
      "source": [
        "**Q8**: Fill in the blank to calculate $\\sum_{i=0}^{n-1}(x_i+y_i)$, where $x$ and $y$ is a list of numbers."
      ],
      "metadata": {
        "id": "HDQbEhfChypt"
      }
    },
    {
      "cell_type": "code",
      "source": [
        "x = [1,2,3,4,5]\n",
        "y = [3,4,3,5,-1]\n",
        "\n",
        "total = 0\n",
        "for____________________________\n",
        "   ____________________________\n",
        "\n",
        "print(total) #Total should be [4, 6, 6, 9, 4]"
      ],
      "metadata": {
        "id": "smxRrrBMiGVs"
      },
      "execution_count": null,
      "outputs": []
    },
    {
      "cell_type": "markdown",
      "source": [
        "**Q9**: Circle's properties\n",
        "\n",
        "Implement a function called `circle_properties(radius)` that takes the radius of a circle as input and returns the area and circumference of the circle.\n",
        "\n",
        "Input:\n",
        "- Real number. the radius.\n",
        "\n",
        "Output:\n",
        "- Real number. Area of the circle in two decimals.\n",
        "- Real number. Circumference in two decimals.\n",
        "\n",
        "Examples:\n",
        "\n",
        "```\n",
        "Enter the radius: 1\n",
        "Area: 3.14\n",
        "Circumference: 6.28\n",
        "```\n",
        "\n",
        "```\n",
        "Enter the radius: 2.5\n",
        "Area: 19.63\n",
        "Circumference: 15.71\n",
        "```"
      ],
      "metadata": {
        "id": "6O4K21YuLBYg"
      }
    },
    {
      "cell_type": "code",
      "source": [
        "# import\n",
        "\n",
        "\n",
        "# Implement circle_properties(radius) function here\n",
        "\n",
        "\n",
        "\n",
        "def main():\n",
        "  radius = float(input(\"Enter the radius: \"))\n",
        "  # call circle_properties(radius) below\n",
        "\n",
        "\n",
        "\n",
        "main()"
      ],
      "metadata": {
        "id": "WOoJKStbLBpa"
      },
      "execution_count": null,
      "outputs": []
    },
    {
      "cell_type": "markdown",
      "source": [
        "**Q10**: Count Vowel\n",
        "\n",
        "Write a function `count_vowel(sentence)` to count the number of vowels (a, e, i, o, u) in a sentence.\n",
        "\n",
        "**Input**:\n",
        "* A string. The sentence.\n",
        "\n",
        "**Output**:\n",
        "* An integer. The numbers of vowels.\n",
        "\n",
        "**Note**:\n",
        "* `count_vowel(sentence)` takes in **one** string and return **one** number (integer) for the number of vowels.\n",
        "\n",
        "Example 1:\n",
        "```\n",
        "Enter a sentence: This is a cute cat.\n",
        "The number of vowels is 6\n",
        "```\n",
        "\n",
        "Example 2:\n",
        "```\n",
        "Enter a sentence: Hello World\n",
        "The number of vowel is 3\n",
        "```\n",
        "\n",
        "Example 3:\n",
        "```\n",
        "Enter a sentence: My rhythms fly\n",
        "The number of vowel is 0\n",
        "```"
      ],
      "metadata": {
        "id": "kYWZIdHtJ_Hn"
      }
    },
    {
      "cell_type": "code",
      "source": [
        "# implement your function below\n",
        "\n",
        "\n",
        "def main():\n",
        "  # Get the input from the user and call the function here\n",
        "\n",
        "  # print out the result here\n",
        "\n",
        "main()"
      ],
      "metadata": {
        "id": "DainorC4LTwQ"
      },
      "execution_count": null,
      "outputs": []
    },
    {
      "cell_type": "markdown",
      "source": [
        "**Q11**: How many www .com?\n",
        "\n",
        "Implement a function `count_web` that takes in a list of strings and return the number of string that start with `www` and ends with `.com`.\n",
        "\n",
        "**Input (from the main)**:\n",
        "- A list of strings\n",
        "\n",
        "**Output**\n",
        "- One integer\n",
        "\n",
        "**Note**:\n",
        "- The tests are in the `main` function do not change.\n",
        "\n",
        "Example 1:\n",
        "```\n",
        "function call: count_web(['a','b','c','d','e'])\n",
        "return: 0\n",
        "```\n",
        "Example 2:\n",
        "```\n",
        "function call: count_web(['www.sdf.com','www.vvv.com','ww.sdf.com','www.kkk.co','www.www.com'])\n",
        "return: 3\n",
        "```\n",
        "Example 3:\n",
        "```\n",
        "function call: count_web(['www.com','awww.aaa.coma','bbwww.sdf.com','www.sdf.coms','w.w.w.c.o.m','www.ttt.com'])\n",
        "return: 2\n",
        "```\n"
      ],
      "metadata": {
        "id": "qIpDdo0Uc2SR"
      }
    },
    {
      "cell_type": "code",
      "source": [
        "def count_web(strings):\n",
        "  # fill in your code here\n",
        "\n",
        "\n",
        "\n",
        "\n",
        "def main():\n",
        "  print(count_web(['a','b','c','d','e']))  # The answer is 0\n",
        "\n",
        "  print(count_web(['www.sdf.com','www.vvv.com','ww.sdf.com','www.kkk.co','www.www.com'])) # 3\n",
        "\n",
        "  print(count_web(['www.com','awww.aaa.coma','bbwww.sdf.com','www.sdf.coms','w.w.w.c.o.m','www.ttt.com'])) # 2\n",
        "\n",
        "main()"
      ],
      "metadata": {
        "id": "33ntT8uWdqj0"
      },
      "execution_count": null,
      "outputs": []
    },
    {
      "cell_type": "markdown",
      "source": [
        "**Q12**: Even and Odd lists\n",
        "\n",
        "Given a list of integers nums, return two lists. The first list contains all even numbers in the given list in order and the second list contains all odd numbers in the given list in order.\n",
        "\n",
        "Examples:\n",
        "\n",
        "Ex1:\n",
        "```\n",
        "Function call: even_odd([1,2,3,1,1,3])\n",
        "Return: ([2], [1, 3, 1, 1, 3])\n",
        "```\n",
        "\n",
        "Ex2:\n",
        "```\n",
        "Function call: even_odd([1,2,3,3,2,1])\n",
        "Return: ([2, 2], [1, 3, 3, 1])\n",
        "```\n",
        "\n",
        "Ex3:\n",
        "```\n",
        "Function call: even_odd([2])\n",
        "Return: ([2], [])\n",
        "```\n"
      ],
      "metadata": {
        "id": "GEyX6k40HHJE"
      }
    },
    {
      "cell_type": "code",
      "execution_count": null,
      "metadata": {
        "id": "sqeLwDw9GdZ2"
      },
      "outputs": [],
      "source": [
        "def even_odd(numbers):\n",
        "  # Fill in your code here\n",
        "\n",
        "  return\n",
        "\n",
        "def main():\n",
        "  ## Test cases below ##\n",
        "  print(even_odd([1,2,3,1,1,3])) # == ([2], [1, 3, 1, 1, 3])\n",
        "  print(even_odd([1,1,1,1]))     # == ([], [1, 1, 1, 1])\n",
        "  print(even_odd([1,2,3]))       # == ([2], [1, 3])\n",
        "  print(even_odd([1,2,3,3,2,1])) # == ([2, 2], [1, 3, 3, 1])\n",
        "  print(even_odd([2]))           # == ([2], [])\n",
        "\n",
        "main()"
      ]
    },
    {
      "cell_type": "markdown",
      "source": [
        "**Q13**: Adding two vectors\n",
        "\n",
        "Write a program to add two vectors of size $n$ together.\n",
        "\n",
        "**Input**:\n",
        "* A sequence of $n$ numbers seperated by spaces for the first vector.\n",
        "* A sequence of $n$ numbers seperated by spaces for the second vector.\n",
        "\n",
        "**Output**:\n",
        "* A list of length $n$.\n",
        "\n",
        "**Hint:** You must convert string to a list of string and then each number (in string) to int. (See Q6 for some idea)\n",
        "\n",
        "\n",
        "Example 1:\n",
        "\n",
        "```\n",
        "Enter the first matrix: 1 1 1 1\n",
        "Enter the second matrix: 2 2 2 2\n",
        "[3, 3, 3, 3]\n",
        "```\n",
        "\n",
        "Example 2:\n",
        "```\n",
        "Enter the first matrix: 1 2 3 1 2 3 1 2 3\n",
        "Enter the second matrix: 6 7 8 9 5 4 6 0 1\n",
        "[7, 9, 11, 10, 7, 7, 7, 2, 4]\n",
        "```\n",
        "\n",
        "Example 3:\n",
        "```\n",
        "Enter the first matrix: 1 2 2 1 3 2 1 5 1 2 3 4 0 1 0 2\n",
        "Enter the second matrix: 0 1 0 1 1 0 1 0 3 0 2 1 4 2 5 3\n",
        "[1, 3, 2, 2, 4, 2, 2, 5, 4, 2, 5, 5, 4, 3, 5, 5]\n",
        "```"
      ],
      "metadata": {
        "id": "nanKC4olJ8tX"
      }
    },
    {
      "cell_type": "code",
      "source": [
        "\n",
        "\n"
      ],
      "metadata": {
        "id": "LUSkSJSRJ_ZD"
      },
      "execution_count": null,
      "outputs": []
    },
    {
      "cell_type": "markdown",
      "source": [
        "**Q14**: Standard Deviation\n",
        "\n",
        "Write a program to calculate a standard deviation of a given data.\n",
        "\n",
        "The formula for the standard deviation is as follow:\n",
        "\n",
        "$s.d. = \\sqrt{\\frac{∑_{i=1}^n(x_i - x̄)^2}{n}}$,\n",
        "\n",
        "where $n$ is the size of the data, $x̄$ is the mean, $\\frac{1}{n}∑_{i=1}^n(x_i)$.\n",
        "\n",
        "Example 1:\n",
        "```\n",
        "standard_deviation([1, 2, 3, 4, 5])\n",
        "1.41\n",
        "```\n",
        "Explanation:\n",
        "- mean = $(1 + 2 + 3 + 4 + 5)/5$ = 3\n",
        "- $(1-3)^2 + (2-3)^2 + (3-3)^2 + (4-3)^2 + (5-3)^2 = 4 + 1 + 0 + 1 + 4 = 10$\n",
        "- $10/5 = 2$\n",
        "- $\\sqrt{2} = 1.41...$\n",
        "\n",
        "Example 2:\n",
        "```\n",
        "standard_deviation([10, 3, 8, 1, 9, 1, 3])\n",
        "3.59\n",
        "```\n",
        "\n",
        "Example 3:\n",
        "```\n",
        "standard_deviation([5, 5, 3, 8, 9, 7, 10, 6, 3, 9])\n",
        "2.38\n",
        "```"
      ],
      "metadata": {
        "id": "USWA4Ga3KLKe"
      }
    },
    {
      "cell_type": "code",
      "source": [
        "import math\n",
        "\n",
        "def standard_deviation(data):\n",
        "  # Calculate the mean of the data.\n",
        "\n",
        "\n",
        "  # Calculate the standard_deviation of the data.\n",
        "\n",
        "\n",
        "\n",
        "def main():\n",
        "\n",
        "  # Example 1\n",
        "  data = [1, 2, 3, 4, 5]\n",
        "  print(f\"{standard_deviation(data):.2f}\") # 1.41\n",
        "  # Example 2\n",
        "  data = [10, 3, 8, 1, 9, 1, 3]\n",
        "  print(f\"{standard_deviation(data):.2f}\") # 3.59\n",
        "  # Example 3\n",
        "  data = [5, 5, 3, 8, 9, 7, 10, 6, 3, 9]\n",
        "  print(f\"{standard_deviation(data):.2f}\") # 2.38\n",
        "\n",
        "main()"
      ],
      "metadata": {
        "id": "FLyLM__DKRWV"
      },
      "execution_count": null,
      "outputs": []
    }
  ]
}