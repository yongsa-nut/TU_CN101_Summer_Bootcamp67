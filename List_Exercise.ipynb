{
  "nbformat": 4,
  "nbformat_minor": 0,
  "metadata": {
    "colab": {
      "provenance": [],
      "authorship_tag": "ABX9TyPeYB7zzbqT7LPsrgPPNBXN",
      "include_colab_link": true
    },
    "kernelspec": {
      "name": "python3",
      "display_name": "Python 3"
    },
    "language_info": {
      "name": "python"
    }
  },
  "cells": [
    {
      "cell_type": "markdown",
      "metadata": {
        "id": "view-in-github",
        "colab_type": "text"
      },
      "source": [
        "<a href=\"https://colab.research.google.com/github/yongsa-nut/TU_CN101_Summer_Bootcamp67/blob/main/List_Exercise.ipynb\" target=\"_parent\"><img src=\"https://colab.research.google.com/assets/colab-badge.svg\" alt=\"Open In Colab\"/></a>"
      ]
    },
    {
      "cell_type": "markdown",
      "source": [
        "**Q1**: What will the following program print out?\n",
        "\n",
        "```\n",
        "my_list = [1, 2, 3, 4, 5]\n",
        "my_list[0] = 'A'\n",
        "my_list[3] = 'Z'\n",
        "```"
      ],
      "metadata": {
        "id": "CPIo9T3KjMQc"
      }
    },
    {
      "cell_type": "code",
      "source": [],
      "metadata": {
        "id": "UFYFlVcenOHz"
      },
      "execution_count": null,
      "outputs": []
    },
    {
      "cell_type": "markdown",
      "source": [
        "**Q2**: What will the following program print out?\n",
        "\n",
        "```\n",
        "numbers = [5, 6, 7, 3, 1]\n",
        "for i in range(len(numbers)):\n",
        "  numbers[i] = numbers[i]*2\n",
        "print(numbers)\n",
        "```"
      ],
      "metadata": {
        "id": "KxGIuRlJjKvx"
      }
    },
    {
      "cell_type": "code",
      "execution_count": null,
      "metadata": {
        "id": "V27t8s00idBE"
      },
      "outputs": [],
      "source": []
    },
    {
      "cell_type": "markdown",
      "source": [
        "**Q3**: Fill in the blank so that the program print out [5, 6, 7]"
      ],
      "metadata": {
        "id": "y17y2KJKjN5g"
      }
    },
    {
      "cell_type": "code",
      "source": [
        "new_list = []\n",
        "for num in range(8):\n",
        "    if num >= 5:\n",
        "        __________________ # Fill in the blank\n",
        "print(new_list)"
      ],
      "metadata": {
        "id": "YbzUK_4OjO1S"
      },
      "execution_count": null,
      "outputs": []
    },
    {
      "cell_type": "code",
      "source": [],
      "metadata": {
        "id": "icglDyz9nQWw"
      },
      "execution_count": null,
      "outputs": []
    },
    {
      "cell_type": "markdown",
      "source": [
        "**Q4**: Fill in the blank so that the program print out 'A H'."
      ],
      "metadata": {
        "id": "b-BMzevxjPDT"
      }
    },
    {
      "cell_type": "code",
      "source": [
        "board = [['A','B','C'],['D','E','F'],['G','H','I']]\n",
        "\n",
        "print(board[_][_], boar[_][_])"
      ],
      "metadata": {
        "id": "XF6ORJwMjQcH"
      },
      "execution_count": null,
      "outputs": []
    },
    {
      "cell_type": "code",
      "source": [],
      "metadata": {
        "id": "XylEvWygnQxu"
      },
      "execution_count": null,
      "outputs": []
    },
    {
      "cell_type": "markdown",
      "source": [
        "**Q5**: Odd only list\n",
        "\n",
        "Write a program to create and print out a new list from a given list that only contains odd numbers.\n",
        "\n",
        "For this problem, you will be given lists and don't need to get input from the user (see the code blow).\n",
        "\n",
        "Example 1:\n",
        "```\n",
        "test_list = [1, 1, 1]\n",
        "[1,1,1]\n",
        "```\n",
        "\n",
        "Example 2:\n",
        "```\n",
        "test_list = [2, 2, 2]\n",
        "[]\n",
        "```\n",
        "\n",
        "Example 3:\n",
        "```\n",
        "test_list = [1 ,2 ,3, 4, 5]\n",
        "[1,3,5]\n",
        "```"
      ],
      "metadata": {
        "id": "1GJtGwKIjQEb"
      }
    },
    {
      "cell_type": "code",
      "source": [
        "# Comment out one at a time to test your code\n",
        "test_list = [1,1,1]\n",
        "# test_list = [2,2,2]\n",
        "# test_list = [1, 2, 3, 4, 5]\n",
        "\n",
        "# Fill in your code here. Your code must use test_list\n",
        "\n"
      ],
      "metadata": {
        "id": "o0I8hGiTjSbK"
      },
      "execution_count": null,
      "outputs": []
    },
    {
      "cell_type": "markdown",
      "source": [
        "**Q6**: Adjacent members\n",
        "\n",
        "Write a program to count how many adjacent items in a given list are the same. For example, given a list [1, 1, 2, 3, 3], there are two cases: [1,1] (index 0 and 1) and [3,3] (index 3 and 4).\n",
        "\n",
        "For this problem, you will be given lists and don't need to get input from the user (see the code blow).\n",
        "\n",
        "Example 1:\n",
        "```\n",
        "test_list = [1,2,3,4,5]\n",
        "0\n",
        "```\n",
        "\n",
        "```\n",
        "test_list = [1, 1, 2, 3, 3]\n",
        "2\n",
        "```\n",
        "\n",
        "```\n",
        "test_list = [1, 1, 1, 1, 1, 1]\n",
        "5\n",
        "```"
      ],
      "metadata": {
        "id": "xSvGy7wzjRp9"
      }
    },
    {
      "cell_type": "code",
      "source": [
        "# Comment out one at a time to test your code\n",
        "test_list = [1,2,3,4,5]\n",
        "# test_list = [1, 1, 2, 3, 3]\n",
        "# test_list = [1, 1, 1, 1, 1, 1]\n",
        "\n",
        "# Fill in your code here. Your code must use test_list\n",
        "\n"
      ],
      "metadata": {
        "id": "W3hm2ZcxjWAW"
      },
      "execution_count": null,
      "outputs": []
    },
    {
      "cell_type": "markdown",
      "source": [
        "**Q7**: FizzBuzz\n",
        "\n",
        "Given an integer $n$, return a list $answer$ where:\n",
        "\n",
        "* $\\texttt{answer[i] == \"FizzBuzz\"}$ if $\\texttt{i}$ is divisible by 3 and 5.\n",
        "* $\\texttt{answer[i] == \"Fizz\"}$ if $\\texttt{i}$ is divisible by 3.\n",
        "* $\\texttt{answer[i] == \"Buzz\"}$ if $\\texttt{i}$ is divisible by 5.\n",
        "* $\\texttt{answer[i] == i}$ if none of the above conditions are true.\n",
        "\n",
        "\n",
        "Example 1:\n",
        "\n",
        "```\n",
        "Enter n: 3\n",
        "[1,2,'Fizz']\n",
        "```\n",
        "\n",
        "Example 2:\n",
        "\n",
        "```\n",
        "Enter n: 5\n",
        "[1,2,'Fizz',4,'Buzz']\n",
        "```\n",
        "\n",
        "Example 3:\n",
        "\n",
        "```\n",
        "Enter n: 15\n",
        "[1,2,'Fizz',4,'Buzz','Fizz',7,8,'Fizz','Buzz',11,'Fizz',13,14,'FizzBuzz']\n",
        "```"
      ],
      "metadata": {
        "id": "YL-7UfvZjUGg"
      }
    },
    {
      "cell_type": "code",
      "source": [
        "\n",
        "\n"
      ],
      "metadata": {
        "id": "cNcGVu7qjWRH"
      },
      "execution_count": null,
      "outputs": []
    }
  ]
}