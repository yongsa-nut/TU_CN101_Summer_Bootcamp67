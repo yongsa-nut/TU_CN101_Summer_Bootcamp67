{
  "nbformat": 4,
  "nbformat_minor": 0,
  "metadata": {
    "colab": {
      "provenance": [],
      "authorship_tag": "ABX9TyMWBfIJkEINGSSgpZ2w1ug0",
      "include_colab_link": true
    },
    "kernelspec": {
      "name": "python3",
      "display_name": "Python 3"
    },
    "language_info": {
      "name": "python"
    }
  },
  "cells": [
    {
      "cell_type": "markdown",
      "metadata": {
        "id": "view-in-github",
        "colab_type": "text"
      },
      "source": [
        "<a href=\"https://colab.research.google.com/github/yongsa-nut/TU_CN101_Summer_Bootcamp67/blob/main/Repetition_Exercise.ipynb\" target=\"_parent\"><img src=\"https://colab.research.google.com/assets/colab-badge.svg\" alt=\"Open In Colab\"/></a>"
      ]
    },
    {
      "cell_type": "markdown",
      "source": [
        "**Q1**: What will the following program print out?\n",
        "\n",
        "```\n",
        "total = 0\n",
        "for i in range(10):\n",
        "  total += 3\n",
        "print(total)\n",
        "```"
      ],
      "metadata": {
        "id": "coATHaiMvpx1"
      }
    },
    {
      "cell_type": "code",
      "execution_count": null,
      "metadata": {
        "id": "ei684uHMvjtX"
      },
      "outputs": [],
      "source": []
    },
    {
      "cell_type": "markdown",
      "source": [
        "**Q2**: What will the following program print out?\n",
        "\n",
        "```\n",
        "total = 0\n",
        "count = 5\n",
        "while count > 0:\n",
        "  total = total + count\n",
        "  count = count - 1\n",
        "print(total)\n",
        "```"
      ],
      "metadata": {
        "id": "4X-zX3AkvqG6"
      }
    },
    {
      "cell_type": "code",
      "source": [],
      "metadata": {
        "id": "28_wgidxvqT_"
      },
      "execution_count": null,
      "outputs": []
    },
    {
      "cell_type": "markdown",
      "source": [
        "**Q3**: Fill in the blank so that the program print out 0, 1, 2, 3, 4"
      ],
      "metadata": {
        "id": "5IM7GgeDvqck"
      }
    },
    {
      "cell_type": "code",
      "source": [
        "for number in range(_):\n",
        "  print(number)"
      ],
      "metadata": {
        "id": "LV9ZAtLQvqpl"
      },
      "execution_count": null,
      "outputs": []
    },
    {
      "cell_type": "markdown",
      "source": [
        "**Q4**: There is a bug in the code below and the loop won't stop. Fill in the blank so that the loop will stop eventually."
      ],
      "metadata": {
        "id": "-NyktGb-vqy7"
      }
    },
    {
      "cell_type": "code",
      "source": [
        "count = 0\n",
        "while count < 5:\n",
        "  print(count)\n",
        "  _____________  #Fill in your code here"
      ],
      "metadata": {
        "id": "BpQu-xJnvrCi"
      },
      "execution_count": null,
      "outputs": []
    },
    {
      "cell_type": "markdown",
      "source": [
        "**Q5**: Calculate the average\n",
        "\n",
        "Write a program to calculate the average of a given list below.\n",
        "\n",
        "The average is the sum of all numbers in the sequence divided by the total number,\n",
        "$\\frac{1}{n}\\sum_i^n x_i$, where $x$ is a sequence of $n$ numbers."
      ],
      "metadata": {
        "id": "unNFkKMDvrTq"
      }
    },
    {
      "cell_type": "code",
      "source": [
        "data = [10,20,31,23,54,71,19,32,29]  # the mean should be 32.11...\n",
        "length = 9                           # You can get this using len(data) but we will talk about it tomorrow.\n",
        "# Fill in your code here\n"
      ],
      "metadata": {
        "id": "ntrqhhoLvrix"
      },
      "execution_count": null,
      "outputs": []
    },
    {
      "cell_type": "markdown",
      "source": [
        "**Q6**: Calculate sum from the user's input\n",
        "\n",
        "Write a program that repeatedly prompts a user for integer numbers until the user enters -999999.\n",
        "\n",
        "Once the loop stops, print out the sum of all numbers from the user.\n",
        "\n",
        "Example:\n",
        "```\n",
        "Enter a number: 5\n",
        "Enter a number: 3\n",
        "Enter a number: 10\n",
        "Enter a number: -999999\n",
        "The total is 18\n",
        "```"
      ],
      "metadata": {
        "id": "ix9l8E3lvr6G"
      }
    },
    {
      "cell_type": "code",
      "source": [
        "\n"
      ],
      "metadata": {
        "id": "zQW2KxHYvsG5"
      },
      "execution_count": null,
      "outputs": []
    },
    {
      "cell_type": "markdown",
      "source": [
        "**Q7**: Divisible sequence\n",
        "\n",
        "Write a program that take in two numbers $n$ and $m$ from a user. <br> Then print out a sequence of numbers from 1 to $n$ separated by commas. <br> If a number in the sequence is divisible by $m$, print 'D' instead.\n",
        "\n",
        "**Extra**: Don't print out any extra comma at the end.\n",
        "\n",
        "\n",
        "Example:\n",
        "\n",
        "```\n",
        "Enter n: 20\n",
        "Enter m: 4\n",
        "1,2,3,D,5,6,7,D,9,10,11,D,13,14,15,D,17,18,19,D\n",
        "```\n",
        "\n",
        "```\n",
        "Enter n: 100\n",
        "Enter m: 3\n",
        "1,2,D,4,5,D,7,8,D,10,11,D,13,14,D,16,17,D,19,20,D,22,23,D,25,26,D,28,29,D,31,32,D,34,35,D,37,38,D,40,41,D,43,44,D,46,47,D,49,50,D,52,53,D,55,56,D,58,59,D,61,62,D,64,65,D,67,68,D,70,71,D,73,74,D,76,77,D,79,80,D,82,83,D,85,86,D,88,89,D,91,92,D,94,95,D,97,98,D,100\n",
        "```"
      ],
      "metadata": {
        "id": "bhCo1EjUvxST"
      }
    },
    {
      "cell_type": "code",
      "source": [],
      "metadata": {
        "id": "sW2BmPiavxBq"
      },
      "execution_count": null,
      "outputs": []
    }
  ]
}