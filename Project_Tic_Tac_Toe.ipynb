{
  "nbformat": 4,
  "nbformat_minor": 0,
  "metadata": {
    "colab": {
      "provenance": [],
      "authorship_tag": "ABX9TyPu3kcDqiT3qT7uPOzFESrl",
      "include_colab_link": true
    },
    "kernelspec": {
      "name": "python3",
      "display_name": "Python 3"
    },
    "language_info": {
      "name": "python"
    }
  },
  "cells": [
    {
      "cell_type": "markdown",
      "metadata": {
        "id": "view-in-github",
        "colab_type": "text"
      },
      "source": [
        "<a href=\"https://colab.research.google.com/github/yongsa-nut/TU_CN101_Summer_Bootcamp67/blob/main/Project_Tic_Tac_Toe.ipynb\" target=\"_parent\"><img src=\"https://colab.research.google.com/assets/colab-badge.svg\" alt=\"Open In Colab\"/></a>"
      ]
    },
    {
      "cell_type": "markdown",
      "source": [
        "## Tic-Tac-Toe\n",
        "\n",
        "For the project, you will implement the game of Tic-Tac-Toe.\n",
        "\n",
        "Tic-Tac-Toe (or XO) is a two-player game that is played on a 3x3 grid. The players take turns marking spaces on the grid with their assigned symbol, an \"X\" for (1st player) or an \"O\" (2nd player). The objective of the game is to be the first player to get three of their symbols in a straight line, either horizontally, vertically, or diagonally. If all nine spaces on the grid are filled without either player achieving three in a row, the game ends in a draw.\n",
        "\n",
        "What you need to implement for this question are as follows.\n",
        "\n",
        "0) Setup: `'_'` is an empty space. `'X'` is the first player. `'O'` is the second player. We will use a 2D list to represent the game board. The initial board would be `board = [['_','_','_'],['_','_','_'],['_','_','_']]`.\n",
        "\n",
        "1) A function `main` as the main game loop to run the game.\n",
        "\n",
        "- Initialization.\n",
        "  - Empty board\n",
        "  - turn\n",
        "\n",
        "- The game loop: while no winner and not full board:\n",
        "  - print the board\n",
        "  - Get the next move from the current player.\n",
        "  - Update the board\n",
        "  - Update the turn\n",
        "- print the final board\n",
        "- print the result\n",
        "\n",
        "2) A function `print_board(board)` to print the board from the given 2d list. If you finish early, consider print the board more beautifully.\n",
        "\n",
        "Example:\n",
        "```\n",
        "test_board = [['_','X','_'],['_','O','_'],['_','_','X']]\n",
        "print_board(test_board)\n",
        "['_','X','_']\n",
        "['_','O','_']\n",
        "['_','_','X']\n",
        "```\n",
        "\n",
        "3) A function `check_winner(board)` to determine the winner ('X', 'O', or 'None'). Check horizontal and vertical using for-loop.\n",
        "\n",
        "Examples:\n",
        "```\n",
        "test_board = [['_','X','_'],['_','O','_'],['_','_','X']]\n",
        "check_winner(test_board)\n",
        "'None'\n",
        "```\n",
        "\n",
        "```\n",
        "test_board = [['X','X','X'],['_','O','O'],['_','_','_']]\n",
        "check_winner(test_board)\n",
        "'X'\n",
        "```\n",
        "\n",
        "```\n",
        "test_board = [['X','X','_'],['O','O','O'],['X','X','_']]\n",
        "check_winner(test_board)\n",
        "'O'\n",
        "```\n",
        "\n",
        "```\n",
        "test_board = [['X','_','_'],['_','X','_'],['O','O','X']]\n",
        "check_winner(test_board)\n",
        "'X'\n",
        "```\n",
        "\n",
        "4) A function `is_empty(board)` to check whether there is an empty space. Use for loop.\n",
        "\n",
        "Examples:\n",
        "```\n",
        "test_board = [['X','_','_'],['_','X','_'],['O','O','X']]\n",
        "is_empty(test_board)\n",
        "True\n",
        "```\n",
        "\n",
        "```\n",
        "test_board = [['X','O','X'],['X','X','O'],['O','O','X']]\n",
        "is_empty(test_board)\n",
        "False\n",
        "```\n",
        "\n",
        "5) A function `get_next_move()` to get the next move from the user and return **two numbers**, row and column of the next move.\n",
        "The program will only ask the user for one input, both row and column, from the user.\n",
        "  ```\n",
        "  Enter the next X's move: 0 0\n",
        "  ```\n",
        "\n",
        "\n",
        "**Recommendations**\n",
        "- Implement and test each function one by one.\n",
        "- Test your game or play with your friends."
      ],
      "metadata": {
        "id": "0OnCiwC9C-S5"
      }
    },
    {
      "cell_type": "code",
      "source": [
        "test_board = [['_','_','_'],['_','_','_'],['_','_','_']] # for testing your function\n",
        "\n",
        "# print_board function\n",
        "\n"
      ],
      "metadata": {
        "id": "Zupz5xziGCpq"
      },
      "execution_count": null,
      "outputs": []
    },
    {
      "cell_type": "code",
      "source": [
        "test_board = [['X','X','X'],['_','O','O'],['_','_','_']] # for testing your function\n",
        "\n",
        "# check_winner function\n"
      ],
      "metadata": {
        "id": "vlVp6g9JGE2w"
      },
      "execution_count": null,
      "outputs": []
    },
    {
      "cell_type": "code",
      "source": [
        "test_board = [['X','O','X'],['X','X','O'],['O','O','X']] # for testing your function\n",
        "\n",
        "# is_empty function\n"
      ],
      "metadata": {
        "id": "GyxBoYUfGLsO"
      },
      "execution_count": null,
      "outputs": []
    },
    {
      "cell_type": "code",
      "source": [
        "# get_input function\n"
      ],
      "metadata": {
        "id": "xXqSpyb_GNPZ"
      },
      "execution_count": null,
      "outputs": []
    },
    {
      "cell_type": "code",
      "execution_count": null,
      "metadata": {
        "id": "YWIvQlz6C9Qr"
      },
      "outputs": [],
      "source": [
        "# Don't forget to run all the functions above first\n",
        "\n",
        "def main():\n",
        "  board = [['_','_','_'],['_','_','_'],['_','_','_']]\n",
        "  turn = 'X'\n",
        "\n",
        "  # main game loop\n"
      ]
    }
  ]
}