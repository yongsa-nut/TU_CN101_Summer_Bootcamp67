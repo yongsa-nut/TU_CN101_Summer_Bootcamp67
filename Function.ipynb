{
  "nbformat": 4,
  "nbformat_minor": 0,
  "metadata": {
    "colab": {
      "provenance": [],
      "authorship_tag": "ABX9TyP5REfH+jw65V5pZCf3qzm6",
      "include_colab_link": true
    },
    "kernelspec": {
      "name": "python3",
      "display_name": "Python 3"
    },
    "language_info": {
      "name": "python"
    }
  },
  "cells": [
    {
      "cell_type": "markdown",
      "metadata": {
        "id": "view-in-github",
        "colab_type": "text"
      },
      "source": [
        "<a href=\"https://colab.research.google.com/github/yongsa-nut/TU_CN101_Summer_Bootcamp67/blob/main/Function.ipynb\" target=\"_parent\"><img src=\"https://colab.research.google.com/assets/colab-badge.svg\" alt=\"Open In Colab\"/></a>"
      ]
    },
    {
      "cell_type": "markdown",
      "source": [
        "# Function"
      ],
      "metadata": {
        "id": "4koybjvP_M1J"
      }
    },
    {
      "cell_type": "markdown",
      "source": [
        "## Function\n",
        "\n",
        "* **Function**: a named sequence of statements that performs a computation.\n",
        "* When you define a function, you specify the name and the sequence of statements.\n",
        "* Later, you can “call” the function by name.\n",
        "* Function is like a mini program inside your program.\n",
        "* Function helps breakdown a program into reusable and interpretable parts.\n"
      ],
      "metadata": {
        "id": "RS0Z-qBi_PHY"
      }
    },
    {
      "cell_type": "markdown",
      "source": [
        "## Defining a function\n",
        "\n",
        "```\n",
        "def function_name(optional inputs):\n",
        "  statement\n",
        "  statement\n",
        "  return optional outputs\n",
        "```\n",
        "\n",
        "* Function header: first line of function\n",
        "  * def (define) followed by the function name\n",
        "  * a list of optional parameters in parentheses(input to the function) and a colon (:).\n",
        "* Function body (block):\n",
        "  * Indented set of statements.\n",
        "* Calling a function: function_name(optional_paramters)\n",
        "\n"
      ],
      "metadata": {
        "id": "PrYXnlaA_U5T"
      }
    },
    {
      "cell_type": "code",
      "execution_count": null,
      "metadata": {
        "id": "0G7hJAvV-qKG"
      },
      "outputs": [],
      "source": [
        "def print_greeting():\n",
        "  # function block\n",
        "  print(\"Hello There\")\n",
        "  print(\"Welcome to the club\")\n",
        "\n",
        "# Calling a function\n",
        "print_greeting()"
      ]
    },
    {
      "cell_type": "code",
      "source": [
        "def do_something():\n",
        "  a = 20\n",
        "  b = 30\n",
        "  print(f\"{a} + {b} = {a+b}\")\n",
        "\n",
        "do_something()"
      ],
      "metadata": {
        "id": "VQTsoZW-_u7R"
      },
      "execution_count": null,
      "outputs": []
    },
    {
      "cell_type": "markdown",
      "source": [
        "## Function Name\n",
        "* Same rule as variables\n",
        "* Cannot be a reserved keyword\n",
        "* Cannot contain spaces\n",
        "* First character must be a letter or underscore\n",
        "* All other characters must be a letter, number or underscore\n",
        "* Case sensitive.\n",
        "* Function name should be descriptive of the task!\n"
      ],
      "metadata": {
        "id": "wbv1OXTy_23B"
      }
    },
    {
      "cell_type": "markdown",
      "source": [
        "## main() function\n",
        "* Is only a convention to indicate the mainline logic of a program\n",
        "* Has no special meaning in Python\n",
        "* Is normally used to call other functions when they are needed\n"
      ],
      "metadata": {
        "id": "qDJWJpb5_8vl"
      }
    },
    {
      "cell_type": "code",
      "source": [
        "# Without functions\n",
        "name = input(\"Enter a name: \")\n",
        "\n",
        "print(\"This will print your name.\")\n",
        "print(\"Your name:\", name)\n",
        "\n",
        "print(\"This will print length of your name.\")\n",
        "print(\"Lenght of your name\", len(name))"
      ],
      "metadata": {
        "id": "DDf65DYKAA4T"
      },
      "execution_count": null,
      "outputs": []
    },
    {
      "cell_type": "code",
      "source": [
        "# Without functions\n",
        "name = input(\"Enter a name: \")\n",
        "\n",
        "def print_name():\n",
        "  print(\"This will print your name.\")\n",
        "  print(\"Your name:\", name)\n",
        "\n",
        "def print_len():\n",
        "  print(\"This will print length of your name.\")\n",
        "  print(\"Lenght of your name\", len(name))\n",
        "\n",
        "def main():\n",
        "  print_name()\n",
        "  print_len()\n",
        "\n",
        "main()"
      ],
      "metadata": {
        "id": "YvWa9JBsAa77"
      },
      "execution_count": null,
      "outputs": []
    },
    {
      "cell_type": "markdown",
      "source": [
        "## return statement\n",
        "* Function generally returns a value(s).\n",
        "* **Syntax**:  `return expression`\n",
        "  * `expression`  is the thing you want to return.\n",
        "* If  return  is without any expression, default to return  None\n",
        "* If the function doesn't include  return , it returns  None  at the end.\n",
        "* **Importance**: whenever the program encounters return inside a function, the function terminates and returns immediately without executing the remaining statements inside the function\n"
      ],
      "metadata": {
        "id": "vHui3i5bAnNW"
      }
    },
    {
      "cell_type": "code",
      "source": [
        "# return ex1\n",
        "def get_my_name():\n",
        "  return \"Adam Smith\"\n",
        "\n",
        "name = get_my_name()\n",
        "print(name)"
      ],
      "metadata": {
        "id": "vFc5xc8WBUen"
      },
      "execution_count": null,
      "outputs": []
    },
    {
      "cell_type": "code",
      "source": [
        "# return ex2: no return\n",
        "def get_my_name():\n",
        "  print(\"Adam Smith\")\n",
        "\n",
        "name = get_my_name()\n",
        "print(name)"
      ],
      "metadata": {
        "id": "7wTlPNh7BdAD"
      },
      "execution_count": null,
      "outputs": []
    },
    {
      "cell_type": "code",
      "source": [
        "def add_something():\n",
        "  a = 20\n",
        "  b = 30\n",
        "  return a + b\n",
        "\n",
        "val = add_something()\n",
        "print(val)"
      ],
      "metadata": {
        "id": "H6E_UexKBqmB"
      },
      "execution_count": null,
      "outputs": []
    },
    {
      "cell_type": "code",
      "source": [
        "def add_something():\n",
        "  a = 20\n",
        "  b = 30\n",
        "  return a + b\n",
        "\n",
        "x = add_something() + add_something()\n",
        "print(x)"
      ],
      "metadata": {
        "id": "bt9vLPzCBx-1"
      },
      "execution_count": null,
      "outputs": []
    },
    {
      "cell_type": "markdown",
      "source": [
        "## Why return?\n",
        "* Variables created inside a function belong only to the function\n",
        "* Only statements inside that function can access it\n",
        "* Error will occur if another function tries to access the variable\n",
        "* Think of function as its own program.\n"
      ],
      "metadata": {
        "id": "0nGMZRV4B8Af"
      }
    },
    {
      "cell_type": "code",
      "source": [
        "def get_my_name():\n",
        "  my_name = input(\"Enter your name: \")\n",
        "\n",
        "get_my_name()\n",
        "print(my_name)"
      ],
      "metadata": {
        "colab": {
          "base_uri": "https://localhost:8080/",
          "height": 193
        },
        "id": "jXa5jy_4B_mj",
        "outputId": "06ba6458-769e-40d4-eddf-1c85d6b1d286"
      },
      "execution_count": 2,
      "outputs": [
        {
          "name": "stdout",
          "output_type": "stream",
          "text": [
            "Enter your name: 10\n"
          ]
        },
        {
          "output_type": "error",
          "ename": "NameError",
          "evalue": "name 'my_name' is not defined",
          "traceback": [
            "\u001b[0;31m---------------------------------------------------------------------------\u001b[0m",
            "\u001b[0;31mNameError\u001b[0m                                 Traceback (most recent call last)",
            "\u001b[0;32m<ipython-input-2-2862bee8b524>\u001b[0m in \u001b[0;36m<cell line: 5>\u001b[0;34m()\u001b[0m\n\u001b[1;32m      3\u001b[0m \u001b[0;34m\u001b[0m\u001b[0m\n\u001b[1;32m      4\u001b[0m \u001b[0mget_my_name\u001b[0m\u001b[0;34m(\u001b[0m\u001b[0;34m)\u001b[0m\u001b[0;34m\u001b[0m\u001b[0;34m\u001b[0m\u001b[0m\n\u001b[0;32m----> 5\u001b[0;31m \u001b[0mprint\u001b[0m\u001b[0;34m(\u001b[0m\u001b[0mmy_name\u001b[0m\u001b[0;34m)\u001b[0m\u001b[0;34m\u001b[0m\u001b[0;34m\u001b[0m\u001b[0m\n\u001b[0m",
            "\u001b[0;31mNameError\u001b[0m: name 'my_name' is not defined"
          ]
        }
      ]
    },
    {
      "cell_type": "markdown",
      "source": [
        "## Passing arguments to functions\n",
        "* Function can receive input/data and assign them to the optional parameters.\n",
        "  * Recall  `def function(optional_parameters):`\n",
        "* These parameters are local variables.\n",
        "* **Argument**: piece of data that is sent into a function\n",
        "* It is common to say that a function “takes” an argument(s) and “returns” a result(s).\n"
      ],
      "metadata": {
        "id": "UHqpuDliCYxM"
      }
    },
    {
      "cell_type": "code",
      "source": [
        "def print_name(name):\n",
        "  print(f\"My name is {name}\")\n",
        "\n",
        "print_name(\"Alice\")\n",
        "print_name(\"Bob\")"
      ],
      "metadata": {
        "colab": {
          "base_uri": "https://localhost:8080/"
        },
        "id": "oXH7wubKCfv2",
        "outputId": "c3ab44b3-2284-4750-bfaf-6e34e9014e57"
      },
      "execution_count": 4,
      "outputs": [
        {
          "output_type": "stream",
          "name": "stdout",
          "text": [
            "My name is Alice\n",
            "My name is Bob\n"
          ]
        }
      ]
    },
    {
      "cell_type": "code",
      "source": [
        "def double(num):\n",
        "  result = num*2\n",
        "  return result\n",
        "\n",
        "y = double((double(4)))\n",
        "print(y)"
      ],
      "metadata": {
        "colab": {
          "base_uri": "https://localhost:8080/"
        },
        "id": "BQ4QAIBNCphL",
        "outputId": "d71576ea-1e61-43da-8702-e27c1e6b6f07"
      },
      "execution_count": 5,
      "outputs": [
        {
          "output_type": "stream",
          "name": "stdout",
          "text": [
            "16\n"
          ]
        }
      ]
    },
    {
      "cell_type": "markdown",
      "source": [
        "## Python's functions can accept multiple arguments\n",
        "* Multiple parameter list are separated by comma\n",
        "* Positional arguments are passed by position to corresponding parameters\n",
        "  * The first parameter receives a value of the first argument\n",
        "  * The second parameter receives a value of the second argument\n",
        "  * …\n"
      ],
      "metadata": {
        "id": "64DnOMuLC7Dx"
      }
    },
    {
      "cell_type": "code",
      "source": [
        "# Multiple arguments to functions Examples\n",
        "def show_sum(num1,num2):\n",
        "  result = num1+ num2\n",
        "  return result\n",
        "\n",
        "x = show_sum(2,3)\n",
        "print(x)"
      ],
      "metadata": {
        "colab": {
          "base_uri": "https://localhost:8080/"
        },
        "id": "h9aWPORDDACW",
        "outputId": "0f8b42da-bd18-427b-d11f-68d73247712f"
      },
      "execution_count": 6,
      "outputs": [
        {
          "output_type": "stream",
          "name": "stdout",
          "text": [
            "5\n"
          ]
        }
      ]
    },
    {
      "cell_type": "code",
      "source": [
        "# A linear function example\n",
        "def linear(m,x,c):\n",
        "  return m*x + c\n",
        "\n",
        "print(linear(1,2,3))"
      ],
      "metadata": {
        "colab": {
          "base_uri": "https://localhost:8080/"
        },
        "id": "D-wcG8gjDLZs",
        "outputId": "259af5fc-7f21-4617-d4c9-c3e1199b2475"
      },
      "execution_count": 8,
      "outputs": [
        {
          "output_type": "stream",
          "name": "stdout",
          "text": [
            "5\n"
          ]
        }
      ]
    },
    {
      "cell_type": "markdown",
      "source": [
        "## Default Parameters\n",
        "* Function argument can be given default value\n",
        "* In function definition, parameters can be assigned default.\n",
        "* Default arguments must be given after all positional parameters.\n"
      ],
      "metadata": {
        "id": "v2Vmf_dzDVpI"
      }
    },
    {
      "cell_type": "code",
      "source": [
        "def show_sum(a=1,b=2):\n",
        "  print(f\"{a} + {b} = {a+b}\")\n",
        "\n",
        "show_sum()\n",
        "show_sum(2)\n",
        "show_sum(3,4)"
      ],
      "metadata": {
        "colab": {
          "base_uri": "https://localhost:8080/"
        },
        "id": "vx3ZPJGXDYXc",
        "outputId": "ce20e065-8db4-4a8a-be4c-00c92d780339"
      },
      "execution_count": 9,
      "outputs": [
        {
          "output_type": "stream",
          "name": "stdout",
          "text": [
            "1 + 2 = 3\n",
            "2 + 2 = 4\n",
            "3 + 4 = 7\n"
          ]
        }
      ]
    },
    {
      "cell_type": "markdown",
      "source": [
        "## Keyword Arguments\n",
        "* **Keyword argument**: argument that specifies which parameter the value should be passed to\n",
        "  * Position when calling function is irrelevant\n",
        "* **General Format**:  function(parameter=value)\n",
        "* Possible to mix keyword and positional arguments when calling a function\n",
        "* Positional arguments must appear before keyword arguments\n"
      ],
      "metadata": {
        "id": "CpvYA1s4Di3U"
      }
    },
    {
      "cell_type": "code",
      "source": [
        "def show_interest(principal, rate, periods):\n",
        "  interest = principal * rate * periods\n",
        "  print(f\"the simple interest wiill be {interest}\")\n",
        "\n",
        "def main():\n",
        "  show_interest(rate = 0.01, periods = 10, principal=1000)\n",
        "\n",
        "main()"
      ],
      "metadata": {
        "id": "0oS1RqE8D0Fx"
      },
      "execution_count": null,
      "outputs": []
    },
    {
      "cell_type": "markdown",
      "source": [
        "## Returning Multiple Values\n",
        "* A function can return multiple values\n",
        "* **Syntax**:  `return expression1, expression2, expression3`\n",
        "* You will need a seperate variable to receive each return value\n"
      ],
      "metadata": {
        "id": "gAwyy4utDpya"
      }
    },
    {
      "cell_type": "code",
      "source": [
        "def get_name():\n",
        "  first = input(\"Enter your first name: \")\n",
        "  last = input(\"Enter your last name: \")\n",
        "  return first, last\n",
        "\n",
        "first_name, last_name = get_name()\n",
        "print(f\"First name = {first_name}, last name = {last_name}\")"
      ],
      "metadata": {
        "id": "hjVlcDjgD0VF"
      },
      "execution_count": null,
      "outputs": []
    },
    {
      "cell_type": "markdown",
      "source": [
        "## Returning mutiple values example\n",
        "\n",
        "**Problem**: Write a function to get the current date (day/month/year), parse the date into three values for day, month, and year, and return them.\n"
      ],
      "metadata": {
        "id": "sahRrBU9D3K7"
      }
    },
    {
      "cell_type": "code",
      "source": [
        "def get_date():\n",
        "  date = input(\"Enter a date (dd/mm/yyyy): \")\n",
        "  date = date.split('/')\n",
        "  return date[0], date[1], date[2]\n",
        "\n",
        "def main()\n",
        "  day, month, year = get_date()\n",
        "  print(f\"Day: {day}\")\n",
        "  print(f\"Month: {month}\")\n",
        "  print(f\"Year: {year}\")\n",
        "\n",
        "main()"
      ],
      "metadata": {
        "colab": {
          "base_uri": "https://localhost:8080/",
          "height": 106
        },
        "id": "jTHNDk_hGZmX",
        "outputId": "72589d8f-16e8-46e1-c628-8ada7352a7a6"
      },
      "execution_count": 10,
      "outputs": [
        {
          "output_type": "error",
          "ename": "SyntaxError",
          "evalue": "expected ':' (<ipython-input-10-de1a1b375717>, line 6)",
          "traceback": [
            "\u001b[0;36m  File \u001b[0;32m\"<ipython-input-10-de1a1b375717>\"\u001b[0;36m, line \u001b[0;32m6\u001b[0m\n\u001b[0;31m    def main()\u001b[0m\n\u001b[0m              ^\u001b[0m\n\u001b[0;31mSyntaxError\u001b[0m\u001b[0;31m:\u001b[0m expected ':'\n"
          ]
        }
      ]
    },
    {
      "cell_type": "markdown",
      "source": [
        "## Summary: Function = mini-program\n",
        "* Questions to ask:\n",
        "  * What are the inputs necessary to compute the function?\n",
        "  * What are the outputs?\n"
      ],
      "metadata": {
        "id": "dhK-UUHND-83"
      }
    }
  ]
}