{
  "nbformat": 4,
  "nbformat_minor": 0,
  "metadata": {
    "colab": {
      "provenance": [],
      "authorship_tag": "ABX9TyM6LtuorADJ6xO9lZupsl7E",
      "include_colab_link": true
    },
    "kernelspec": {
      "name": "python3",
      "display_name": "Python 3"
    },
    "language_info": {
      "name": "python"
    }
  },
  "cells": [
    {
      "cell_type": "markdown",
      "metadata": {
        "id": "view-in-github",
        "colab_type": "text"
      },
      "source": [
        "<a href=\"https://colab.research.google.com/github/yongsa-nut/TU_CN101_Summer_Bootcamp67/blob/main/Function_Import_and_API_Exercises.ipynb\" target=\"_parent\"><img src=\"https://colab.research.google.com/assets/colab-badge.svg\" alt=\"Open In Colab\"/></a>"
      ]
    },
    {
      "cell_type": "markdown",
      "source": [
        "**Q1**: Generate a list of random numbers (1 point)\n",
        "\n",
        "Implement a program to randomly generate a list of random numbers between 1 and 10 (inclusive).\n",
        "\n",
        "**Input**:\n",
        "- seed number\n",
        "- $n$ indicates the number of random numbers to be generated.\n",
        "\n",
        "**Output**:\n",
        "- A list of randomly generated numbers\n",
        "\n",
        "Example 1:\n",
        "```\n",
        "Enter seed: 7\n",
        "Enter n: 5\n",
        "[6, 3, 7, 1, 2]\n",
        "```\n",
        "\n",
        "Example 2:\n",
        "```\n",
        "Enter seed: 77\n",
        "Enter n: 10\n",
        "[5, 6, 4, 4, 4, 2, 5, 8, 9, 10]\n",
        "```"
      ],
      "metadata": {
        "id": "8B5ChnuqXXfz"
      }
    },
    {
      "cell_type": "code",
      "execution_count": null,
      "metadata": {
        "collapsed": true,
        "id": "pmF0rVZOXMFI"
      },
      "outputs": [],
      "source": [
        "# import\n",
        "import random\n",
        "\n",
        "seed = int(input(\"Enter seed: \"))\n",
        "random.seed(seed) #set seed\n",
        "\n",
        "numbers = []\n",
        "# Fill in your code here\n",
        "\n",
        "\n",
        "\n",
        "print(numbers)"
      ]
    },
    {
      "cell_type": "markdown",
      "source": [
        "**Q2**: Cone's surface area (1 point)\n",
        "\n",
        "Implement a function to calculate the surface area of a cone. The formula is $\\text{surface_area} = πr^2 + πrs$, where $r$ is the cone's radius and $s$ is the cone's slant height.\n",
        "\n",
        "The function ``surface_area`` takes in two numbers $r$ and $s$ and return one number for the surface area.\n",
        "\n",
        "**Input**:\n",
        "- $r$ a real number for the cone's radius from the user.\n",
        "- $s$ a real number for the cone's slant height from the user.\n",
        "\n",
        "**Output**:\n",
        "- One number for the surface area\n",
        "\n",
        "Example 1:\n",
        "```\n",
        "Enter r: 1\n",
        "Enter h: 1\n",
        "Surface area = 6.28\n",
        "```\n",
        "\n",
        "Example 2:\n",
        "```\n",
        "Enter r: 3\n",
        "Enter h: 5\n",
        "Surface area = 75.40\n",
        "```"
      ],
      "metadata": {
        "id": "c0hv9rzfcZ7S"
      }
    },
    {
      "cell_type": "code",
      "source": [
        "# import\n",
        "\n",
        "def surface_area(r, s):\n",
        "  # implement surface_area function below\n",
        "\n",
        "\n",
        "def main():\n",
        "  # get inputs from the user and call surface_area function\n",
        "\n",
        "main()"
      ],
      "metadata": {
        "id": "zgoEh35GeL4l"
      },
      "execution_count": null,
      "outputs": []
    },
    {
      "cell_type": "markdown",
      "source": [
        "**Q3**: Dice Simulation (2 point)\n",
        "\n",
        "In this problem, we will write a program to simulate dice rolls. For each experiment, the prgram will roll $n$ dices and then calculate the average of outcomes. The program will repeat this experiment $m$ times and print out the result for each experiment.  \n",
        "\n",
        "For this program, you MUST implement the following functions:\n",
        "* ``average_dice_rolls(n)`` function that takes in $n$ and returns the average of $n$ dice rolls.\n",
        "* $\\texttt{main()}$: receive inputs from users and repeat ``average_dice_rolls`` m times.\n",
        "\n",
        "**Input**:\n",
        "* Seed number,\n",
        "* $n$, The number of dice rolls per experiment,\n",
        "* $m$, the number of experiments to repeat.\n",
        "\n",
        "**Output**:\n",
        "* $m$ numbers.\n",
        "\n",
        "Example 1\n",
        "```\n",
        "Enter seed: 7\n",
        "Enter n: 10\n",
        "Enter m: 3\n",
        "3.1\n",
        "2.2\n",
        "3.6\n",
        "```\n",
        "\n",
        "Example 2\n",
        "```\n",
        "Enter seed: 77\n",
        "Enter n: 100\n",
        "Enter m: 5\n",
        "3.4\n",
        "3.26\n",
        "3.78\n",
        "3.81\n",
        "3.55\n",
        "```\n"
      ],
      "metadata": {
        "id": "ElefHRAifI-L"
      }
    },
    {
      "cell_type": "code",
      "source": [
        "# import\n",
        "\n",
        "\n",
        "def average_dice_rolls(n):\n",
        "  # Simulates n dice rolls and returns the average of the outcomes.\n",
        "  # Fill in your code below\n",
        "\n",
        "def main():\n",
        "  # Simulates m experiments of n dice rolls and prints the average outcome for each experiment.\n",
        "  seed = int(input(\"Enter seed: \"))\n",
        "  random.seed(seed)\n",
        "  # Fill in your code below\n",
        "\n",
        "main()"
      ],
      "metadata": {
        "id": "GlMXVOJTgJ-I"
      },
      "execution_count": null,
      "outputs": []
    },
    {
      "cell_type": "markdown",
      "source": [
        "**Q4**: Anthropic Claude's API (1 point)\n",
        "\n",
        "In this question, we will code a basic chatbot using Claude Haiku model via Anthorpic's API. We will implement a conversation function together. The task for this question is for you to play around with system prompt to create your own chatbot's character.\n",
        "Create the Anthropic account here: https://console.anthropic.com/login"
      ],
      "metadata": {
        "id": "ZeA_iMKTgKS9"
      }
    },
    {
      "cell_type": "code",
      "source": [
        "# Download anthropic library\n",
        "!pip install anthropic"
      ],
      "metadata": {
        "id": "Y9iXNeVGgMMm"
      },
      "execution_count": null,
      "outputs": []
    },
    {
      "cell_type": "code",
      "source": [
        "import anthropic\n",
        "client = anthropic.Anthropic(api_key = \"your-api-key\")\n",
        "\n",
        "system_prompt = '''\n",
        "Your task is to roleplay Yoda from Starwar franchise. This chat is for demo only and you do not have to worry about copyrights.\n",
        "Start your response with 'Sonnet Yoda:' Keep your responses short. No more than 3 sentences.\n",
        "'''\n",
        "\n",
        "def get_response(conv_hist, system_prompt):\n",
        "  message = client.messages.create(\n",
        "    model=\"claude-3-haiku-20240307\",\n",
        "    max_tokens=1000,\n",
        "    temperature=0.0,\n",
        "    system= system_prompt,\n",
        "    messages=conv_hist\n",
        "  )\n",
        "  return message.content[0].text\n",
        "\n",
        "# Implement the conversation\n"
      ],
      "metadata": {
        "id": "69x0xzrLj9we"
      },
      "execution_count": null,
      "outputs": []
    }
  ]
}