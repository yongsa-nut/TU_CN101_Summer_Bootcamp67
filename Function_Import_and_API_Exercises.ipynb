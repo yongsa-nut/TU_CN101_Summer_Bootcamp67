{
  "nbformat": 4,
  "nbformat_minor": 0,
  "metadata": {
    "colab": {
      "provenance": [],
      "authorship_tag": "ABX9TyMGsj4+ezHy7ywix5+YW0G/",
      "include_colab_link": true
    },
    "kernelspec": {
      "name": "python3",
      "display_name": "Python 3"
    },
    "language_info": {
      "name": "python"
    }
  },
  "cells": [
    {
      "cell_type": "markdown",
      "metadata": {
        "id": "view-in-github",
        "colab_type": "text"
      },
      "source": [
        "<a href=\"https://colab.research.google.com/github/yongsa-nut/TU_CN101_Summer_Bootcamp67/blob/main/Function_Import_and_API_Exercises.ipynb\" target=\"_parent\"><img src=\"https://colab.research.google.com/assets/colab-badge.svg\" alt=\"Open In Colab\"/></a>"
      ]
    },
    {
      "cell_type": "markdown",
      "source": [
        "**Q1**: Generate a list of random numbers (1 point)\n",
        "\n",
        "Implement a program to randomly generate a list of random numbers between 1 and 10 (inclusive).\n",
        "\n",
        "**Input**:\n",
        "- seed number\n",
        "- $n$ indicates the number of random numbers to be generated.\n",
        "\n",
        "**Output**:\n",
        "- A list of randomly generated numbers\n",
        "\n",
        "Example 1:\n",
        "```\n",
        "Enter seed: 7\n",
        "Enter n: 5\n",
        "[6, 3, 7, 1, 2]\n",
        "```\n",
        "\n",
        "Example 2:\n",
        "```\n",
        "Enter seed: 77\n",
        "Enter n: 10\n",
        "[5, 6, 4, 4, 4, 2, 5, 8, 9, 10]\n",
        "```"
      ],
      "metadata": {
        "id": "8B5ChnuqXXfz"
      }
    },
    {
      "cell_type": "code",
      "execution_count": null,
      "metadata": {
        "collapsed": true,
        "id": "pmF0rVZOXMFI"
      },
      "outputs": [],
      "source": [
        "# import\n",
        "import random\n",
        "\n",
        "seed = int(input(\"Enter seed: \"))\n",
        "random.seed(seed) #set seed\n",
        "\n",
        "numbers = []\n",
        "# Fill in your code here\n",
        "\n",
        "\n",
        "\n",
        "print(numbers)"
      ]
    },
    {
      "cell_type": "markdown",
      "source": [
        "**Q2**: Cone's surface area (1 point)\n",
        "\n",
        "Implement a function to calculate the surface area of a cone. The formula is $\\text{surface_area} = πr^2 + πrs$, where $r$ is the cone's radius and $s$ is the cone's slant height.\n",
        "\n",
        "The function ``surface_area`` takes in two numbers $r$ and $s$ and return one number for the surface area.\n",
        "\n",
        "**Input**:\n",
        "- $r$ a real number for the cone's radius from the user.\n",
        "- $s$ a real number for the cone's slant height from the user.\n",
        "\n",
        "**Output**:\n",
        "- One number for the surface area\n",
        "\n",
        "Example 1:\n",
        "```\n",
        "Enter r: 1\n",
        "Enter h: 1\n",
        "Surface area = 6.28\n",
        "```\n",
        "\n",
        "Example 2:\n",
        "```\n",
        "Enter r: 3\n",
        "Enter h: 5\n",
        "Surface area = 75.40\n",
        "```"
      ],
      "metadata": {
        "id": "c0hv9rzfcZ7S"
      }
    },
    {
      "cell_type": "code",
      "source": [
        "# import\n",
        "\n",
        "def surface_area(r, s):\n",
        "  # implement surface_area function below\n",
        "\n",
        "\n",
        "def main():\n",
        "  # get inputs from the user and call surface_area function\n",
        "\n",
        "main()"
      ],
      "metadata": {
        "id": "zgoEh35GeL4l"
      },
      "execution_count": null,
      "outputs": []
    },
    {
      "cell_type": "markdown",
      "source": [
        "**Q3**: Dice Simulation (2 point)\n",
        "\n",
        "In this problem, we will write a program to simulate dice rolls. For each experiment, the prgram will roll $n$ dices and then calculate the average of outcomes. The program will repeat this experiment $m$ times and print out the result for each experiment.  \n",
        "\n",
        "For this program, you MUST implement the following functions:\n",
        "* ``average_dice_rolls(n)`` function that takes in $n$ and returns the average of $n$ dice rolls.\n",
        "* $\\texttt{main()}$: receive inputs from users and repeat ``average_dice_rolls`` m times.\n",
        "\n",
        "**Input**:\n",
        "* Seed number,\n",
        "* $n$, The number of dice rolls per experiment,\n",
        "* $m$, the number of experiments to repeat.\n",
        "\n",
        "**Output**:\n",
        "* $m$ numbers.\n",
        "\n",
        "Example 1\n",
        "```\n",
        "Enter seed: 7\n",
        "Enter n: 10\n",
        "Enter m: 3\n",
        "3.1\n",
        "2.2\n",
        "3.6\n",
        "```\n",
        "\n",
        "Example 2\n",
        "```\n",
        "Enter seed: 77\n",
        "Enter n: 100\n",
        "Enter m: 5\n",
        "3.4\n",
        "3.26\n",
        "3.78\n",
        "3.81\n",
        "3.55\n",
        "```\n"
      ],
      "metadata": {
        "id": "ElefHRAifI-L"
      }
    },
    {
      "cell_type": "code",
      "source": [
        "# import\n",
        "\n",
        "\n",
        "def average_dice_rolls(n):\n",
        "  # Simulates n dice rolls and returns the average of the outcomes.\n",
        "  # Fill in your code below\n",
        "\n",
        "def main():\n",
        "  seed = int(input(\"Enter seed: \"))\n",
        "  random.seed(seed)\n",
        "  # Simulates m experiments of n dice rolls and prints the average outcome for each experiment.\n",
        "  # Fill in your code below\n",
        "\n",
        "\n",
        "main()"
      ],
      "metadata": {
        "id": "GlMXVOJTgJ-I"
      },
      "execution_count": null,
      "outputs": []
    },
    {
      "cell_type": "markdown",
      "source": [
        "**Q4**: Let's build a chatbot!\n",
        "\n",
        "In this question, we build a chatbot using cohere API. Follow the instruction in the slide to get the API key first."
      ],
      "metadata": {
        "id": "ZeA_iMKTgKS9"
      }
    },
    {
      "cell_type": "code",
      "source": [
        "# Download cohere Library\n",
        "!pip install cohere --upgrade"
      ],
      "metadata": {
        "id": "Y9iXNeVGgMMm"
      },
      "execution_count": null,
      "outputs": []
    },
    {
      "cell_type": "code",
      "source": [
        "import cohere\n",
        "\n",
        "co = cohere.Client(\"Your-API-Key\")"
      ],
      "metadata": {
        "id": "DAsVkUUXZeod"
      },
      "execution_count": null,
      "outputs": []
    },
    {
      "cell_type": "code",
      "source": [
        "def get_response(chat_history, new_message):\n",
        "  response = response = co.chat(\n",
        "    chat_history = chat_history,\n",
        "\t  message= new_message\n",
        "  )\n",
        "  return response.text\n",
        "\n",
        "get_response([], \"Hello!\") #Make sure this code run first"
      ],
      "metadata": {
        "id": "69x0xzrLj9we"
      },
      "execution_count": null,
      "outputs": []
    },
    {
      "cell_type": "markdown",
      "source": [
        "Below is where you will implement your chatbot\n",
        "* The `get_response` function above takes in two inputs: `chat_history` and `new_message`. You will use it to get response from Cohere API.\n",
        "\n",
        "Your task is to implement a conversation system as follows:\n",
        "- Create a while loop that go on forver until the user enter 'Done'\n",
        "- Inside the while loop:\n",
        "  - First, get the input from the user.\n",
        "  - Then, pass the input and chat_history to `get_response` to get a response from the model\n",
        "  - Then update the `chat_history` as follows:\n",
        "    - Append a dictionary corresponds to the user's input to `chat_history`. `{'role':'USER','message':user_input}`\n",
        "    - Append a dictionary corresponds to the model's response to `chat_history` `{'role':'CHAT','message':response}`"
      ],
      "metadata": {
        "id": "_E-ybU6QZgim"
      }
    },
    {
      "cell_type": "code",
      "source": [
        "# Feel free to change the system message to different characters\n",
        "chat_history = [{\"role\":\"SYSTEM\", \"message\":\"You are Yoda from Starwar. Keep your answer concise.\"}]\n",
        "\n",
        "# The conversation will go on forver until the user enters 'Done'\n",
        "while True:\n",
        "  user_input = input('User: ')\n",
        "  if user_input == 'Done':\n",
        "    break\n",
        "  # Fill in your code below\n",
        "\n"
      ],
      "metadata": {
        "id": "F8M9gAabZlef"
      },
      "execution_count": null,
      "outputs": []
    }
  ]
}