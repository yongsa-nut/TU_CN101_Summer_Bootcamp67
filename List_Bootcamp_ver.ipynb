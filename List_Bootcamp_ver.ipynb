{
  "nbformat": 4,
  "nbformat_minor": 0,
  "metadata": {
    "colab": {
      "provenance": [],
      "authorship_tag": "ABX9TyNtaujPivrtEPgxk+jURWVW",
      "include_colab_link": true
    },
    "kernelspec": {
      "name": "python3",
      "display_name": "Python 3"
    },
    "language_info": {
      "name": "python"
    }
  },
  "cells": [
    {
      "cell_type": "markdown",
      "metadata": {
        "id": "view-in-github",
        "colab_type": "text"
      },
      "source": [
        "<a href=\"https://colab.research.google.com/github/yongsa-nut/TU_CN101_Summer_Bootcamp67/blob/main/List_Bootcamp_ver.ipynb\" target=\"_parent\"><img src=\"https://colab.research.google.com/assets/colab-badge.svg\" alt=\"Open In Colab\"/></a>"
      ]
    },
    {
      "cell_type": "markdown",
      "source": [
        "# List"
      ],
      "metadata": {
        "id": "3mAYHE13-UpF"
      }
    },
    {
      "cell_type": "markdown",
      "source": [
        "## List\n",
        "\n",
        "`list` : a list of items enclosed in `[ ]` and separated by commas.\n",
        "* Syntax:  `list = [item1, item2, item3]`\n",
        "* items can be any data type (int, float, string, etc.)\n"
      ],
      "metadata": {
        "id": "7ZmRRDGl-WkD"
      }
    },
    {
      "cell_type": "code",
      "execution_count": 1,
      "metadata": {
        "colab": {
          "base_uri": "https://localhost:8080/"
        },
        "id": "ipsIp1gY-RmB",
        "outputId": "6cf36560-93f3-4c07-ccfa-3f70d1d74c80"
      },
      "outputs": [
        {
          "output_type": "stream",
          "name": "stdout",
          "text": [
            "[10, 30, 24, 15, 24, 50, 12]\n"
          ]
        }
      ],
      "source": [
        "list1 = [10, 30, 24, 15, 24, 50, 12]\n",
        "print(list1)"
      ]
    },
    {
      "cell_type": "code",
      "source": [
        "list2 = [\"A\",\"B\",\"C\",\"D\",\"E\"]\n",
        "print(list2)"
      ],
      "metadata": {
        "colab": {
          "base_uri": "https://localhost:8080/"
        },
        "id": "b1MX837Z-mP9",
        "outputId": "1b1a8a0b-0fb5-4030-de94-d77d642175b1"
      },
      "execution_count": 2,
      "outputs": [
        {
          "output_type": "stream",
          "name": "stdout",
          "text": [
            "['A', 'B', 'C', 'D', 'E']\n"
          ]
        }
      ]
    },
    {
      "cell_type": "markdown",
      "source": [
        "## List: Indexing\n",
        "* You access elements in the list by indexing\n",
        "* Index: a number specifying the position of an element in a list\n",
        "* Syntax:  list[i], where  i  is the index\n",
        "* Sequence of index:  `0, 1, ..., n - 1` , where  `n`  = the length of the list."
      ],
      "metadata": {
        "id": "pB0rnBDv_Gqa"
      }
    },
    {
      "cell_type": "code",
      "source": [
        "seq1 = [\"A\",\"B\",\"C\",\"D\",\"E\",\"F\"]\n",
        "#index   0   1   2   3   4   5\n",
        "print(seq1[0])\n",
        "print(seq1[4])"
      ],
      "metadata": {
        "colab": {
          "base_uri": "https://localhost:8080/"
        },
        "id": "MzxOEVvt_trV",
        "outputId": "9e129586-849e-428a-d676-ab654c2eb260"
      },
      "execution_count": 3,
      "outputs": [
        {
          "output_type": "stream",
          "name": "stdout",
          "text": [
            "A\n",
            "E\n"
          ]
        }
      ]
    },
    {
      "cell_type": "markdown",
      "source": [
        "* Index: a number specifying the position of an element in a list\n",
        "* Index can be negative: Counting backward. The last element index is -1.\n"
      ],
      "metadata": {
        "id": "7ioyxFsUAZUS"
      }
    },
    {
      "cell_type": "code",
      "source": [
        "seq1 = [\"A\",\"B\",\"C\",\"D\",\"E\",\"F\"]\n",
        "#index  -6  -5  -4  -3  -2  -1\n",
        "print(seq1[-1])\n",
        "print(seq1[-4])"
      ],
      "metadata": {
        "colab": {
          "base_uri": "https://localhost:8080/"
        },
        "id": "2JXNIlG6AZHu",
        "outputId": "42589aa2-7fd1-4e51-d8a5-8d8536d9a1c0"
      },
      "execution_count": 4,
      "outputs": [
        {
          "output_type": "stream",
          "name": "stdout",
          "text": [
            "F\n",
            "C\n"
          ]
        }
      ]
    },
    {
      "cell_type": "markdown",
      "source": [
        "## List: Updating\n",
        "\n",
        "* Assigning new value:  list[index] = new_value\n",
        "* index has to be valid (not out of range)."
      ],
      "metadata": {
        "id": "89cYaDCNA0E1"
      }
    },
    {
      "cell_type": "code",
      "source": [
        "seq1 = [\"A\",\"B\",\"C\",\"D\",\"E\",\"F\"]\n",
        "\n",
        "print(f\"Before seq1[1] = {seq1[1]}\")\n",
        "seq1[1] = \"O\"\n",
        "print(f\"After seq1[1] = {seq1[1]}\")\n",
        "seq1[1] = 2\n",
        "print(f\"After2 seq1[1] = {seq1[1]}\")"
      ],
      "metadata": {
        "colab": {
          "base_uri": "https://localhost:8080/"
        },
        "id": "B41dpRFBA8WA",
        "outputId": "c18e29dd-3f80-4b3b-a4a8-460c20b06f02"
      },
      "execution_count": 5,
      "outputs": [
        {
          "output_type": "stream",
          "name": "stdout",
          "text": [
            "Before seq1[1] = B\n",
            "After seq1[1] = O\n",
            "After2 seq1[1] = 2\n"
          ]
        }
      ]
    },
    {
      "cell_type": "markdown",
      "source": [
        "## Looping through a list\n",
        "\n",
        "\n",
        "* 1st Iteration: num = 1\n",
        "* 2nd Iteration: num = 2\n",
        "* 3rd Iteration: num = 3\n",
        "* 4th Iteration: num = 4\n",
        "* 5th Iteration: num =5"
      ],
      "metadata": {
        "id": "f6SOFM_mBNMI"
      }
    },
    {
      "cell_type": "code",
      "source": [
        "for num in [1,2,3,4,5]:\n",
        "  print(num)"
      ],
      "metadata": {
        "colab": {
          "base_uri": "https://localhost:8080/"
        },
        "id": "LCOZybTIBLpc",
        "outputId": "1a41f9b4-d02e-4d3b-d923-4797d0bc6481"
      },
      "execution_count": 6,
      "outputs": [
        {
          "output_type": "stream",
          "name": "stdout",
          "text": [
            "1\n",
            "2\n",
            "3\n",
            "4\n",
            "5\n"
          ]
        }
      ]
    },
    {
      "cell_type": "markdown",
      "source": [
        "## For loop through indexes of a list\n",
        "* `len(list)` function returns the length of list\n",
        "* `range(len(list))` generate a sequence of numbers from `0` to `len(list) - 1`  \n"
      ],
      "metadata": {
        "id": "dOt1qiWgBkzN"
      }
    },
    {
      "cell_type": "code",
      "source": [
        "names = [\"Alice\",\"Danny\",\"Matthew\",\"Rosa\"]\n",
        "for i in range(len(names)):\n",
        "  print(names[i])"
      ],
      "metadata": {
        "colab": {
          "base_uri": "https://localhost:8080/"
        },
        "id": "RRhmdnTiBrH6",
        "outputId": "d817a162-2b9f-4d22-ce56-642248813a6a"
      },
      "execution_count": 7,
      "outputs": [
        {
          "output_type": "stream",
          "name": "stdout",
          "text": [
            "Alice\n",
            "Danny\n",
            "Matthew\n",
            "Rosa\n"
          ]
        }
      ]
    },
    {
      "cell_type": "markdown",
      "source": [
        "## Updating list example: Age number to young/old\n",
        "* Problem: Given a list of numbers (age), turn it into a list of \"young\" and\n",
        "  \"old\". If age is less than 18, \"young\". Otherwise, \"old\".\n",
        "* Example:\n",
        "  * Before: Age_list = [10,30,50,15]\n",
        "  * After: Age_list = [‘young’,’old’,’old’,’young’]"
      ],
      "metadata": {
        "id": "-J7MV9V2Bzhc"
      }
    },
    {
      "cell_type": "code",
      "source": [
        "age_list = [10, 50, 30, 15]\n",
        "for i in range(len(age_list)):\n",
        "  if age_list[i] > 18:\n",
        "    age_list[i] = 'old'\n",
        "  else:\n",
        "    age_list[i] = 'young'\n",
        "print(age_list)"
      ],
      "metadata": {
        "colab": {
          "base_uri": "https://localhost:8080/"
        },
        "id": "6zkz2E-nB9nA",
        "outputId": "7b8d07ba-c71a-4f8e-f767-62579dd6d6bc"
      },
      "execution_count": 8,
      "outputs": [
        {
          "output_type": "stream",
          "name": "stdout",
          "text": [
            "['young', 'old', 'old', 'young']\n"
          ]
        }
      ]
    },
    {
      "cell_type": "markdown",
      "source": [
        "## Repetition Operator: *\n",
        "* `*`  : a repetition operator\n",
        "* **Syntax**: `list * n`\n",
        "* Creates a new list which repeats the old list `n` times\n"
      ],
      "metadata": {
        "id": "kUxbXTvDCJvH"
      }
    },
    {
      "cell_type": "code",
      "source": [
        "# * ex1\n",
        "num1 = [1,2,3]\n",
        "num2 = num1 * 3\n",
        "print(num2)"
      ],
      "metadata": {
        "colab": {
          "base_uri": "https://localhost:8080/"
        },
        "id": "wm4lX6rPCSId",
        "outputId": "ba99091b-c65e-4c85-99e5-9dcae7427f06"
      },
      "execution_count": 10,
      "outputs": [
        {
          "output_type": "stream",
          "name": "stdout",
          "text": [
            "[1, 2, 3, 1, 2, 3, 1, 2, 3]\n"
          ]
        }
      ]
    },
    {
      "cell_type": "code",
      "source": [
        "# * ex2\n",
        "zeros = [0]*5\n",
        "print(zeros)"
      ],
      "metadata": {
        "colab": {
          "base_uri": "https://localhost:8080/"
        },
        "id": "doiae1Z5CX0s",
        "outputId": "2386fad3-d393-4d2d-d7e5-0e1bb52c4e33"
      },
      "execution_count": 11,
      "outputs": [
        {
          "output_type": "stream",
          "name": "stdout",
          "text": [
            "[0, 0, 0, 0, 0]\n"
          ]
        }
      ]
    },
    {
      "cell_type": "markdown",
      "source": [
        "## Concatenation Operator: +\n",
        "* `+`  : a concatenation operator\n",
        "* **Syntax**: `list1 + list2`\n",
        "* Creates a new list which concatenate the two lists together\n"
      ],
      "metadata": {
        "id": "EL7fJElwCfql"
      }
    },
    {
      "cell_type": "code",
      "source": [
        "seq1 = [\"A\",\"B\",\"C\",\"D\",\"E\",\"F\"]\n",
        "seq2 = [\"G\",\"H\",\"I\"]\n",
        "seq3 = seq1 + seq2\n",
        "print(seq3)"
      ],
      "metadata": {
        "colab": {
          "base_uri": "https://localhost:8080/"
        },
        "id": "i5sgQWpkClkh",
        "outputId": "f40d93a6-be9a-4c8c-bf2f-9e155940df54"
      },
      "execution_count": 12,
      "outputs": [
        {
          "output_type": "stream",
          "name": "stdout",
          "text": [
            "['A', 'B', 'C', 'D', 'E', 'F', 'G', 'H', 'I']\n"
          ]
        }
      ]
    },
    {
      "cell_type": "markdown",
      "source": [
        "## Checking item Operator: in\n",
        "* `in`  : checking item in the list (return True or False)\n",
        "* **Syntax**: `item in list`\n"
      ],
      "metadata": {
        "id": "oN3ZlrfQCvUt"
      }
    },
    {
      "cell_type": "code",
      "source": [
        "names = [\"Alice\",\"Danny\",\"Matthew\",\"Rosa\"]\n",
        "\n",
        "print(\"Alice\" in names)\n",
        "print(\"alice\" in names)"
      ],
      "metadata": {
        "colab": {
          "base_uri": "https://localhost:8080/"
        },
        "id": "QXjiDQ1vCzkS",
        "outputId": "574250e5-16a5-49ba-c929-22a77e1e8732"
      },
      "execution_count": 13,
      "outputs": [
        {
          "output_type": "stream",
          "name": "stdout",
          "text": [
            "True\n",
            "False\n"
          ]
        }
      ]
    },
    {
      "cell_type": "markdown",
      "source": [
        "## append() Method: Adding new values to the list\n",
        "\n",
        "* **Syntax**: `list.append(item)`\n",
        "* Adding the item to the end of the list.\n"
      ],
      "metadata": {
        "id": "Luc9_UQAC6z-"
      }
    },
    {
      "cell_type": "code",
      "source": [
        "age_list = [10, 50, 20]\n",
        "age_list.append(15)\n",
        "print(age_list)"
      ],
      "metadata": {
        "colab": {
          "base_uri": "https://localhost:8080/"
        },
        "id": "mD6tKRFqDBtw",
        "outputId": "43594d19-7998-42d8-dee4-469ca7c87b60"
      },
      "execution_count": 14,
      "outputs": [
        {
          "output_type": "stream",
          "name": "stdout",
          "text": [
            "[10, 50, 20, 15]\n"
          ]
        }
      ]
    },
    {
      "cell_type": "markdown",
      "source": [
        "## Append example: Receive n inputs from the user\n",
        "\n",
        "* **Problem**: This time we will create a new list based on user's inputs.\n",
        "* **Solution**: Using `append()` to add inputs to the list\n"
      ],
      "metadata": {
        "id": "LB28vm3DDJXS"
      }
    },
    {
      "cell_type": "code",
      "source": [
        "n = int(input(\"Enter n: \"))\n",
        "age_list = [] # empty list\n",
        "for _ in range(n):\n",
        "  age = int(input(\"Enter age: \"))\n",
        "  age_list.append(age)\n",
        "print(f\"The age list is {age_list}\")"
      ],
      "metadata": {
        "colab": {
          "base_uri": "https://localhost:8080/"
        },
        "id": "WOCK8qIEDOg4",
        "outputId": "6740a938-5dd2-444a-bdf3-54c19ec4ba19"
      },
      "execution_count": 15,
      "outputs": [
        {
          "output_type": "stream",
          "name": "stdout",
          "text": [
            "Enter n: 4\n",
            "Enter age: 10\n",
            "Enter age: 15\n",
            "Enter age: 30\n",
            "Enter age: 45\n",
            "The age list is [10, 15, 30, 45]\n"
          ]
        }
      ]
    },
    {
      "cell_type": "markdown",
      "source": [
        "## insert() method\n",
        "* `insert(index, item)`: insert item at position index of the list\n"
      ],
      "metadata": {
        "id": "Boz9z4uGDh84"
      }
    },
    {
      "cell_type": "code",
      "source": [
        "numbers = [1, 2, 3, 4, 5]\n",
        "numbers.insert(2, 55)\n",
        "print(numbers)"
      ],
      "metadata": {
        "colab": {
          "base_uri": "https://localhost:8080/"
        },
        "id": "hn-lI-AeDlqG",
        "outputId": "078bc610-10cf-4429-9a47-2f0135732858"
      },
      "execution_count": 16,
      "outputs": [
        {
          "output_type": "stream",
          "name": "stdout",
          "text": [
            "[1, 2, 55, 3, 4, 5]\n"
          ]
        }
      ]
    },
    {
      "cell_type": "markdown",
      "source": [
        "## remove() method\n",
        "* `remove(item)` : removes the **first occurance** of item in the list\n",
        "* Raise ValueError exception if item is not in the list\n"
      ],
      "metadata": {
        "id": "beURLRakDrgt"
      }
    },
    {
      "cell_type": "code",
      "source": [
        "numbers = [1, 2, 3, 4, 5, 2]\n",
        "numbers.remove(2)\n",
        "print(numbers)"
      ],
      "metadata": {
        "colab": {
          "base_uri": "https://localhost:8080/"
        },
        "id": "3tgQBgbcDwzC",
        "outputId": "48e1dc58-469c-460c-9644-471d6d158511"
      },
      "execution_count": 17,
      "outputs": [
        {
          "output_type": "stream",
          "name": "stdout",
          "text": [
            "[1, 3, 4, 5, 2]\n"
          ]
        }
      ]
    },
    {
      "cell_type": "markdown",
      "source": [
        "## del built-in function\n",
        "\n",
        "* `del` statement: removes an element from a specific index in a list\n",
        "* **Syntax**: `del list[i]`\n"
      ],
      "metadata": {
        "id": "tj98Ug9eD2bE"
      }
    },
    {
      "cell_type": "code",
      "source": [
        "seq1 = [\"A\",\"B\",\"C\",\"D\",\"E\",\"F\"]\n",
        "\n",
        "del seq1[1]\n",
        "print(seq1)\n",
        "\n",
        "del seq1[-1]\n",
        "print(seq1)"
      ],
      "metadata": {
        "colab": {
          "base_uri": "https://localhost:8080/"
        },
        "id": "_n2D27VsD8G5",
        "outputId": "27342ecc-22fb-43c9-9bea-3c7e05314f77"
      },
      "execution_count": 18,
      "outputs": [
        {
          "output_type": "stream",
          "name": "stdout",
          "text": [
            "['A', 'C', 'D', 'E', 'F']\n",
            "['A', 'C', 'D', 'E']\n"
          ]
        }
      ]
    },
    {
      "cell_type": "markdown",
      "source": [
        "## Useful built-in functions\n",
        "\n",
        "* `min` and `max` functions: returns the minimum and maximum values in the list.\n",
        "* `sum` function: returns the sum of all values in the list\n"
      ],
      "metadata": {
        "id": "Wgg1iRf9EBKI"
      }
    },
    {
      "cell_type": "code",
      "source": [
        "numbers = [1, 2, 3, 4, 5]\n",
        "\n",
        "print(\"The minimum value is \", min(numbers))\n",
        "print(\"The maximum value is \", max(numbers))\n",
        "print(\"The sum is \", sum(numbers))"
      ],
      "metadata": {
        "id": "tnhWFwH2EFQA"
      },
      "execution_count": null,
      "outputs": []
    },
    {
      "cell_type": "markdown",
      "source": [
        "## List Referencing\n",
        "* Consider a case when you create a list and assign it to a variable.\n",
        "  * `list1 = [1,2,3,4]`\n",
        "* When you assign a list to another variable, the new variable will point to the same list in the memory. `list2 = list1`\n",
        "* The assignment just copies the reference to the list, not the actual list.\n",
        "\n",
        "&emsp;&emsp;&emsp;&emsp;&emsp;![function1.png](https://drive.google.com/uc?export=view&id=1O7Us32iHPMdx6-nSOTnh1EP7xKHDYX-n)\n"
      ],
      "metadata": {
        "id": "B2EqvSJdERJZ"
      }
    },
    {
      "cell_type": "code",
      "source": [
        "# List referencing\n",
        "list1 = [1, 2, 3, 4]\n",
        "list2 = list1\n",
        "\n",
        "print(f\"Before: list1 = {list1}, list2 = {list2}\")\n",
        "\n",
        "list1[1] = 0\n",
        "\n",
        "print(f\"After: list1 = {list1}, list2 = {list2}\")"
      ],
      "metadata": {
        "colab": {
          "base_uri": "https://localhost:8080/"
        },
        "id": "PPBskneJEZ9q",
        "outputId": "43ead31a-f88e-4461-aba9-93f4a6bad8ca"
      },
      "execution_count": 19,
      "outputs": [
        {
          "output_type": "stream",
          "name": "stdout",
          "text": [
            "Before: list1 = [1, 2, 3, 4], list2 = [1, 2, 3, 4]\n",
            "After: list1 = [1, 0, 3, 4], list2 = [1, 0, 3, 4]\n"
          ]
        }
      ]
    },
    {
      "cell_type": "markdown",
      "source": [
        "## Copying list: method\n",
        "* To make a copy of a list you must copy each element of the list"
      ],
      "metadata": {
        "id": "KyDW8tuGEYxF"
      }
    },
    {
      "cell_type": "code",
      "source": [
        "# Copying method 1:\n",
        "# Create a new empty list and loop to add the old list into it\n",
        "\n",
        "list1 = [1, 2, 3, 4]\n",
        "list2 = []\n",
        "for item in list1:\n",
        "  list2.append(item)\n",
        "\n",
        "list1[1] = 0\n",
        "print(f\"After: list1 = {list1}, list2 = {list2}\")"
      ],
      "metadata": {
        "colab": {
          "base_uri": "https://localhost:8080/"
        },
        "id": "KiTEAvpvEpES",
        "outputId": "15511ffb-9d24-4ca5-ac06-e0ef51a81268"
      },
      "execution_count": 20,
      "outputs": [
        {
          "output_type": "stream",
          "name": "stdout",
          "text": [
            "After: list1 = [1, 0, 3, 4], list2 = [1, 2, 3, 4]\n"
          ]
        }
      ]
    },
    {
      "cell_type": "code",
      "source": [
        "# Copying method 2:\n",
        "# Create a new empty list and concate the old list\n",
        "\n",
        "list1 = [1, 2, 3, 4]\n",
        "list2 = [] + list1\n",
        "\n",
        "list1[1] = 0\n",
        "print(f\"After: list1 = {list1}, list2 = {list2}\")"
      ],
      "metadata": {
        "colab": {
          "base_uri": "https://localhost:8080/"
        },
        "id": "cHbIWHcbE6Cy",
        "outputId": "57710c9a-4d01-4711-828f-3f98c41dbe42"
      },
      "execution_count": 21,
      "outputs": [
        {
          "output_type": "stream",
          "name": "stdout",
          "text": [
            "After: list1 = [1, 0, 3, 4], list2 = [1, 2, 3, 4]\n"
          ]
        }
      ]
    },
    {
      "cell_type": "markdown",
      "source": [
        "## Two-dimensional list\n",
        "* The items in the list can be other lists.\n",
        "* Two-dimensional list: a list that contains other lists as its elements\n",
        "* Common to think of two-dimensional lists as a table having rows and columns\n"
      ],
      "metadata": {
        "id": "Q0etisvtFDiE"
      }
    },
    {
      "cell_type": "markdown",
      "source": [
        "## Two-dimensional lists Examples"
      ],
      "metadata": {
        "id": "i8wRr0pOFJPB"
      }
    },
    {
      "cell_type": "code",
      "source": [
        "# 2d-list ex1:\n",
        "students = [[\"Joe\",\"Kim\"],[\"Sam\",\"Sue\"],[\"Kelly\",\"Chris\"]]\n",
        "print(students)\n",
        "print(students[0])\n",
        "print(students[0][1])"
      ],
      "metadata": {
        "colab": {
          "base_uri": "https://localhost:8080/"
        },
        "id": "DaZuhD-YFLsz",
        "outputId": "55fb5811-c9d8-4c96-a4e7-088b4a0c475d"
      },
      "execution_count": 22,
      "outputs": [
        {
          "output_type": "stream",
          "name": "stdout",
          "text": [
            "[['Joe', 'Kim'], ['Sam', 'Sue'], ['Kelly', 'Chris']]\n",
            "['Joe', 'Kim']\n",
            "Kim\n"
          ]
        }
      ]
    },
    {
      "cell_type": "code",
      "source": [
        "# 2d-list ex2:\n",
        "## Create a 2d board\n",
        "board = [[1,2,3],\n",
        "         [4,5,6],\n",
        "         [7,8,9]]\n",
        "\n",
        "for i in range(len(board)):\n",
        "  for j in range(len(board[i])):\n",
        "    board[i][j] = board[i][j]**2\n",
        "print(board)"
      ],
      "metadata": {
        "colab": {
          "base_uri": "https://localhost:8080/"
        },
        "id": "XUXYZ_0lFXzE",
        "outputId": "de8ac4c0-e03e-4a16-9312-422815d8fc84"
      },
      "execution_count": 23,
      "outputs": [
        {
          "output_type": "stream",
          "name": "stdout",
          "text": [
            "[[1, 4, 9], [16, 25, 36], [49, 64, 81]]\n"
          ]
        }
      ]
    }
  ]
}