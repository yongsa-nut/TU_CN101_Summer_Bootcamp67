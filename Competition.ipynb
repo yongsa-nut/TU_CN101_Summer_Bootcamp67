{
  "nbformat": 4,
  "nbformat_minor": 0,
  "metadata": {
    "colab": {
      "provenance": [],
      "authorship_tag": "ABX9TyNKFFrbzi3JPzCa+FXd5FyQ",
      "include_colab_link": true
    },
    "kernelspec": {
      "name": "python3",
      "display_name": "Python 3"
    },
    "language_info": {
      "name": "python"
    }
  },
  "cells": [
    {
      "cell_type": "markdown",
      "metadata": {
        "id": "view-in-github",
        "colab_type": "text"
      },
      "source": [
        "<a href=\"https://colab.research.google.com/github/yongsa-nut/TU_CN101_Summer_Bootcamp67/blob/main/Competition.ipynb\" target=\"_parent\"><img src=\"https://colab.research.google.com/assets/colab-badge.svg\" alt=\"Open In Colab\"/></a>"
      ]
    },
    {
      "cell_type": "markdown",
      "source": [
        "# Competition\n",
        "\n",
        "The competition consists of 5 short answers and 5 programming questions, in total of 35 points. The competition is last for 3 hours."
      ],
      "metadata": {
        "id": "X0kU6ZUX_AK1"
      }
    },
    {
      "cell_type": "markdown",
      "source": [
        "## Short Answers (5 Points)"
      ],
      "metadata": {
        "id": "NFgT-yNO-gZJ"
      }
    },
    {
      "cell_type": "markdown",
      "source": [
        "**Q1**: Fill in the code below so that the program print out the sum of two numbers as shown below.\n",
        "\n",
        "```\n",
        "Enter your first number: 3\n",
        "Enter your second number: 4\n",
        "The sum of 3 and 4 is 7.\n",
        "```"
      ],
      "metadata": {
        "id": "zctPfmnDAbVo"
      }
    },
    {
      "cell_type": "code",
      "source": [
        "\n",
        "\n"
      ],
      "metadata": {
        "id": "dOeRciK0AakG"
      },
      "execution_count": null,
      "outputs": []
    },
    {
      "cell_type": "markdown",
      "source": [
        "**Q2**: Fill in the code below so that the the ticket's price is discounted by 10% if the user's height is less than or equal 120 cm."
      ],
      "metadata": {
        "id": "NZOFKTpVBExB"
      }
    },
    {
      "cell_type": "code",
      "execution_count": null,
      "metadata": {
        "id": "90O8fE0Y-Mbs"
      },
      "outputs": [],
      "source": [
        "height = int(input(\"Enter your height: \"))\n",
        "ticket_price = 500\n",
        "if _________________:\n",
        "    __________________   # 10% discount\n",
        "print(ticket_price)"
      ]
    },
    {
      "cell_type": "markdown",
      "source": [
        "**Q3** Fill in the code below so that the program prints out \"Hello World!\" ``n`` times, where ``n`` is the input from the user."
      ],
      "metadata": {
        "id": "61cyRgl6B2HQ"
      }
    },
    {
      "cell_type": "code",
      "source": [
        "n = int(input(\"Enter n: \"))\n",
        "\n"
      ],
      "metadata": {
        "id": "PKODFcTrCEQr"
      },
      "execution_count": null,
      "outputs": []
    },
    {
      "cell_type": "markdown",
      "source": [
        "**Q4**: Fill in the code below so that the program prints out a new list that only contains even numbers. Your code must work with any lists of numbers."
      ],
      "metadata": {
        "id": "cQo3anXQCD3H"
      }
    },
    {
      "cell_type": "code",
      "source": [
        "my_list = [1, 2, 3, 4, 5, 6, 7, 8, 9, 10]\n",
        "\n",
        "new_list = []\n",
        "## Fill in your code here.\n",
        "\n",
        "\n",
        "\n",
        "print(new_list)"
      ],
      "metadata": {
        "id": "HmKqP2rsC5K8"
      },
      "execution_count": null,
      "outputs": []
    },
    {
      "cell_type": "markdown",
      "source": [
        "**Q5:** Fill in the code below so that the program prints out ``2``."
      ],
      "metadata": {
        "id": "ZoOfVx1HDCgl"
      }
    },
    {
      "cell_type": "code",
      "source": [
        "my_list = ['AAA','BBB','AAA','CCC','AAA','BBB','DDD']\n",
        "my_dict = {}\n",
        "for word in my_list:\n",
        "  my_dict[word] = my_dict.get(word, 0) + 1\n",
        "print(my_dict[_____]) #Fill in your answer here"
      ],
      "metadata": {
        "id": "EMzaSRt2DCI6"
      },
      "execution_count": null,
      "outputs": []
    },
    {
      "cell_type": "markdown",
      "source": [
        "## Programming (30 points)"
      ],
      "metadata": {
        "id": "ix0ZTZk_Fpc9"
      }
    },
    {
      "cell_type": "markdown",
      "source": [
        "**Q6** (5 points): Cylinder's properties\n",
        "\n",
        "Implement a program to calculate two properties of a cylinder: total surface area = $2πr(r+h)$ and volume = $πr^2h$, where $r$ is the radius of the cylinder and $h$ is the height of the cylinder.\n",
        "\n",
        "**Input:**\n",
        "- $r$ a real number represents the cylinder's radius.\n",
        "- $h$ a real number represents the cylinder's height.\n",
        "\n",
        "**Output:**\n",
        "- The total surface area in two decimals as shown below in examples\n",
        "- The volume in two decimals as shown below in examples.\n",
        "\n",
        "**Requirements**\n",
        "- You must implement a function ``cylinder_properties`` that takes in $r$ and $h$ and return the total surface area and volumne.\n",
        "- You must implement a function ``main`` that asks the users for $r$ and $h$ and call function ``cylinder_properties``.\n",
        "\n",
        "Example 1:\n",
        "```\n",
        "Enter r: 1\n",
        "Enter h: 1\n",
        "Total surface area: 12.57\n",
        "Volume: 3.14\n",
        "```\n",
        "\n",
        "Example 2:\n",
        "```\n",
        "Enter r: 3\n",
        "Enter h: 4\n",
        "Total surface area: 131.95\n",
        "Volume: 113.10\n",
        "```"
      ],
      "metadata": {
        "id": "SDQiOxs9Fu5h"
      }
    },
    {
      "cell_type": "code",
      "source": [
        "# import\n",
        "import math\n",
        "\n",
        "def cylinder_properties(r, h):\n",
        "  # Fill in your code here\n",
        "\n",
        "\n",
        "def main():\n",
        "  # Fill in your code here\n",
        "\n",
        "\n",
        "main()"
      ],
      "metadata": {
        "id": "zZgqWf6SFxRJ"
      },
      "execution_count": null,
      "outputs": []
    },
    {
      "cell_type": "markdown",
      "source": [
        "**Q7**: (5 points) DNA pairs\n",
        "\n",
        "Write function ``count_dna_pairs`` to count the number of DNAs which has the first two characters the same as the last two characters.  For example,  'AACGTTAA'. The first two are 'AA' and the last two are 'AA'. If the DNA sequence only contains one character, it does not count.\n",
        "\n",
        "**Input**:\n",
        "- A list of DNA (string)\n",
        "\n",
        "**Output**:\n",
        "- One integer indicates the number of DNAs that satisfy the condition.\n",
        "\n",
        "Example 1:\n",
        "```\n",
        "count_dna_pairs(['AAGTAA','GGTTAC','CGTA'])\n",
        "1\n",
        "```\n",
        "\n",
        "Example 2:\n",
        "```\n",
        "count_dna_pairs(['GGGGGGG','AACCTT','AAGGCCTT','TTAAAGTT','CATAGATACA','GCTAGCTA','TAGGCCAT'])\n",
        "3\n",
        "```\n",
        "\n",
        "Example 3:\n",
        "```\n",
        "count_dna_pairs(['A','AA','AAA'])\n",
        "2\n",
        "```"
      ],
      "metadata": {
        "id": "vNpvr28qFxjp"
      }
    },
    {
      "cell_type": "code",
      "source": [
        "def count_dna_pairs(DNAs):\n",
        "  count = 0\n",
        "  # fill in your code below\n",
        "\n",
        "  return count\n",
        "\n",
        "def main():\n",
        "  # Example 1\n",
        "  DNAs = ['AAGTAA','GGTTAC','CGTA']\n",
        "  print(count_dna_pairs(DNAs))  # 1\n",
        "\n",
        "  # Example 2\n",
        "  DNAs = ['GGGGGGG','AACCTT','AAGGCCTT','TTAAAGTT','CATAGATACA','GCTAGCTA','TAGGCCAT']\n",
        "  print(count_dna_pairs(DNAs)) # 3\n",
        "\n",
        "  # Example 3\n",
        "  DNAs = ['A','AA','AAA']\n",
        "  print(count_dna_pairs(DNAs)) # 2\n",
        "\n",
        "main()"
      ],
      "metadata": {
        "id": "RrQzWKhMFyyK"
      },
      "execution_count": null,
      "outputs": []
    },
    {
      "cell_type": "markdown",
      "source": [
        "**Q8**: (5 points) Preprocessing \"Select all that apply\"\n",
        "\n",
        "Consider the following question that allows users to select multiple answers.\n",
        "\n",
        "```\n",
        "Q: What fruits do you like? Select all that apply.\n",
        "\n",
        "[ ] Apple\n",
        "\n",
        "[ ] Banana\n",
        "\n",
        "[ ] Orange\n",
        "```\n",
        "\n",
        "The answer to this question has the following format: ``V_A:V_B:V_O``, where ``V_A``, ``V_B``, and ``V_O`` are the answer to each choice and can be either 'Y' (yes) or 'N' (no).\n",
        "\n",
        "For example, if the user selects banana and orange, the answer will be ``N:Y:Y``.\n",
        "\n",
        "In this question, your program will receive the data from multiple users separated by commas. Your job is to preprocess this data by creating three new lists, one for each choice (Apple, Banana, Orange) containing either 'N' or 'Y' and print them out in order.  \n",
        "\n",
        "**Input**:\n",
        "- A string: the data containing the answer from multiple users\n",
        "\n",
        "**Output**:\n",
        "- Three lines, one for each list.\n",
        "\n",
        "**Requirements**:\n",
        "- You must implement ``preprocess_answers`` which takes in the data (a string) and return three values, one for each list.\n",
        "\n",
        "Example 1\n",
        "```\n",
        "Enter the data: N:N:N,N:N:Y,Y:Y:Y\n",
        "Apple: ['N', 'N', 'Y']\n",
        "Banana: ['N', 'N', 'Y']\n",
        "Orange: ['N', 'Y', 'Y']\n",
        "```\n",
        "\n",
        "Example 2\n",
        "```\n",
        "Enter the data: N:N:Y,Y:Y:N,N:N:N,Y:Y:Y,N:N:N,Y:N:Y\n",
        "Apple: ['N', 'Y', 'N', 'Y', 'N', 'Y']\n",
        "Banana: ['N', 'Y', 'N', 'Y', 'N', 'N']\n",
        "Orange: ['Y', 'N', 'N', 'Y', 'N', 'Y']\n",
        "```\n"
      ],
      "metadata": {
        "id": "2OHCeF6_FzYz"
      }
    },
    {
      "cell_type": "code",
      "source": [
        "def preprocess_answers(data):\n",
        "  # fill in your code below\n",
        "\n",
        "def main():\n",
        "  data = input(\"Enter the data: \")\n",
        "  apple_list, banana_list, orange_list = preprocess_answers(data)\n",
        "  print(\"Apple:\", apple_list)\n",
        "  print(\"Banana:\", banana_list)\n",
        "  print(\"Orange:\", orange_list)\n",
        "\n",
        "main()"
      ],
      "metadata": {
        "id": "lDDvGzlPFzpz"
      },
      "execution_count": null,
      "outputs": []
    },
    {
      "cell_type": "markdown",
      "source": [
        "**Q9** (5 points): Highest Student Score\n",
        "\n",
        "You are given an $\\texttt{m x n}$ integer table where $\\texttt{scores[i][j]}$ is the score of the $i$th student has in the $j$th exam. Return the highest total score that the best student has.\n",
        "\n",
        "Examples:\n",
        "\n",
        "Ex1:\n",
        "```\n",
        "Function call: highest_total_score([[1,2,3],[3,2,1]])\n",
        "Return: 6\n",
        "```\n",
        "Explanation:\n",
        "\n",
        "* 1st student has total score = 1 + 2 + 3 = 6\n",
        "* 2nd student has total score = 3 + 2 + 1 = 6\n",
        "* Both students got the total score of 6 which is the higest, so return 6.\n",
        "\n",
        "Ex2:\n",
        "```\n",
        "Function call: highest_total_score([[1,5],[7,3],[3,5]])\n",
        "Return: 10\n",
        "```\n",
        "\n",
        "Explanation:\n",
        "* 1st student has the total score = 6\n",
        "* 2nd student has the total score = 10\n",
        "* 3rd student has the total score = 8\n",
        "* The 2nd student has the higest total score of 10.\n",
        "\n",
        "Ex3:\n",
        "```\n",
        "Function call: highest_total_score([[2,8,7],[7,1,3],[1,9,5]])\n",
        "Return: 17\n",
        "```"
      ],
      "metadata": {
        "id": "XH0Z5zFnF1Ns"
      }
    },
    {
      "cell_type": "code",
      "source": [
        "def highest_total_score(scores):\n",
        "  # fill in your code below\n",
        "  max_total_score = 0\n",
        "\n",
        "\n",
        "  return max_total_score\n",
        "\n",
        "def main():\n",
        "  # Example 1\n",
        "  scores = [[1,2,3],[3,2,1]]\n",
        "  print(highest_total_score(scores))\n",
        "\n",
        "  # Example 2\n",
        "  scores = [[1,5],[7,3],[3,5]]\n",
        "  print(highest_total_score(scores))\n",
        "\n",
        "  # Example 3\n",
        "  scores = [[2,8,7],[7,1,3],[1,9,5]]\n",
        "  print(highest_total_score(scores))\n",
        "main()"
      ],
      "metadata": {
        "id": "xcahQp4EF17X"
      },
      "execution_count": null,
      "outputs": []
    },
    {
      "cell_type": "markdown",
      "source": [
        "**Q10**: (10 points) Covariance\n",
        "\n",
        "Implement a program to calculate the covariance between two sequences of numbers. Let 𝐱 and 𝒚 be the sequenes of numbers of size $n$. The covariance between the two can be calculated as follow:\n",
        "\n",
        "$cov(𝐱,𝒚) = \\frac{1}{n}\\sum_{i=1}^n(x_i - x̄)(y_i - ȳ)$,\n",
        "\n",
        "where $x̄$ and $ȳ$ are the means (or average) of 𝐱 and 𝒚, respectively. The mean formula is $x̄ = \\frac{1}{n}\\sum_{i=1}^n(x_i)$.\n",
        "\n",
        "**Input**:\n",
        "- 𝐱 a sequence of numbers from the user.\n",
        "- 𝒚 a sequence of numbers from the user.\n",
        "\n",
        "**Output**:\n",
        "- Covariance.\n",
        "\n",
        "**Requirements**:\n",
        "- You must implement a function ``mean`` which takes in **a list of numbers** and return the mean of that list.\n",
        "- You must implement a function ``covariance`` which takes in **two lists of numbers** and return the covariance between them.\n",
        "- ``main`` function is already provieded for you. It includes examples below.\n",
        "\n",
        "Example 1:\n",
        "```\n",
        "Function call: covariance([0, 0, 1], [1, 4, 4])\n",
        "Covariance: 0.3333333333333333\n",
        "```\n",
        "Explanation:\n",
        "𝐱 = [0,0,1], 𝒚 = [1, 4, 4]\n",
        "$x̄ = (0+0+1)/3 = 1/3.$ $ȳ = (1 + 4 + 4)/3 = 3$\n",
        "\n",
        "$cov = [(0 - 1/3)×(1 - 3) + (0 - 1/3)×(4-3) + (1 - 1/3)(4-3)]/3 = 0.333...$\n",
        "\n",
        "Example 2:\n",
        "```\n",
        "covariance([1, 2, 3, 4, 5], [2, 2, 3, 4, 4])\n",
        "Covariance: 1.2\n",
        "```\n",
        "\n",
        "Example 3:\n",
        "```\n",
        "cov = covariance([1, 2, 3, 4, 5], [1, 1, 1, 1, 1])\n",
        "Covariance: 0.0\n",
        "```"
      ],
      "metadata": {
        "id": "pyR5sEbXLS_0"
      }
    },
    {
      "cell_type": "code",
      "source": [
        "def mean(numbers):\n",
        "  # Calculate the mean of a list of numbers.\n",
        "\n",
        "\n",
        "def covariance(x, y):\n",
        "  # Calculate the covariance between two lists of numbers.\n",
        "\n",
        "\n",
        "def main():\n",
        "  # Example 1\n",
        "  cov = covariance([0, 0, 1], [1, 4, 4])\n",
        "  print(f\"Covariance: {cov}\") # The answer is 0.3333333333333333\n",
        "\n",
        "  # Example 2\n",
        "  cov = covariance([1, 2, 3, 4, 5], [2, 2, 3, 4, 4])\n",
        "  print(f\"Covariance: {cov}\") # The answer is 1.2\n",
        "\n",
        "  # Example 3\n",
        "  cov = covariance([1, 2, 3, 4, 5], [1, 1, 1, 1, 1])\n",
        "  print(f\"Covariance: {cov}\") # The answer is 0\n",
        "\n",
        "main()"
      ],
      "metadata": {
        "id": "hlcDv-5SLSr0"
      },
      "execution_count": null,
      "outputs": []
    }
  ]
}