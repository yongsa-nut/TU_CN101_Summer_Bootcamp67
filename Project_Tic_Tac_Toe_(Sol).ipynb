{
  "nbformat": 4,
  "nbformat_minor": 0,
  "metadata": {
    "colab": {
      "provenance": [],
      "authorship_tag": "ABX9TyPRvpO+ovrZGbqrUVdVcUQr",
      "include_colab_link": true
    },
    "kernelspec": {
      "name": "python3",
      "display_name": "Python 3"
    },
    "language_info": {
      "name": "python"
    }
  },
  "cells": [
    {
      "cell_type": "markdown",
      "metadata": {
        "id": "view-in-github",
        "colab_type": "text"
      },
      "source": [
        "<a href=\"https://colab.research.google.com/github/yongsa-nut/TU_CN101_Summer_Bootcamp67/blob/main/Project_Tic_Tac_Toe_(Sol).ipynb\" target=\"_parent\"><img src=\"https://colab.research.google.com/assets/colab-badge.svg\" alt=\"Open In Colab\"/></a>"
      ]
    },
    {
      "cell_type": "markdown",
      "source": [
        "## Tic-Tac-Toe\n",
        "\n",
        "For the project, you will implement the game of Tic-Tac-Toe.\n",
        "\n",
        "Tic-Tac-Toe (or XO) is a two-player game that is played on a 3x3 grid. The players take turns marking spaces on the grid with their assigned symbol, an \"X\" for (1st player) or an \"O\" (2nd player). The objective of the game is to be the first player to get three of their symbols in a straight line, either horizontally, vertically, or diagonally. If all nine spaces on the grid are filled without either player achieving three in a row, the game ends in a draw.\n",
        "\n",
        "What you need to implement for this question are as follows.\n",
        "\n",
        "0) Setup: `'_'` is an empty space. `'X'` is the first player. `'O'` is the second player. We will use a 2D list to represent the game board. The initial board would be `board = [['_','_','_'],['_','_','_'],['_','_','_']]`.\n",
        "\n",
        "1) A function `main` as the main game loop to run the game.\n",
        "\n",
        "- Initialization.\n",
        "  - Empty board\n",
        "  - turn\n",
        "\n",
        "- The game loop: while no winner and not full board:\n",
        "  - print the board\n",
        "  - Get the next move from the current player.\n",
        "  - Update the board\n",
        "  - Update the turn\n",
        "- print the final board\n",
        "- print the result\n",
        "\n",
        "2) A function `print_board(board)` to print the board from the given 2d list. If you finish early, consider print the board more beautifully.\n",
        "\n",
        "Example:\n",
        "```\n",
        "test_board = [['_','X','_'],['_','O','_'],['_','_','X']]\n",
        "print_board(test_board)\n",
        "['_','X','_']\n",
        "['_','O','_']\n",
        "['_','_','X']\n",
        "```\n",
        "\n",
        "3) A function `check_winner(board)` to determine the winner ('X', 'O', or 'None'). Check horizontal and vertical using for-loop.\n",
        "\n",
        "Examples:\n",
        "```\n",
        "test_board = [['_','X','_'],['_','O','_'],['_','_','X']]\n",
        "check_winner(test_board)\n",
        "'None'\n",
        "```\n",
        "\n",
        "```\n",
        "test_board = [['X','X','X'],['_','O','O'],['_','_','_']]\n",
        "check_winner(test_board)\n",
        "'X'\n",
        "```\n",
        "\n",
        "```\n",
        "test_board = [['X','X','_'],['O','O','O'],['X','X','_']]\n",
        "check_winner(test_board)\n",
        "'O'\n",
        "```\n",
        "\n",
        "```\n",
        "test_board = [['X','_','_'],['_','X','_'],['O','O','X']]\n",
        "check_winner(test_board)\n",
        "'X'\n",
        "```\n",
        "\n",
        "4) A function `is_empty(board)` to check whether there is an empty space. Use for loop.\n",
        "\n",
        "Examples:\n",
        "```\n",
        "test_board = [['X','_','_'],['_','X','_'],['O','O','X']]\n",
        "is_empty(test_board)\n",
        "True\n",
        "```\n",
        "\n",
        "```\n",
        "test_board = [['X','O','X'],['X','X','O'],['O','O','X']]\n",
        "is_empty(test_board)\n",
        "False\n",
        "```\n",
        "\n",
        "5) A function `get_next_move()` to get the next move from the user and return **two numbers**, row and column of the next move.\n",
        "The program will only ask the user for one input, both row and column, from the user.\n",
        "  ```\n",
        "  Enter the next X's move: 0 0\n",
        "  ```\n",
        "\n",
        "\n",
        "**Recommendations**\n",
        "- Implement and test each function one by one.\n",
        "- Test your game or play with your friends."
      ],
      "metadata": {
        "id": "0OnCiwC9C-S5"
      }
    },
    {
      "cell_type": "code",
      "source": [
        "test_board = [['O','_','_'],['_','X','_'],['_','_','_']] # for testing your function\n",
        "\n",
        "# print_board function\n",
        "def print_board(board):\n",
        "  # print one row at a time\n",
        "  for row in board:\n",
        "    print(row)\n",
        "\n",
        "print_board(test_board)"
      ],
      "metadata": {
        "id": "Zupz5xziGCpq",
        "outputId": "46710cfe-c571-445c-eddc-ad64dc3ce24a",
        "colab": {
          "base_uri": "https://localhost:8080/"
        }
      },
      "execution_count": null,
      "outputs": [
        {
          "output_type": "stream",
          "name": "stdout",
          "text": [
            "['O', '_', '_']\n",
            "['_', 'X', '_']\n",
            "['_', '_', '_']\n"
          ]
        }
      ]
    },
    {
      "cell_type": "code",
      "source": [
        "test_board = [['X','_','_'],['_','_','O'],['_','_','X']] # for testing your function\n",
        "\n",
        "# check_winner function\n",
        "def check_winner(board):\n",
        "  # horizontal\n",
        "  for i in range(3):\n",
        "    if board[i][0] == board[i][1] and board[i][1] == board[i][2] and board[i][0] != '_':\n",
        "      return board[i][0]\n",
        "  # vertical\n",
        "  for j in range(3):\n",
        "    if board[0][j] == board[1][j] and board[1][j] == board[2][j] and board[0][j] != '_':\n",
        "      return board[0][j]\n",
        "  # diag\n",
        "  if board[0][0] == board[1][1] and board[1][1] == board[2][2] and board[0][0] != '_':\n",
        "    return board[0][0] # Have to be 'X' or 'O'\n",
        "  if board[0][2] == board[1][1] and board[1][1] == board[2][0] and board[0][2] != '_':\n",
        "    return board[0][2]\n",
        "\n",
        "  return 'None'\n",
        "\n",
        "check_winner(test_board)"
      ],
      "metadata": {
        "id": "vlVp6g9JGE2w",
        "outputId": "5270abdb-6efe-4c7a-f2e2-c6e5369bb146",
        "colab": {
          "base_uri": "https://localhost:8080/",
          "height": 35
        }
      },
      "execution_count": null,
      "outputs": [
        {
          "output_type": "execute_result",
          "data": {
            "text/plain": [
              "'None'"
            ],
            "application/vnd.google.colaboratory.intrinsic+json": {
              "type": "string"
            }
          },
          "metadata": {},
          "execution_count": 14
        }
      ]
    },
    {
      "cell_type": "code",
      "source": [
        "test_board = [['X','O','X'],['X','X','O'],['O','O','X']] # for testing your function\n",
        "\n",
        "# is_empty function\n",
        "def is_empty(board):\n",
        "  for i in range(3):\n",
        "    for j in range(3):\n",
        "      if board[i][j] == '_': #check empty\n",
        "        return True\n",
        "  return False\n",
        "\n",
        "is_empty(test_board)"
      ],
      "metadata": {
        "id": "GyxBoYUfGLsO",
        "outputId": "28f8dc30-6873-440e-94dc-5439bf12b16d",
        "colab": {
          "base_uri": "https://localhost:8080/"
        }
      },
      "execution_count": null,
      "outputs": [
        {
          "output_type": "execute_result",
          "data": {
            "text/plain": [
              "False"
            ]
          },
          "metadata": {},
          "execution_count": 10
        }
      ]
    },
    {
      "cell_type": "code",
      "source": [
        "# get_input function\n",
        "def get_input():\n",
        "  next_move = input('Next move: ')\n",
        "  next_move = next_move.split(\" \")\n",
        "  return int(next_move[0]), int(next_move[1])"
      ],
      "metadata": {
        "id": "xXqSpyb_GNPZ"
      },
      "execution_count": null,
      "outputs": []
    },
    {
      "cell_type": "code",
      "execution_count": null,
      "metadata": {
        "id": "YWIvQlz6C9Qr",
        "outputId": "20c5f1cb-110d-437d-bc78-717545ea9eeb",
        "colab": {
          "base_uri": "https://localhost:8080/"
        }
      },
      "outputs": [
        {
          "output_type": "stream",
          "name": "stdout",
          "text": [
            "['_', '_', '_']\n",
            "['_', '_', '_']\n",
            "['_', '_', '_']\n",
            "Current turn is X\n",
            "Next move: 0 0\n",
            "['X', '_', '_']\n",
            "['_', '_', '_']\n",
            "['_', '_', '_']\n",
            "Current turn is O\n",
            "Next move: 1 1\n",
            "['X', '_', '_']\n",
            "['_', 'O', '_']\n",
            "['_', '_', '_']\n",
            "Current turn is X\n",
            "Next move: 0 1\n",
            "['X', 'X', '_']\n",
            "['_', 'O', '_']\n",
            "['_', '_', '_']\n",
            "Current turn is O\n",
            "Next move: 2 2\n",
            "['X', 'X', '_']\n",
            "['_', 'O', '_']\n",
            "['_', '_', 'O']\n",
            "Current turn is X\n",
            "Next move: 0 2\n",
            "The winner is  X\n"
          ]
        }
      ],
      "source": [
        "# Don't forget to run all the functions above first\n",
        "def main():\n",
        "  board = [['_','_','_'],['_','_','_'],['_','_','_']]\n",
        "  turn = 'X' # First turn is X\n",
        "\n",
        "  # main game loop\n",
        "  while check_winner(board) == 'None' and is_empty(board) == True: # Game is not end\n",
        "    print_board(board)\n",
        "    print('Current turn is', turn)\n",
        "    row, col = get_input()\n",
        "    board[row][col] = turn\n",
        "    # update the turn\n",
        "    if turn == 'X':\n",
        "      turn = 'O'\n",
        "    else:\n",
        "      turn = 'X'\n",
        "  # Out of the loop\n",
        "  print_board(board)\n",
        "  print('The winner is ', check_winner(board))\n",
        "main()"
      ]
    }
  ]
}