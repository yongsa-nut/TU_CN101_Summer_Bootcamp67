{
  "nbformat": 4,
  "nbformat_minor": 0,
  "metadata": {
    "colab": {
      "provenance": [],
      "authorship_tag": "ABX9TyNi/ABGeoWnusXZypC6Ol0u",
      "include_colab_link": true
    },
    "kernelspec": {
      "name": "python3",
      "display_name": "Python 3"
    },
    "language_info": {
      "name": "python"
    }
  },
  "cells": [
    {
      "cell_type": "markdown",
      "metadata": {
        "id": "view-in-github",
        "colab_type": "text"
      },
      "source": [
        "<a href=\"https://colab.research.google.com/github/yongsa-nut/TU_CN101_Summer_Bootcamp67/blob/main/InputOutput.ipynb\" target=\"_parent\"><img src=\"https://colab.research.google.com/assets/colab-badge.svg\" alt=\"Open In Colab\"/></a>"
      ]
    },
    {
      "cell_type": "markdown",
      "source": [
        "**Q1**: Write a program to display the following texts\n",
        "\n",
        "```\n",
        "Hello Alice.\n",
        "Hello Bob.\n",
        "The weather is nice today.\n",
        "```"
      ],
      "metadata": {
        "id": "6Aa57CuSQEH1"
      }
    },
    {
      "cell_type": "code",
      "execution_count": null,
      "metadata": {
        "id": "8MT5wiNAO81d"
      },
      "outputs": [],
      "source": []
    },
    {
      "cell_type": "markdown",
      "source": [
        "**Q2**: Fill in the code below so that the program print out 12"
      ],
      "metadata": {
        "id": "Wb8pt2vURBxO"
      }
    },
    {
      "cell_type": "code",
      "source": [
        "x =    # fill in the value here\n",
        "y = 5\n",
        "print(x+y*2)"
      ],
      "metadata": {
        "id": "oBK8xL5IRBfq"
      },
      "execution_count": null,
      "outputs": []
    },
    {
      "cell_type": "markdown",
      "source": [
        "**Q3**: What will the following code print out?\n",
        "\n",
        "```\n",
        "x = 5\n",
        "x + 1\n",
        "y = 7\n",
        "x = x + 1\n",
        "y = y + x\n",
        "print(y)\n",
        "```"
      ],
      "metadata": {
        "id": "vAHPbI07SWoZ"
      }
    },
    {
      "cell_type": "code",
      "source": [
        "# write your answer below. You can try to copy and paste the code above to check your answer too.\n"
      ],
      "metadata": {
        "id": "e5Q7K1otSjQG"
      },
      "execution_count": null,
      "outputs": []
    },
    {
      "cell_type": "markdown",
      "source": [
        "**Q4**: Fill in the blanks (`__`) with mathematic operators so that the program print out\n",
        "\n",
        "```\n",
        "0 1 4 100\n",
        "```"
      ],
      "metadata": {
        "id": "cdKhCS76MKLZ"
      }
    },
    {
      "cell_type": "code",
      "source": [
        "print(f\"{6 __ 2} {7 __ 2} {9 __ 2} {10 __ 2}\")"
      ],
      "metadata": {
        "id": "ucgJIOTOMZhv"
      },
      "execution_count": null,
      "outputs": []
    },
    {
      "cell_type": "markdown",
      "source": [
        "**Q5**: Fill in the blank to ask the user for their name and print it out as shown below.\n",
        "\n",
        "```\n",
        "Enter your name: Alice\n",
        "Hello Alice!\n",
        "```\n"
      ],
      "metadata": {
        "id": "s2q48kdmNNIZ"
      }
    },
    {
      "cell_type": "code",
      "source": [
        "name = ____________________\n",
        "print(f\"Hello {name}!\")"
      ],
      "metadata": {
        "id": "Sa7hx2o9Ndya"
      },
      "execution_count": null,
      "outputs": []
    },
    {
      "cell_type": "markdown",
      "source": [
        "**Q6**: One of the lines below causes syntax error. Fix it."
      ],
      "metadata": {
        "id": "XMzjYfiCNk8Q"
      }
    },
    {
      "cell_type": "code",
      "source": [
        "a = int(input(\"Enter n:\"))\n",
        "a * 5 = a\n",
        "print(f\"a = {a:.5f}\")"
      ],
      "metadata": {
        "id": "4mTGmPcwOEGJ"
      },
      "execution_count": null,
      "outputs": []
    },
    {
      "cell_type": "markdown",
      "source": [
        "**Q7**: Temperature Convertor\n",
        "\n",
        "Write a program that takes in a temperature in Fahrenheit (F) from the user and convert it into Celsius (C) and print it out.\n",
        "\n",
        "The formula to convert F to C is C = (F-32)*5/9.\n",
        "\n",
        "The output should be in two decimals. You can format it using f-string as follows: ``print(f\"{temperature:.2f}\")``, where ``temperature`` is a variable.\n",
        "\n",
        "Example 1:\n",
        "```\n",
        "Enter Fahrenheit: 32\n",
        "0.00 Celsius.\n",
        "```\n",
        "\n",
        "Example 2:\n",
        "```\n",
        "Enter Fahrenheit: 100\n",
        "37.78 Celsius.\n",
        "```"
      ],
      "metadata": {
        "id": "UlU3rqnJSrOT"
      }
    },
    {
      "cell_type": "code",
      "source": [
        "\n",
        "\n",
        "\n"
      ],
      "metadata": {
        "id": "yrPf7wBHTnq8"
      },
      "execution_count": null,
      "outputs": []
    },
    {
      "cell_type": "markdown",
      "source": [
        "**Q8**: Cashier Program\n",
        "\n",
        "Write a cashier program to calculate the total payment. There are 4 items: cookie (5 baht), water (10 baht), soda (20 baht), and popcorn (30).\n",
        "\n",
        "**Input**:\n",
        "\n",
        "- The number of cookie\n",
        "- The number of water\n",
        "- The number of soda\n",
        "- The number of popcorn\n",
        "\n",
        "**Output**:\n",
        "\n",
        "- The total payment\n",
        "\n",
        "Example:\n",
        "\n",
        "```\n",
        "The number of cookie: 3\n",
        "The number of water: 2\n",
        "The number of soda: 0\n",
        "The number of popcorn: 1\n",
        "Total payment = 65 baht.\n",
        "```\n",
        "Explanation: 3x5 + 2x10 + 20x+ 30x1 = 65"
      ],
      "metadata": {
        "id": "6BpQo-D-Tq3w"
      }
    },
    {
      "cell_type": "code",
      "source": [
        "\n",
        "\n"
      ],
      "metadata": {
        "id": "DkNs29e8TqpU"
      },
      "execution_count": null,
      "outputs": []
    }
  ]
}